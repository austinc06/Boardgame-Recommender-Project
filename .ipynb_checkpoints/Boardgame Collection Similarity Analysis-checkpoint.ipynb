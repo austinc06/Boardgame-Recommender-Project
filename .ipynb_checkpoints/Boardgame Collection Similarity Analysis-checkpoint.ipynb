{
 "cells": [
  {
   "cell_type": "markdown",
   "metadata": {},
   "source": [
    "Title: Boardgame Collection Similarity Analysis <br>\n",
    "Author: Austin Chou <br>\n",
    "Date: 2018-10-20"
   ]
  },
  {
   "cell_type": "markdown",
   "metadata": {},
   "source": [
    "# Purpose\n",
    "\n",
    "The intent of this exercise is to:<br>\n",
    "\n",
    "1) Practice programming and data manipulation in python <br>\n",
    "2) Perform analysis on a topic of interest<br>\n",
    "3) Learn some data science techniques"
   ]
  },
  {
   "cell_type": "markdown",
   "metadata": {},
   "source": [
    "# Problem\n",
    "\n",
    "There are a variety of methods for building recommendation engines. I want to apply approaches for boardgames which is a personal hobby.\n",
    "\n",
    "The website \"https://boardgamegeek.com/\" has over 10000 ranked boardgames (includes expansions and variations of the same base boardgame). For new boardgame collectors and hobbyists, the number of choices is quite astronomical. Even if we reduce look at just the games released in the 2017, there are over 3000 boardgames.\n",
    "\n",
    "Thus the primary problem is to identify patterns to help recommend boardgames to people who are looking to grow their boardgame collection.  "
   ]
  },
  {
   "cell_type": "markdown",
   "metadata": {},
   "source": [
    "# Parameters\n",
    "\n",
    "Boardgames can be defined in many different ways. To keep analysis simple to start, I focus on two different parameters: <br>\n",
    "\n",
    "1) Mechanisms - primary playstyle of a game (e.g. Roll and Move, Storytelling, Area Control, etc)  <br>\n",
    "2) Categories - thematic elements of a game (e.g. Adventure, Age of Reason, Bluffing, Zombies, etc)"
   ]
  },
  {
   "cell_type": "markdown",
   "metadata": {},
   "source": [
    "# Hypothesis\n",
    "\n",
    "My primary hypothesis: most hobbyists starting out (< 50 games) look to grow their collection by buying <b>DISSIMILAR</b> games. For example, if you already own an Area Control game, you are more likely to buy a game with a different mechanic next.\n",
    "\n",
    "The underlying reasoning would be - at least among the gamers I've spoken with as well as myself - that people tend to want to have games for every occassion (at least early on). If your friends aren't in the mood for a Bluffing, Deduction game that night, you don't want to only have games of Bluffing, Deduction games on hand.\n",
    "\n",
    "Of course, there are niche collectors (e.g. those who collect the many different versions of Monopoly or Pandemic). And naturally, not every Category or Mechanisms will resonate and each gamer certainly develop their own preferences and curate their collection accordingly. It will be interesting to see if I can identify to what degree my initial hypothesis holds true."
   ]
  },
  {
   "cell_type": "markdown",
   "metadata": {},
   "source": [
    "# Approach\n",
    "\n",
    "1) Obtain the list of boardgames available on boardgamegeek <br>\n",
    "-I will initially limit the analysis to ranked boardgames only.\n",
    "\n",
    "2) Obtain the Categories and Mechanisms associated with each game individually\n",
    "\n",
    "3) Obtain a dataset of user collections of varying sizes\n",
    "\n",
    "4) Create a metric for boardgame Similarity based on Categories and Mechanics and apply that to user collections\n",
    "\n",
    "5) Implement a NLP approach to boardgame recommendation"
   ]
  },
  {
   "cell_type": "markdown",
   "metadata": {},
   "source": [
    "## Load appropriate functions, packages, and parameters"
   ]
  },
  {
   "cell_type": "code",
   "execution_count": 1,
   "metadata": {},
   "outputs": [],
   "source": [
    "# Load in functions\n",
    "%run functions-bgg_get.py\n",
    "\n",
    "# General libraries\n",
    "import pandas as pd\n",
    "import matplotlib.pyplot as plt\n",
    "import seaborn as sns\n",
    "import numpy as np\n",
    "%matplotlib inline\n",
    "\n",
    "# For webscraping\n",
    "from bs4 import BeautifulSoup\n",
    "import requests\n",
    "from time import time, sleep\n",
    "\n",
    "# Regular expression\n",
    "import re\n",
    "\n",
    "# Flags to rerun code chunks\n",
    "recollect = False\n",
    "reclean = False"
   ]
  },
  {
   "cell_type": "markdown",
   "metadata": {},
   "source": [
    "# Collect Mechanisms, Categories, and Boardgame list\n",
    "\n",
    "We want to collect the following data:\n",
    "\n",
    "1) List of all Mechanisms used by bgg\n",
    "\n",
    "2) List of all Categories used by bgg\n",
    "\n",
    "3) List of all ranked games listed on bgg. We will also grab the Rank and ID of the game on bgg.\n",
    "\n",
    "4) Compile a master list which details each game's Name, Rank, ID, #Players (player count), Playtime, Weight, Categories, Mechanisms, Total Categories, and Total Mechanics. This results in the following columns:<br>\n",
    "-Game name <br>\n",
    "-Game rank <br>\n",
    "-Game ID <br>\n",
    "-#players <br>\n",
    "-playtime <br>\n",
    "-Weight <br>\n",
    "-84 categories (each a unique column) <br>\n",
    "-51 mechanisms (eacn a unique column)<br>\n",
    "-total categories <br>\n",
    "-total mechanics"
   ]
  },
  {
   "cell_type": "markdown",
   "metadata": {},
   "source": [
    "The collection script takes several hours to finish due to the fact that collecting several thousand game information is fairly slow."
   ]
  },
  {
   "cell_type": "code",
   "execution_count": 96,
   "metadata": {
    "collapsed": true
   },
   "outputs": [],
   "source": [
    "if recollect:\n",
    "    %run script-collect_bgg_parameters.py"
   ]
  },
  {
   "cell_type": "code",
   "execution_count": 102,
   "metadata": {
    "scrolled": true
   },
   "outputs": [
    {
     "name": "stderr",
     "output_type": "stream",
     "text": [
      "2018-10-20 20:04:49 [py.warnings] WARNING: C:\\Anaconda3\\lib\\site-packages\\IPython\\core\\interactiveshell.py:2723: DtypeWarning: Columns (1) have mixed types. Specify dtype option on import or set low_memory=False.\n",
      "  interactivity=interactivity, compiler=compiler, result=result)\n",
      "\n"
     ]
    },
    {
     "data": {
      "text/html": [
       "<div>\n",
       "<table border=\"1\" class=\"dataframe\">\n",
       "  <thead>\n",
       "    <tr style=\"text-align: right;\">\n",
       "      <th></th>\n",
       "      <th>Game name</th>\n",
       "      <th>Game rank</th>\n",
       "      <th>Game ID</th>\n",
       "      <th>#players</th>\n",
       "      <th>playtime</th>\n",
       "      <th>weight</th>\n",
       "      <th>Abstract Strategy</th>\n",
       "      <th>Action / Dexterity</th>\n",
       "      <th>Adventure</th>\n",
       "      <th>Age of Reason</th>\n",
       "      <th>...</th>\n",
       "      <th>Tile Placement</th>\n",
       "      <th>Time Track</th>\n",
       "      <th>Trading</th>\n",
       "      <th>Trick-taking</th>\n",
       "      <th>Variable Phase Order</th>\n",
       "      <th>Variable Player Powers</th>\n",
       "      <th>Voting</th>\n",
       "      <th>Worker Placement</th>\n",
       "      <th>total categories</th>\n",
       "      <th>total mechanics</th>\n",
       "    </tr>\n",
       "  </thead>\n",
       "  <tbody>\n",
       "    <tr>\n",
       "      <th>0</th>\n",
       "      <td>Pandemic Legacy: Season 1</td>\n",
       "      <td>1.0</td>\n",
       "      <td>161936.0</td>\n",
       "      <td>4.0</td>\n",
       "      <td>60.0</td>\n",
       "      <td>2.810298</td>\n",
       "      <td>0.0</td>\n",
       "      <td>0.0</td>\n",
       "      <td>0.0</td>\n",
       "      <td>0.0</td>\n",
       "      <td>...</td>\n",
       "      <td>0.0</td>\n",
       "      <td>0.0</td>\n",
       "      <td>1.0</td>\n",
       "      <td>0.0</td>\n",
       "      <td>0.0</td>\n",
       "      <td>0.0</td>\n",
       "      <td>0.0</td>\n",
       "      <td>0.0</td>\n",
       "      <td>2.0</td>\n",
       "      <td>7.0</td>\n",
       "    </tr>\n",
       "    <tr>\n",
       "      <th>1</th>\n",
       "      <td>Through the Ages: A New Story of Civilization</td>\n",
       "      <td>2.0</td>\n",
       "      <td>182028.0</td>\n",
       "      <td>4.0</td>\n",
       "      <td>240.0</td>\n",
       "      <td>4.360444</td>\n",
       "      <td>0.0</td>\n",
       "      <td>0.0</td>\n",
       "      <td>0.0</td>\n",
       "      <td>0.0</td>\n",
       "      <td>...</td>\n",
       "      <td>0.0</td>\n",
       "      <td>0.0</td>\n",
       "      <td>0.0</td>\n",
       "      <td>0.0</td>\n",
       "      <td>0.0</td>\n",
       "      <td>0.0</td>\n",
       "      <td>0.0</td>\n",
       "      <td>0.0</td>\n",
       "      <td>3.0</td>\n",
       "      <td>3.0</td>\n",
       "    </tr>\n",
       "    <tr>\n",
       "      <th>2</th>\n",
       "      <td>Twilight Struggle</td>\n",
       "      <td>3.0</td>\n",
       "      <td>12333.0</td>\n",
       "      <td>2.0</td>\n",
       "      <td>180.0</td>\n",
       "      <td>3.546351</td>\n",
       "      <td>0.0</td>\n",
       "      <td>0.0</td>\n",
       "      <td>0.0</td>\n",
       "      <td>0.0</td>\n",
       "      <td>...</td>\n",
       "      <td>0.0</td>\n",
       "      <td>0.0</td>\n",
       "      <td>0.0</td>\n",
       "      <td>0.0</td>\n",
       "      <td>0.0</td>\n",
       "      <td>0.0</td>\n",
       "      <td>0.0</td>\n",
       "      <td>0.0</td>\n",
       "      <td>3.0</td>\n",
       "      <td>5.0</td>\n",
       "    </tr>\n",
       "    <tr>\n",
       "      <th>3</th>\n",
       "      <td>Gloomhaven</td>\n",
       "      <td>4.0</td>\n",
       "      <td>174430.0</td>\n",
       "      <td>4.0</td>\n",
       "      <td>120.0</td>\n",
       "      <td>3.783154</td>\n",
       "      <td>0.0</td>\n",
       "      <td>0.0</td>\n",
       "      <td>1.0</td>\n",
       "      <td>0.0</td>\n",
       "      <td>...</td>\n",
       "      <td>0.0</td>\n",
       "      <td>0.0</td>\n",
       "      <td>0.0</td>\n",
       "      <td>0.0</td>\n",
       "      <td>0.0</td>\n",
       "      <td>0.0</td>\n",
       "      <td>0.0</td>\n",
       "      <td>0.0</td>\n",
       "      <td>5.0</td>\n",
       "      <td>9.0</td>\n",
       "    </tr>\n",
       "    <tr>\n",
       "      <th>4</th>\n",
       "      <td>Star Wars: Rebellion</td>\n",
       "      <td>5.0</td>\n",
       "      <td>187645.0</td>\n",
       "      <td>4.0</td>\n",
       "      <td>240.0</td>\n",
       "      <td>3.614251</td>\n",
       "      <td>0.0</td>\n",
       "      <td>0.0</td>\n",
       "      <td>0.0</td>\n",
       "      <td>0.0</td>\n",
       "      <td>...</td>\n",
       "      <td>0.0</td>\n",
       "      <td>0.0</td>\n",
       "      <td>0.0</td>\n",
       "      <td>0.0</td>\n",
       "      <td>0.0</td>\n",
       "      <td>1.0</td>\n",
       "      <td>0.0</td>\n",
       "      <td>0.0</td>\n",
       "      <td>5.0</td>\n",
       "      <td>6.0</td>\n",
       "    </tr>\n",
       "  </tbody>\n",
       "</table>\n",
       "<p>5 rows × 143 columns</p>\n",
       "</div>"
      ],
      "text/plain": [
       "                                       Game name  Game rank   Game ID  \\\n",
       "0                      Pandemic Legacy: Season 1        1.0  161936.0   \n",
       "1  Through the Ages: A New Story of Civilization        2.0  182028.0   \n",
       "2                              Twilight Struggle        3.0   12333.0   \n",
       "3                                     Gloomhaven        4.0  174430.0   \n",
       "4                           Star Wars: Rebellion        5.0  187645.0   \n",
       "\n",
       "   #players  playtime    weight  Abstract Strategy  Action / Dexterity  \\\n",
       "0       4.0      60.0  2.810298                0.0                 0.0   \n",
       "1       4.0     240.0  4.360444                0.0                 0.0   \n",
       "2       2.0     180.0  3.546351                0.0                 0.0   \n",
       "3       4.0     120.0  3.783154                0.0                 0.0   \n",
       "4       4.0     240.0  3.614251                0.0                 0.0   \n",
       "\n",
       "   Adventure  Age of Reason       ...         Tile Placement  Time Track  \\\n",
       "0        0.0            0.0       ...                    0.0         0.0   \n",
       "1        0.0            0.0       ...                    0.0         0.0   \n",
       "2        0.0            0.0       ...                    0.0         0.0   \n",
       "3        1.0            0.0       ...                    0.0         0.0   \n",
       "4        0.0            0.0       ...                    0.0         0.0   \n",
       "\n",
       "   Trading  Trick-taking  Variable Phase Order  Variable Player Powers  \\\n",
       "0      1.0           0.0                   0.0                     0.0   \n",
       "1      0.0           0.0                   0.0                     0.0   \n",
       "2      0.0           0.0                   0.0                     0.0   \n",
       "3      0.0           0.0                   0.0                     0.0   \n",
       "4      0.0           0.0                   0.0                     1.0   \n",
       "\n",
       "   Voting  Worker Placement  total categories  total mechanics  \n",
       "0     0.0               0.0               2.0              7.0  \n",
       "1     0.0               0.0               3.0              3.0  \n",
       "2     0.0               0.0               3.0              5.0  \n",
       "3     0.0               0.0               5.0              9.0  \n",
       "4     0.0               0.0               5.0              6.0  \n",
       "\n",
       "[5 rows x 143 columns]"
      ]
     },
     "execution_count": 102,
     "metadata": {},
     "output_type": "execute_result"
    }
   ],
   "source": [
    "# Show what the collected dataframe looks like\n",
    "ga = pd.read_csv('bgg game attributes.csv', header=1)\n",
    "ga.drop(ga.columns[0], inplace=True, axis=1)\n",
    "ga.head()"
   ]
  },
  {
   "cell_type": "markdown",
   "metadata": {},
   "source": [
    "# Cleaning game_attributes dataset\n",
    "\n",
    "1) We should assume that any game without categories or mechanics can be removed.\n",
    "\n",
    "2) Noticed that if the # of categories or mechanics exceeded 6, the script doesn't \"see\" the extra categories/mechanics. We need to manually adjust the binary categories/mechanics for games with >6 categories/mechanics. We can identify these as a separate list and go through it manually."
   ]
  },
  {
   "cell_type": "markdown",
   "metadata": {},
   "source": [
    "The cleaning script outputs two csvs:\n",
    "\n",
    "1) A csv for every entry matching the criteria \">6 categories/mechanics\". These entries will need to be manually checked to add missing Categories or Mechanisms: bgg_games_for_manual.csv\n",
    "\n",
    "2) A csv for the cleaned dataset (without having accounted for manual adjustments): bgg_games_curated.csv"
   ]
  },
  {
   "cell_type": "code",
   "execution_count": 103,
   "metadata": {
    "collapsed": true
   },
   "outputs": [],
   "source": [
    "if reclean:\n",
    "    %run script-clean_game_attributes.py"
   ]
  },
  {
   "cell_type": "markdown",
   "metadata": {},
   "source": [
    "# Boardgame Similarity\n",
    "\n",
    "Let's approach determining a metric of boardgame similarity through a few approaches. We can use direct euclidean distance where every column of a game is a variable or we can perform some sort of dimensionality reduction. In any case, scaling the non-binary columns is necessary."
   ]
  },
  {
   "cell_type": "markdown",
   "metadata": {},
   "source": [
    "## Scaling the data"
   ]
  },
  {
   "cell_type": "code",
   "execution_count": 138,
   "metadata": {
    "collapsed": true
   },
   "outputs": [],
   "source": [
    "# Load csv of games after manually adjusting mechanisms and categories as\n",
    "#  mentioned in \"Cleaning game_attributes dataset\"\n",
    "ga = pd.read_csv('bgg game attributes edited.csv', header = 1)\n",
    "ga.drop(ga.columns[0], inplace=True, axis=1)\n",
    "\n",
    "scaled_ga = scale_dataframe(ga)"
   ]
  },
  {
   "cell_type": "code",
   "execution_count": 139,
   "metadata": {},
   "outputs": [
    {
     "data": {
      "text/html": [
       "<div>\n",
       "<table border=\"1\" class=\"dataframe\">\n",
       "  <thead>\n",
       "    <tr style=\"text-align: right;\">\n",
       "      <th></th>\n",
       "      <th>#players</th>\n",
       "      <th>playtime</th>\n",
       "      <th>weight</th>\n",
       "      <th>Abstract Strategy</th>\n",
       "      <th>Action / Dexterity</th>\n",
       "      <th>Adventure</th>\n",
       "      <th>Age of Reason</th>\n",
       "      <th>American Civil War</th>\n",
       "      <th>American Indian Wars</th>\n",
       "      <th>American Revolutionary War</th>\n",
       "      <th>...</th>\n",
       "      <th>Storytelling</th>\n",
       "      <th>Take That</th>\n",
       "      <th>Tile Placement</th>\n",
       "      <th>Time Track</th>\n",
       "      <th>Trading</th>\n",
       "      <th>Trick-taking</th>\n",
       "      <th>Variable Phase Order</th>\n",
       "      <th>Variable Player Powers</th>\n",
       "      <th>Voting</th>\n",
       "      <th>Worker Placement</th>\n",
       "    </tr>\n",
       "  </thead>\n",
       "  <tbody>\n",
       "    <tr>\n",
       "      <th>0</th>\n",
       "      <td>-0.088568</td>\n",
       "      <td>-0.048679</td>\n",
       "      <td>0.943120</td>\n",
       "      <td>0</td>\n",
       "      <td>0</td>\n",
       "      <td>0</td>\n",
       "      <td>0</td>\n",
       "      <td>0</td>\n",
       "      <td>0</td>\n",
       "      <td>0</td>\n",
       "      <td>...</td>\n",
       "      <td>0</td>\n",
       "      <td>0</td>\n",
       "      <td>0</td>\n",
       "      <td>0</td>\n",
       "      <td>1</td>\n",
       "      <td>0</td>\n",
       "      <td>0</td>\n",
       "      <td>1</td>\n",
       "      <td>0</td>\n",
       "      <td>0</td>\n",
       "    </tr>\n",
       "    <tr>\n",
       "      <th>1</th>\n",
       "      <td>-0.088568</td>\n",
       "      <td>0.241604</td>\n",
       "      <td>2.833330</td>\n",
       "      <td>0</td>\n",
       "      <td>0</td>\n",
       "      <td>0</td>\n",
       "      <td>0</td>\n",
       "      <td>0</td>\n",
       "      <td>0</td>\n",
       "      <td>0</td>\n",
       "      <td>...</td>\n",
       "      <td>0</td>\n",
       "      <td>0</td>\n",
       "      <td>0</td>\n",
       "      <td>0</td>\n",
       "      <td>0</td>\n",
       "      <td>0</td>\n",
       "      <td>0</td>\n",
       "      <td>0</td>\n",
       "      <td>0</td>\n",
       "      <td>0</td>\n",
       "    </tr>\n",
       "    <tr>\n",
       "      <th>2</th>\n",
       "      <td>-0.207549</td>\n",
       "      <td>0.144843</td>\n",
       "      <td>1.840645</td>\n",
       "      <td>0</td>\n",
       "      <td>0</td>\n",
       "      <td>0</td>\n",
       "      <td>0</td>\n",
       "      <td>0</td>\n",
       "      <td>0</td>\n",
       "      <td>0</td>\n",
       "      <td>...</td>\n",
       "      <td>0</td>\n",
       "      <td>0</td>\n",
       "      <td>0</td>\n",
       "      <td>0</td>\n",
       "      <td>0</td>\n",
       "      <td>0</td>\n",
       "      <td>0</td>\n",
       "      <td>0</td>\n",
       "      <td>0</td>\n",
       "      <td>0</td>\n",
       "    </tr>\n",
       "    <tr>\n",
       "      <th>3</th>\n",
       "      <td>-0.088568</td>\n",
       "      <td>0.048082</td>\n",
       "      <td>2.129397</td>\n",
       "      <td>0</td>\n",
       "      <td>0</td>\n",
       "      <td>1</td>\n",
       "      <td>0</td>\n",
       "      <td>0</td>\n",
       "      <td>0</td>\n",
       "      <td>0</td>\n",
       "      <td>...</td>\n",
       "      <td>1</td>\n",
       "      <td>0</td>\n",
       "      <td>0</td>\n",
       "      <td>0</td>\n",
       "      <td>0</td>\n",
       "      <td>0</td>\n",
       "      <td>0</td>\n",
       "      <td>1</td>\n",
       "      <td>0</td>\n",
       "      <td>0</td>\n",
       "    </tr>\n",
       "    <tr>\n",
       "      <th>4</th>\n",
       "      <td>-0.088568</td>\n",
       "      <td>0.241604</td>\n",
       "      <td>1.923440</td>\n",
       "      <td>0</td>\n",
       "      <td>0</td>\n",
       "      <td>0</td>\n",
       "      <td>0</td>\n",
       "      <td>0</td>\n",
       "      <td>0</td>\n",
       "      <td>0</td>\n",
       "      <td>...</td>\n",
       "      <td>0</td>\n",
       "      <td>0</td>\n",
       "      <td>0</td>\n",
       "      <td>0</td>\n",
       "      <td>0</td>\n",
       "      <td>0</td>\n",
       "      <td>0</td>\n",
       "      <td>1</td>\n",
       "      <td>0</td>\n",
       "      <td>0</td>\n",
       "    </tr>\n",
       "  </tbody>\n",
       "</table>\n",
       "<p>5 rows × 138 columns</p>\n",
       "</div>"
      ],
      "text/plain": [
       "   #players  playtime    weight  Abstract Strategy  Action / Dexterity  \\\n",
       "0 -0.088568 -0.048679  0.943120                  0                   0   \n",
       "1 -0.088568  0.241604  2.833330                  0                   0   \n",
       "2 -0.207549  0.144843  1.840645                  0                   0   \n",
       "3 -0.088568  0.048082  2.129397                  0                   0   \n",
       "4 -0.088568  0.241604  1.923440                  0                   0   \n",
       "\n",
       "   Adventure  Age of Reason  American Civil War  American Indian Wars  \\\n",
       "0          0              0                   0                     0   \n",
       "1          0              0                   0                     0   \n",
       "2          0              0                   0                     0   \n",
       "3          1              0                   0                     0   \n",
       "4          0              0                   0                     0   \n",
       "\n",
       "   American Revolutionary War        ...         Storytelling  Take That  \\\n",
       "0                           0        ...                    0          0   \n",
       "1                           0        ...                    0          0   \n",
       "2                           0        ...                    0          0   \n",
       "3                           0        ...                    1          0   \n",
       "4                           0        ...                    0          0   \n",
       "\n",
       "   Tile Placement  Time Track  Trading  Trick-taking  Variable Phase Order  \\\n",
       "0               0           0        1             0                     0   \n",
       "1               0           0        0             0                     0   \n",
       "2               0           0        0             0                     0   \n",
       "3               0           0        0             0                     0   \n",
       "4               0           0        0             0                     0   \n",
       "\n",
       "   Variable Player Powers  Voting  Worker Placement  \n",
       "0                       1       0                 0  \n",
       "1                       0       0                 0  \n",
       "2                       0       0                 0  \n",
       "3                       1       0                 0  \n",
       "4                       1       0                 0  \n",
       "\n",
       "[5 rows x 138 columns]"
      ]
     },
     "execution_count": 139,
     "metadata": {},
     "output_type": "execute_result"
    }
   ],
   "source": [
    "scaled_ga.head()"
   ]
  },
  {
   "cell_type": "markdown",
   "metadata": {},
   "source": [
    "## PCA"
   ]
  },
  {
   "cell_type": "code",
   "execution_count": 140,
   "metadata": {},
   "outputs": [
    {
     "data": {
      "text/plain": [
       "<matplotlib.text.Text at 0x2a0a6b26cc0>"
      ]
     },
     "execution_count": 140,
     "metadata": {},
     "output_type": "execute_result"
    },
    {
     "data": {
      "image/png": "[encoded data removed]",
      "text/plain": [
       "<matplotlib.figure.Figure at 0x2a0a5120470>"
      ]
     },
     "metadata": {},
     "output_type": "display_data"
    }
   ],
   "source": [
    "# Import sklearn PCA\n",
    "from sklearn.decomposition import PCA\n",
    "#Apply PCA\n",
    "pca = PCA()\n",
    "ga_pca = pca.fit_transform(scaled_ga)\n",
    "\n",
    "#Check what % variance is explained by each component\n",
    "var_ex = pca.explained_variance_ratio_ * 100\n",
    "var_cum = np.cumsum(var_ex[0:100])\n",
    "\n",
    "plt.plot(np.arange(1,len(var_cum)+1),var_cum)\n",
    "plt.xlabel('PCA')\n",
    "plt.ylabel('Explained variance')"
   ]
  },
  {
   "cell_type": "markdown",
   "metadata": {},
   "source": [
    "We only explain about 50% of the variance in the first 5-10 PCs. Only 70% explained in the first 20 PCs. 80% explained variance is achieved at around 40 PCs.\n",
    "\n",
    "It is probably better to use another dimensionality reduction method (e.g. PCA for dense data or TruncatedSVD for sparse data) to reduce the number of dimensions further.\n",
    " \n",
    " https://medium.com/@luckylwk/visualising-high-dimensional-datasets-using-pca-and-t-sne-in-python-8ef87e7915b"
   ]
  },
  {
   "cell_type": "markdown",
   "metadata": {},
   "source": [
    "## TSNE\n",
    "\n",
    "TSNE is a visualization technique for reducing multi-parameter datasets into a 2D space. Even though it is inaccurate for determining true distance between points, I think it would be informative as a qualitative gauge of Similarity: extremely similar games should always cluster close to each other.\n",
    "\n",
    "\n",
    "Reading over t-sne, it seems that perplexity and steps (n-iter) are parameters that can be adjusted to make sure the t-sne algorithm is performing well and not generating unexpected clusters. After some testing, I settled on Perplexity of 100 with 2000 steps."
   ]
  },
  {
   "cell_type": "code",
   "execution_count": 146,
   "metadata": {
    "scrolled": true
   },
   "outputs": [
    {
     "name": "stdout",
     "output_type": "stream",
     "text": [
      "[t-SNE] Computing pairwise distances...\n",
      "[t-SNE] Computing 301 nearest neighbors...\n",
      "[t-SNE] Computed conditional probabilities for sample 1000 / 13955\n",
      "[t-SNE] Computed conditional probabilities for sample 2000 / 13955\n",
      "[t-SNE] Computed conditional probabilities for sample 3000 / 13955\n",
      "[t-SNE] Computed conditional probabilities for sample 4000 / 13955\n",
      "[t-SNE] Computed conditional probabilities for sample 5000 / 13955\n",
      "[t-SNE] Computed conditional probabilities for sample 6000 / 13955\n",
      "[t-SNE] Computed conditional probabilities for sample 7000 / 13955\n",
      "[t-SNE] Computed conditional probabilities for sample 8000 / 13955\n",
      "[t-SNE] Computed conditional probabilities for sample 9000 / 13955\n",
      "[t-SNE] Computed conditional probabilities for sample 10000 / 13955\n",
      "[t-SNE] Computed conditional probabilities for sample 11000 / 13955\n",
      "[t-SNE] Computed conditional probabilities for sample 12000 / 13955\n",
      "[t-SNE] Computed conditional probabilities for sample 13000 / 13955\n",
      "[t-SNE] Computed conditional probabilities for sample 13955 / 13955\n",
      "[t-SNE] Mean sigma: 0.755946\n",
      "[t-SNE] KL divergence after 100 iterations with early exaggeration: 0.598298\n",
      "[t-SNE] Error after 300 iterations: 0.598298\n"
     ]
    },
    {
     "data": {
      "image/png": "[encoded data removed]",
      "text/plain": [
       "<matplotlib.figure.Figure at 0x2a0a69b82b0>"
      ]
     },
     "metadata": {},
     "output_type": "display_data"
    }
   ],
   "source": [
    "# Import t-sne\n",
    "# from sklearn.manifold import TSNE\n",
    "# tsne = TSNE(n_components=2, verbose=1, perplexity=100, n_iter=2000)\n",
    "# tsne_results = tsne.fit_transform(scaled_ga)\n",
    "# tsne_coord = pd.concat([ga['Game name'],\n",
    "#                         pd.DataFrame(tsne_results, columns=['Ax1','Ax2'])],\n",
    "#                        axis=1)\n",
    "\n",
    "# # See the t-sne plot\n",
    "# ts= tsne_coord.plot(x='Ax1',y='Ax2',kind='scatter',title='Perplexity 50')\n",
    "tsne_coord = game_tsne(original_ga = ga, \n",
    "                       scaled_ga = scaled_ga,\n",
    "                       perp = 100,\n",
    "                       steps = 2000)"
   ]
  },
  {
   "cell_type": "markdown",
   "metadata": {},
   "source": [
    "# Closest and furthest games\n",
    "\n",
    "As a proof of concept, let's look at the closest games to a well known game: \"Monopoly\".\n",
    "\n",
    "We would expect that the closest game to Monopoly should be other Monopoly types."
   ]
  },
  {
   "cell_type": "code",
   "execution_count": 25,
   "metadata": {
    "scrolled": false
   },
   "outputs": [
    {
     "data": {
      "text/html": [
       "<div>\n",
       "<table border=\"1\" class=\"dataframe\">\n",
       "  <thead>\n",
       "    <tr style=\"text-align: right;\">\n",
       "      <th></th>\n",
       "      <th>Game name</th>\n",
       "      <th>Dissimilarity/Distance</th>\n",
       "    </tr>\n",
       "  </thead>\n",
       "  <tbody>\n",
       "    <tr>\n",
       "      <th>0</th>\n",
       "      <td>Monopoly: X-Men</td>\n",
       "      <td>0.000838</td>\n",
       "    </tr>\n",
       "    <tr>\n",
       "      <th>1</th>\n",
       "      <td>Monopoly: Marvel Comics</td>\n",
       "      <td>0.001518</td>\n",
       "    </tr>\n",
       "    <tr>\n",
       "      <th>2</th>\n",
       "      <td>Monopoly: Electronic Banking</td>\n",
       "      <td>0.001806</td>\n",
       "    </tr>\n",
       "    <tr>\n",
       "      <th>3</th>\n",
       "      <td>Monopoly: Tropical Tycoon DVD Game</td>\n",
       "      <td>0.002035</td>\n",
       "    </tr>\n",
       "    <tr>\n",
       "      <th>4</th>\n",
       "      <td>Monopoly: Nintendo</td>\n",
       "      <td>0.004181</td>\n",
       "    </tr>\n",
       "    <tr>\n",
       "      <th>5</th>\n",
       "      <td>Monopoly: Nintendo Collector's Edition</td>\n",
       "      <td>0.004306</td>\n",
       "    </tr>\n",
       "    <tr>\n",
       "      <th>6</th>\n",
       "      <td>Monopoly: The Beatles Collector's Edition</td>\n",
       "      <td>0.005050</td>\n",
       "    </tr>\n",
       "    <tr>\n",
       "      <th>7</th>\n",
       "      <td>Superpoly</td>\n",
       "      <td>0.005421</td>\n",
       "    </tr>\n",
       "    <tr>\n",
       "      <th>8</th>\n",
       "      <td>Monopoly: Here &amp; Now Electronic Banking</td>\n",
       "      <td>0.005429</td>\n",
       "    </tr>\n",
       "    <tr>\n",
       "      <th>9</th>\n",
       "      <td>Monopoly: Spider-Man</td>\n",
       "      <td>0.005440</td>\n",
       "    </tr>\n",
       "  </tbody>\n",
       "</table>\n",
       "</div>"
      ],
      "text/plain": [
       "                                   Game name  Dissimilarity/Distance\n",
       "0                            Monopoly: X-Men                0.000838\n",
       "1                    Monopoly: Marvel Comics                0.001518\n",
       "2               Monopoly: Electronic Banking                0.001806\n",
       "3         Monopoly: Tropical Tycoon DVD Game                0.002035\n",
       "4                         Monopoly: Nintendo                0.004181\n",
       "5     Monopoly: Nintendo Collector's Edition                0.004306\n",
       "6  Monopoly: The Beatles Collector's Edition                0.005050\n",
       "7                                  Superpoly                0.005421\n",
       "8    Monopoly: Here & Now Electronic Banking                0.005429\n",
       "9                       Monopoly: Spider-Man                0.005440"
      ]
     },
     "execution_count": 25,
     "metadata": {},
     "output_type": "execute_result"
    }
   ],
   "source": [
    "# Get tsne, use 100 perplexity, 2000 steps file\n",
    "ga_tsne = pd.read_csv('bgg tsne coordinates 100Perplexity 2000Steps.csv')\n",
    "ga_tsne.drop('Unnamed: 0', inplace=True, axis=1)\n",
    "\n",
    "find_closest_game('Monopoly', game_coordinates = ga_tsne, n = 10)"
   ]
  },
  {
   "cell_type": "markdown",
   "metadata": {},
   "source": [
    "If we look at Ticket to Ride or Pandemic - both of which also have a large number of variants - we observe close clustering of their variants"
   ]
  },
  {
   "cell_type": "code",
   "execution_count": 26,
   "metadata": {},
   "outputs": [
    {
     "data": {
      "text/html": [
       "<div>\n",
       "<table border=\"1\" class=\"dataframe\">\n",
       "  <thead>\n",
       "    <tr style=\"text-align: right;\">\n",
       "      <th></th>\n",
       "      <th>Game name</th>\n",
       "      <th>Dissimilarity/Distance</th>\n",
       "    </tr>\n",
       "  </thead>\n",
       "  <tbody>\n",
       "    <tr>\n",
       "      <th>0</th>\n",
       "      <td>Ticket to Ride: Europe</td>\n",
       "      <td>0.011219</td>\n",
       "    </tr>\n",
       "    <tr>\n",
       "      <th>1</th>\n",
       "      <td>Ticket to Ride: Nordic Countries</td>\n",
       "      <td>0.058954</td>\n",
       "    </tr>\n",
       "    <tr>\n",
       "      <th>2</th>\n",
       "      <td>Thurn and Taxis</td>\n",
       "      <td>0.065560</td>\n",
       "    </tr>\n",
       "    <tr>\n",
       "      <th>3</th>\n",
       "      <td>Ticket to Ride: Germany</td>\n",
       "      <td>0.070720</td>\n",
       "    </tr>\n",
       "    <tr>\n",
       "      <th>4</th>\n",
       "      <td>Zug um Zug: Deutschland</td>\n",
       "      <td>0.073247</td>\n",
       "    </tr>\n",
       "  </tbody>\n",
       "</table>\n",
       "</div>"
      ],
      "text/plain": [
       "                          Game name  Dissimilarity/Distance\n",
       "0            Ticket to Ride: Europe                0.011219\n",
       "1  Ticket to Ride: Nordic Countries                0.058954\n",
       "2                   Thurn and Taxis                0.065560\n",
       "3           Ticket to Ride: Germany                0.070720\n",
       "4           Zug um Zug: Deutschland                0.073247"
      ]
     },
     "execution_count": 26,
     "metadata": {},
     "output_type": "execute_result"
    }
   ],
   "source": [
    "find_closest_game('Ticket to Ride', game_coordinates = ga_tsne, n = 5)"
   ]
  },
  {
   "cell_type": "code",
   "execution_count": 27,
   "metadata": {},
   "outputs": [
    {
     "data": {
      "text/html": [
       "<div>\n",
       "<table border=\"1\" class=\"dataframe\">\n",
       "  <thead>\n",
       "    <tr style=\"text-align: right;\">\n",
       "      <th></th>\n",
       "      <th>Game name</th>\n",
       "      <th>Dissimilarity/Distance</th>\n",
       "    </tr>\n",
       "  </thead>\n",
       "  <tbody>\n",
       "    <tr>\n",
       "      <th>0</th>\n",
       "      <td>Pandemic Iberia</td>\n",
       "      <td>0.028966</td>\n",
       "    </tr>\n",
       "    <tr>\n",
       "      <th>1</th>\n",
       "      <td>Pandemic Legacy: Season 1</td>\n",
       "      <td>0.082755</td>\n",
       "    </tr>\n",
       "    <tr>\n",
       "      <th>2</th>\n",
       "      <td>Pandemic: Reign of Cthulhu</td>\n",
       "      <td>0.092547</td>\n",
       "    </tr>\n",
       "    <tr>\n",
       "      <th>3</th>\n",
       "      <td>Dragon Keeper: The Dungeon</td>\n",
       "      <td>0.097617</td>\n",
       "    </tr>\n",
       "    <tr>\n",
       "      <th>4</th>\n",
       "      <td>Ticket to Ride: Europe</td>\n",
       "      <td>0.100043</td>\n",
       "    </tr>\n",
       "  </tbody>\n",
       "</table>\n",
       "</div>"
      ],
      "text/plain": [
       "                    Game name  Dissimilarity/Distance\n",
       "0             Pandemic Iberia                0.028966\n",
       "1   Pandemic Legacy: Season 1                0.082755\n",
       "2  Pandemic: Reign of Cthulhu                0.092547\n",
       "3  Dragon Keeper: The Dungeon                0.097617\n",
       "4      Ticket to Ride: Europe                0.100043"
      ]
     },
     "execution_count": 27,
     "metadata": {},
     "output_type": "execute_result"
    }
   ],
   "source": [
    "find_closest_game('Pandemic', game_coordinates = ga_tsne, n = 5)"
   ]
  },
  {
   "cell_type": "markdown",
   "metadata": {},
   "source": [
    "## Dissimilarity does not accurately reflect distance between furthest games\n",
    "\n",
    "When using find_furthest_game, it's easy to see that games furthest from a target game (e.g. Pandemic) don't necessarily lead back to Pandemic being furthest away. This is because of how TSNE has distributed the points in space. Thus using TSNE coordinates to find_furthest_game is clearly less useful than for find_closest_game.\n",
    "\n",
    "More specifically, having low Dissimilarity scores is a good indicator of similarity, but high Dissimilarity scores is not really informative about HOW different games are."
   ]
  },
  {
   "cell_type": "code",
   "execution_count": 29,
   "metadata": {},
   "outputs": [
    {
     "data": {
      "text/html": [
       "<div>\n",
       "<table border=\"1\" class=\"dataframe\">\n",
       "  <thead>\n",
       "    <tr style=\"text-align: right;\">\n",
       "      <th></th>\n",
       "      <th>Game name</th>\n",
       "      <th>Dissimilarity/Distance</th>\n",
       "    </tr>\n",
       "  </thead>\n",
       "  <tbody>\n",
       "    <tr>\n",
       "      <th>0</th>\n",
       "      <td>Linkee</td>\n",
       "      <td>8.661021</td>\n",
       "    </tr>\n",
       "    <tr>\n",
       "      <th>1</th>\n",
       "      <td>Alchemidus</td>\n",
       "      <td>8.658250</td>\n",
       "    </tr>\n",
       "    <tr>\n",
       "      <th>2</th>\n",
       "      <td>Act One</td>\n",
       "      <td>8.656587</td>\n",
       "    </tr>\n",
       "    <tr>\n",
       "      <th>3</th>\n",
       "      <td>Martian Dice</td>\n",
       "      <td>8.656459</td>\n",
       "    </tr>\n",
       "    <tr>\n",
       "      <th>4</th>\n",
       "      <td>Rolling Japan</td>\n",
       "      <td>8.656183</td>\n",
       "    </tr>\n",
       "  </tbody>\n",
       "</table>\n",
       "</div>"
      ],
      "text/plain": [
       "       Game name  Dissimilarity/Distance\n",
       "0         Linkee                8.661021\n",
       "1     Alchemidus                8.658250\n",
       "2        Act One                8.656587\n",
       "3   Martian Dice                8.656459\n",
       "4  Rolling Japan                8.656183"
      ]
     },
     "execution_count": 29,
     "metadata": {},
     "output_type": "execute_result"
    }
   ],
   "source": [
    "find_furthest_game('Pandemic', game_coordinates = ga_tsne, k = 5)"
   ]
  },
  {
   "cell_type": "code",
   "execution_count": 30,
   "metadata": {},
   "outputs": [
    {
     "data": {
      "text/html": [
       "<div>\n",
       "<table border=\"1\" class=\"dataframe\">\n",
       "  <thead>\n",
       "    <tr style=\"text-align: right;\">\n",
       "      <th></th>\n",
       "      <th>Game name</th>\n",
       "      <th>Dissimilarity/Distance</th>\n",
       "    </tr>\n",
       "  </thead>\n",
       "  <tbody>\n",
       "    <tr>\n",
       "      <th>0</th>\n",
       "      <td>When Zombies Attack!</td>\n",
       "      <td>13.597963</td>\n",
       "    </tr>\n",
       "    <tr>\n",
       "      <th>1</th>\n",
       "      <td>Space Invaders Dice!</td>\n",
       "      <td>13.587986</td>\n",
       "    </tr>\n",
       "    <tr>\n",
       "      <th>2</th>\n",
       "      <td>Zombie Mania!</td>\n",
       "      <td>13.571454</td>\n",
       "    </tr>\n",
       "    <tr>\n",
       "      <th>3</th>\n",
       "      <td>Luchador! Mexican Wrestling Dice</td>\n",
       "      <td>13.565859</td>\n",
       "    </tr>\n",
       "    <tr>\n",
       "      <th>4</th>\n",
       "      <td>Yamslam</td>\n",
       "      <td>13.565623</td>\n",
       "    </tr>\n",
       "  </tbody>\n",
       "</table>\n",
       "</div>"
      ],
      "text/plain": [
       "                          Game name  Dissimilarity/Distance\n",
       "0              When Zombies Attack!               13.597963\n",
       "1              Space Invaders Dice!               13.587986\n",
       "2                     Zombie Mania!               13.571454\n",
       "3  Luchador! Mexican Wrestling Dice               13.565859\n",
       "4                           Yamslam               13.565623"
      ]
     },
     "execution_count": 30,
     "metadata": {},
     "output_type": "execute_result"
    }
   ],
   "source": [
    "find_furthest_game('Linkee', game_coordinates = ga_tsne, k = 5)"
   ]
  },
  {
   "cell_type": "markdown",
   "metadata": {},
   "source": [
    "# Obtain user collections\n",
    "\n",
    "Not shown here: I obtained user collections via boardgamegeek. I utilized a function that accepted the user id as an input. The output was a dataframe with the following columns:<br>\n",
    "-User<br>\n",
    "-Game<br>\n",
    "-User rating (of the game)<br>\n",
    "-BGG rating (of the game)\n",
    "\n",
    "I pulled 211 different collections ranging from 7 to 300 games."
   ]
  },
  {
   "cell_type": "markdown",
   "metadata": {},
   "source": [
    "# User Collection distance\n",
    "\n",
    "Using the tsne points as a representation of \"boardgame similarity\", we can qualitatively estimate how similar the games in a user's collection are to each other.\n",
    "\n",
    "1) Load user data\n",
    "\n",
    "2) Load tsne points\n",
    "\n",
    "3) Calculate all possible game-pair distances\n",
    "\n",
    "4) Average each game-pair distance"
   ]
  },
  {
   "cell_type": "code",
   "execution_count": 3,
   "metadata": {},
   "outputs": [
    {
     "data": {
      "text/html": [
       "<div>\n",
       "<table border=\"1\" class=\"dataframe\">\n",
       "  <thead>\n",
       "    <tr style=\"text-align: right;\">\n",
       "      <th></th>\n",
       "      <th>Game name</th>\n",
       "      <th>Ax1</th>\n",
       "      <th>Ax2</th>\n",
       "    </tr>\n",
       "  </thead>\n",
       "  <tbody>\n",
       "    <tr>\n",
       "      <th>0</th>\n",
       "      <td>Pandemic Legacy: Season 1</td>\n",
       "      <td>1.469032</td>\n",
       "      <td>1.059907</td>\n",
       "    </tr>\n",
       "    <tr>\n",
       "      <th>1</th>\n",
       "      <td>Through the Ages: A New Story of Civilization</td>\n",
       "      <td>-0.717615</td>\n",
       "      <td>4.136002</td>\n",
       "    </tr>\n",
       "    <tr>\n",
       "      <th>2</th>\n",
       "      <td>Twilight Struggle</td>\n",
       "      <td>-2.007384</td>\n",
       "      <td>-2.909323</td>\n",
       "    </tr>\n",
       "    <tr>\n",
       "      <th>3</th>\n",
       "      <td>Gloomhaven</td>\n",
       "      <td>0.901640</td>\n",
       "      <td>2.072781</td>\n",
       "    </tr>\n",
       "    <tr>\n",
       "      <th>4</th>\n",
       "      <td>Star Wars: Rebellion</td>\n",
       "      <td>-0.815933</td>\n",
       "      <td>-2.684164</td>\n",
       "    </tr>\n",
       "  </tbody>\n",
       "</table>\n",
       "</div>"
      ],
      "text/plain": [
       "                                       Game name       Ax1       Ax2\n",
       "0                      Pandemic Legacy: Season 1  1.469032  1.059907\n",
       "1  Through the Ages: A New Story of Civilization -0.717615  4.136002\n",
       "2                              Twilight Struggle -2.007384 -2.909323\n",
       "3                                     Gloomhaven  0.901640  2.072781\n",
       "4                           Star Wars: Rebellion -0.815933 -2.684164"
      ]
     },
     "execution_count": 3,
     "metadata": {},
     "output_type": "execute_result"
    }
   ],
   "source": [
    "# Get tsne, use 100 perplexity, 2000 steps file\n",
    "ga_tsne = pd.read_csv('bgg tsne coordinates 100Perplexity 2000Steps.csv')\n",
    "#Drop the first column (just indices)\n",
    "ga_tsne.drop('Unnamed: 0', inplace=True, axis=1)\n",
    "ga_tsne[['Ax1','Ax2']] = ga_tsne[['Ax1','Ax2']].apply(pd.to_numeric)\n",
    "ga_tsne.head()"
   ]
  },
  {
   "cell_type": "code",
   "execution_count": 4,
   "metadata": {},
   "outputs": [
    {
     "name": "stderr",
     "output_type": "stream",
     "text": [
      "E:\\Dropbox\\DS\\bgg github\\Boardgame-Recommender-Project\\functions-bgg_get.py:420: SettingWithCopyWarning: \n",
      "A value is trying to be set on a copy of a slice from a DataFrame\n",
      "\n",
      "See the caveats in the documentation: http://pandas.pydata.org/pandas-docs/stable/indexing.html#indexing-view-versus-copy\n",
      "  collection.drop(collection.index[low_bgg_idx],inplace=True)\n",
      "C:\\Anaconda3\\lib\\site-packages\\numpy\\core\\fromnumeric.py:2909: RuntimeWarning: Mean of empty slice.\n",
      "  out=out, **kwargs)\n",
      "C:\\Anaconda3\\lib\\site-packages\\numpy\\core\\_methods.py:80: RuntimeWarning: invalid value encountered in double_scalars\n",
      "  ret = ret.dtype.type(ret / rcount)\n"
     ]
    }
   ],
   "source": [
    "# Get a user list\n",
    "playerlist = pd.read_excel('playerlist.xlsx')\n",
    "# Storage dataframe\n",
    "user_collection_distances = pd.DataFrame(0,\n",
    "                                         index=np.arange(playerlist.shape[0]),\n",
    "                                         columns=['User','Avg Dissimilarity'])\n",
    "\n",
    "for i in np.arange(0,playerlist.shape[0]):\n",
    "    # Get individual user's collection file\n",
    "    user = playerlist['Username'][i]\n",
    "    file = str(user) + '_raw.csv'\n",
    "    user_collection = pd.read_csv(file, sep='\\t', encoding='ISO-8859-1')\n",
    "    user_collection.drop('Unnamed: 0', inplace=True, axis=1)\n",
    "    \n",
    "    user_collection_cleaned = RatingThreshold(user_collection)\n",
    "    user_dist = collection_distance(user_collection_cleaned['Game'], ga_tsne)\n",
    "    \n",
    "    user_collection_distances.loc[i, 'User'] = user\n",
    "    user_collection_distances.loc[i, 'Avg Dissimilarity'] = user_dist"
   ]
  },
  {
   "cell_type": "code",
   "execution_count": 99,
   "metadata": {},
   "outputs": [
    {
     "data": {
      "text/plain": [
       "<matplotlib.text.Text at 0x20130b4b7b8>"
      ]
     },
     "execution_count": 99,
     "metadata": {},
     "output_type": "execute_result"
    },
    {
     "data": {
      "image/png": "[encoded data removed]",
      "text/plain": [
       "<matplotlib.figure.Figure at 0x20134ccad30>"
      ]
     },
     "metadata": {},
     "output_type": "display_data"
    }
   ],
   "source": [
    "# There are NaN values in our dataset; let's remove them\n",
    "nan_collections = user_collection_distances[user_collection_distances['Avg Dissimilarity'].isnull()]\n",
    "clean_collections = user_collection_distances.drop([111,113,114,122,207])\n",
    "\n",
    "plt.hist(clean_collections['Avg Dissimilarity'].tolist(), \n",
    "         bins=np.linspace(0,80,20),\n",
    "         edgecolor='black',\n",
    "         linewidth=2.0)\n",
    "plt.xlabel('Dissimilarity')\n",
    "plt.ylabel('Count')\n",
    "plt.title('Average Player Collection Dissimilarity (by t-sne scores)')"
   ]
  },
  {
   "cell_type": "markdown",
   "metadata": {},
   "source": [
    "For comparison, I took the top 1000 games and calculated the distance between every pair of game. The resulting histogram of distances is as follows:"
   ]
  },
  {
   "cell_type": "code",
   "execution_count": 188,
   "metadata": {},
   "outputs": [
    {
     "data": {
      "text/plain": [
       "<matplotlib.text.Text at 0x2a0e166d668>"
      ]
     },
     "execution_count": 188,
     "metadata": {},
     "output_type": "execute_result"
    },
    {
     "data": {
      "image/png": "[encoded data removed]",
      "text/plain": [
       "<matplotlib.figure.Figure at 0x2a0d58e2c50>"
      ]
     },
     "metadata": {},
     "output_type": "display_data"
    }
   ],
   "source": [
    "game_dissimilarities = pd.read_csv(\"Top1000 Game Dissimilarities v2.csv\", \n",
    "                                   encoding='ISO-8859-1')\n",
    "game_dissimilarities.drop(\"Unnamed: 0\", inplace=True, axis=1)\n",
    "\n",
    "plt.hist(game_dissimilarities['Dissimilarity'].tolist(), \n",
    "         bins=np.linspace(0,250,25),\n",
    "         edgecolor='black',\n",
    "         linewidth=2.0)\n",
    "plt.xlabel('Dissimilarity')\n",
    "plt.ylabel('Count')\n",
    "plt.title('Top 1000 Game Dissimilarity scores (tsne coordinates)')"
   ]
  },
  {
   "cell_type": "markdown",
   "metadata": {},
   "source": [
    "For comparison, let's see what it would look like if a collector focused only on collecting all Monopoly games (of which there are 113 games)."
   ]
  },
  {
   "cell_type": "code",
   "execution_count": 59,
   "metadata": {
    "scrolled": true
   },
   "outputs": [
    {
     "name": "stdout",
     "output_type": "stream",
     "text": [
      "Average collection distance for a collection of Monopoly games: 11.2593563818\n"
     ]
    }
   ],
   "source": [
    "monopolies = ga_tsne[ga_tsne['Game name'].str.contains(\"Monopoly\")]['Game name']\n",
    "print('Average collection Dissimilarity for a collection of Monopoly games: ' +\n",
    "      str(collection_distance(monopolies, ga_tsne)))"
   ]
  },
  {
   "cell_type": "code",
   "execution_count": 107,
   "metadata": {},
   "outputs": [
    {
     "name": "stdout",
     "output_type": "stream",
     "text": [
      "For comparison:\n",
      "Median user collection Dissimilarity score: 26.28898190042397\n",
      "count    206.000000\n",
      "mean      26.290955\n",
      "std        8.169616\n",
      "min        0.178866\n",
      "25%       21.889913\n",
      "50%       26.288982\n",
      "75%       30.493993\n",
      "max       71.230225\n",
      "Name: Avg Dissimilarity, dtype: float64\n"
     ]
    }
   ],
   "source": [
    "print(\"For comparison:\")\n",
    "print(\"Median user collection Dissimilarity score: \" +\n",
    "     str(clean_collections['Avg Dissimilarity'].median()))\n",
    "print(user_collection_distances['Avg Dissimilarity'].describe())"
   ]
  },
  {
   "cell_type": "markdown",
   "metadata": {
    "collapsed": true
   },
   "source": [
    "It seems even if we only collected Monopoly games, the Dissimilarity score is quite high (compared to a very left-leaning Dissimilarity distribution). This would further suggest that TSNE is unsuitable for answering our question beyond visualizing the boardgame space. Or alternatively, Monopoly games are more disparate than I first thought.\n",
    "\n",
    "On the latter point, the average dissimilarity for a Monopoly collection is still left of the mean and median of our User dataset. Thus the original hypothesis - that collectors tend to buy Dissimilar games - is not shown to be false yet."
   ]
  },
  {
   "cell_type": "markdown",
   "metadata": {},
   "source": [
    "## A Euclidean approach\n",
    "\n",
    "Just to test whether a Euclidean distance would produce a different outcome, let's analyze the data without any dimension reduction."
   ]
  },
  {
   "cell_type": "code",
   "execution_count": 74,
   "metadata": {},
   "outputs": [],
   "source": [
    "# Load csv of games after manually adjusting mechanisms and categories as\n",
    "#  mentioned in \"Cleaning game_attributes dataset\"\n",
    "ga = pd.read_csv('bgg game attributes edited.csv', header = 1)\n",
    "ga.drop(ga.columns[0], inplace=True, axis=1)\n",
    "\n",
    "scaled_ga = scale_dataframe(ga)\n",
    "scaled_ga = pd.concat([ga['Game name'], scaled_ga], axis = 1)"
   ]
  },
  {
   "cell_type": "code",
   "execution_count": 86,
   "metadata": {},
   "outputs": [
    {
     "data": {
      "text/plain": [
       "<matplotlib.text.Text at 0x20137cd87f0>"
      ]
     },
     "execution_count": 86,
     "metadata": {},
     "output_type": "execute_result"
    },
    {
     "data": {
      "image/png": "[encoded data removed]",
      "text/plain": [
       "<matplotlib.figure.Figure at 0x20130e143c8>"
      ]
     },
     "metadata": {},
     "output_type": "display_data"
    }
   ],
   "source": [
    "game_distances = pd.read_csv(\"Top1000 Game Euclidean Distances.csv\", \n",
    "                             encoding='ISO-8859-1')\n",
    "game_distances.drop(\"Unnamed: 0\", inplace=True, axis=1)\n",
    "\n",
    "plt.hist(game_distances['Distance'].tolist(), \n",
    "         bins=np.linspace(0,21,25),\n",
    "         edgecolor='black',\n",
    "         linewidth=2.0)\n",
    "plt.xlabel('Distance')\n",
    "plt.ylabel('Count')\n",
    "plt.title('Top 1000 Game Euclidean Distance scores')"
   ]
  },
  {
   "cell_type": "code",
   "execution_count": 5,
   "metadata": {},
   "outputs": [
    {
     "name": "stderr",
     "output_type": "stream",
     "text": [
      "E:\\Dropbox\\DS\\bgg github\\Boardgame-Recommender-Project\\functions-bgg_get.py:420: SettingWithCopyWarning: \n",
      "A value is trying to be set on a copy of a slice from a DataFrame\n",
      "\n",
      "See the caveats in the documentation: http://pandas.pydata.org/pandas-docs/stable/indexing.html#indexing-view-versus-copy\n",
      "  collection.drop(collection.index[low_bgg_idx],inplace=True)\n",
      "C:\\Anaconda3\\lib\\site-packages\\numpy\\core\\fromnumeric.py:2909: RuntimeWarning: Mean of empty slice.\n",
      "  out=out, **kwargs)\n",
      "C:\\Anaconda3\\lib\\site-packages\\numpy\\core\\_methods.py:80: RuntimeWarning: invalid value encountered in double_scalars\n",
      "  ret = ret.dtype.type(ret / rcount)\n"
     ]
    }
   ],
   "source": [
    "# Get a user list\n",
    "playerlist = pd.read_excel('playerlist.xlsx')\n",
    "# Storage dataframe\n",
    "user_collection_euc_distances = pd.DataFrame(0, \n",
    "                                             index=np.arange(playerlist.shape[0]), \n",
    "                                             columns=['User','Avg Euc Distance'])\n",
    "\n",
    "for i in np.arange(0,playerlist.shape[0]):\n",
    "    # Get individual user's collection file\n",
    "    user = playerlist['Username'][i]\n",
    "    file = str(user) + '_raw.csv'\n",
    "    user_collection = pd.read_csv(file, sep='\\t', encoding='ISO-8859-1')\n",
    "    user_collection.drop('Unnamed: 0', inplace=True, axis=1)\n",
    "    \n",
    "    user_collection_cleaned = RatingThreshold(user_collection)\n",
    "    user_dist = collection_euc_distance(user_collection_cleaned['Game'], ga_tsne)\n",
    "    \n",
    "    user_collection_euc_distances.loc[i, 'User'] = user\n",
    "    user_collection_euc_distances.loc[i, 'Avg Euc Distance'] = user_dist"
   ]
  },
  {
   "cell_type": "code",
   "execution_count": 93,
   "metadata": {
    "scrolled": true
   },
   "outputs": [
    {
     "data": {
      "text/plain": [
       "<matplotlib.text.Text at 0x2013432a7f0>"
      ]
     },
     "execution_count": 93,
     "metadata": {},
     "output_type": "execute_result"
    },
    {
     "data": {
      "image/png": "[encoded data removed]",
      "text/plain": [
       "<matplotlib.figure.Figure at 0x201342ed4e0>"
      ]
     },
     "metadata": {},
     "output_type": "display_data"
    }
   ],
   "source": [
    "# There are NaN values in our datatable; let's remove them for the histogram\n",
    "nan_collections = user_collection_euc_distances[user_collection_euc_distances['Avg Euc Distance'].isnull()]\n",
    "clean_euc_collections = user_collection_euc_distances.drop(nan_collections.index.values)\n",
    "\n",
    "plt.hist(clean_euc_collections['Avg Euc Distance'].tolist(),\n",
    "         bins=np.linspace(0,5,25),\n",
    "         edgecolor='black',\n",
    "         linewidth=2.0)\n",
    "plt.xlabel('Euclidean Distance')\n",
    "plt.ylabel('Count')\n",
    "plt.title('Average Player Collection Distance (Euclidean)')"
   ]
  },
  {
   "cell_type": "code",
   "execution_count": 95,
   "metadata": {},
   "outputs": [
    {
     "name": "stdout",
     "output_type": "stream",
     "text": [
      "Average collection distance for a collection of Monopoly games: 2.09753174089\n"
     ]
    }
   ],
   "source": [
    "print('Average collection distance for a collection of Monopoly games: ' +\n",
    "      str(collection_euc_distance(monopolies, scaled_ga)))"
   ]
  },
  {
   "cell_type": "code",
   "execution_count": 108,
   "metadata": {},
   "outputs": [
    {
     "name": "stdout",
     "output_type": "stream",
     "text": [
      "For comparison:\n",
      "Median user collection Dissimilarity score: 4.525696530281365\n",
      "count    206.000000\n",
      "mean       4.490086\n",
      "std        0.807628\n",
      "min        0.349016\n",
      "25%        4.128898\n",
      "50%        4.525697\n",
      "75%        4.940139\n",
      "max        8.012093\n",
      "Name: Avg Euc Distance, dtype: float64\n"
     ]
    }
   ],
   "source": [
    "print(\"For comparison:\")\n",
    "print(\"Median user collection Dissimilarity score: \" +\n",
    "     str(clean_euc_collections['Avg Euc Distance'].median()))\n",
    "print(user_collection_euc_distances['Avg Euc Distance'].describe())"
   ]
  },
  {
   "cell_type": "markdown",
   "metadata": {},
   "source": [
    "Comparing the Euclidean distances and the Player Collection plots, there is a visual difference; the average euclidean distance of games in a single person's collection leans heavily to the right. And like the TSNE analysis, the Monopoly collection distance falls to the left of the average User Collection."
   ]
  },
  {
   "cell_type": "code",
   "execution_count": null,
   "metadata": {},
   "outputs": [],
   "source": []
  }
 ],
 "metadata": {
  "anaconda-cloud": {},
  "kernelspec": {
   "display_name": "Python [Anaconda3]",
   "language": "python",
   "name": "Python [Anaconda3]"
  },
  "language_info": {
   "codemirror_mode": {
    "name": "ipython",
    "version": 3
   },
   "file_extension": ".py",
   "mimetype": "text/x-python",
   "name": "python",
   "nbconvert_exporter": "python",
   "pygments_lexer": "ipython3",
   "version": "3.5.1"
  }
 },
 "nbformat": 4,
 "nbformat_minor": 2
}
