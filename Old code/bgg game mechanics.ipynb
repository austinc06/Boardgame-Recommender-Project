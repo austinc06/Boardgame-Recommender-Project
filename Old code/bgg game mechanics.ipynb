{
 "cells": [
  {
   "cell_type": "markdown",
   "metadata": {},
   "source": [
    "## Get all the mechanics\n",
    "\n",
    "Get list of all bgg game mechanics.\n",
    "\n",
    "https://boardgamegeek.com/browse/boardgamemechanic"
   ]
  },
  {
   "cell_type": "code",
   "execution_count": 1,
   "metadata": {
    "scrolled": true
   },
   "outputs": [
    {
     "name": "stdout",
     "output_type": "stream",
     "text": [
      "Acting\n",
      "Action / Movement Programming\n",
      "Action Point Allowance System\n",
      "Area Control / Area Influence\n",
      "Area Enclosure\n",
      "Area Movement\n",
      "Area-Impulse\n",
      "Auction/Bidding\n",
      "Betting/Wagering\n",
      "Campaign / Battle Card Driven\n",
      "Card Drafting\n",
      "Chit-Pull System\n",
      "Commodity Speculation\n",
      "Cooperative Play\n",
      "Crayon Rail System\n",
      "Deck / Pool Building\n",
      "Dice Rolling\n",
      "Grid Movement\n",
      "Hand Management\n",
      "Hex-and-Counter\n",
      "Line Drawing\n",
      "Memory\n",
      "Modular Board\n",
      "Paper-and-Pencil\n",
      "Partnerships\n",
      "Pattern Building\n",
      "Pattern Recognition\n",
      "Pick-up and Deliver\n",
      "Player Elimination\n",
      "Point to Point Movement\n",
      "Press Your Luck\n",
      "Rock-Paper-Scissors\n",
      "Role Playing\n",
      "Roll / Spin and Move\n",
      "Route/Network Building\n",
      "Secret Unit Deployment\n",
      "Set Collection\n",
      "Simulation\n",
      "Simultaneous Action Selection\n",
      "Singing\n",
      "Stock Holding\n",
      "Storytelling\n",
      "Take That\n",
      "Tile Placement\n",
      "Time Track\n",
      "Trading\n",
      "Trick-taking\n",
      "Variable Phase Order\n",
      "Variable Player Powers\n",
      "Voting\n",
      "Worker Placement\n"
     ]
    }
   ],
   "source": [
    "# Use beautiful soup\n",
    "#Import necessary libraries\n",
    "from bs4 import BeautifulSoup\n",
    "import requests\n",
    "import pandas as pd\n",
    "\n",
    "# Get category website in xml format\n",
    "url = \"https://boardgamegeek.com/browse/boardgamemechanic\"\n",
    "\n",
    "r = requests.get(url)\n",
    "page = r.text\n",
    "\n",
    "soup = BeautifulSoup(page, \"lxml\")\n",
    "\n",
    "#Categories are stored in a table, so get all the tables\n",
    "tables = soup.find_all(lambda tag: tag.name=='table')\n",
    "\n",
    "#The sixth table contains the game categories\n",
    "tables = tables[5]\n",
    "\n",
    "#Get all the category tags\n",
    "mech = tables.find_all(lambda tag: tag.name=='a')\n",
    "\n",
    "#Store categories into a list\n",
    "mech_list = []\n",
    "\n",
    "for i in mech:\n",
    "    mech_list.append(i.contents[0])\n",
    "    print(i.contents[0])\n",
    "    \n",
    "#Create pd dataframe for export\n",
    "mech_list = pd.DataFrame(mech_list, columns=['Mechanics'])\n",
    "\n",
    "#Save category list to csv\n",
    "mech_list.to_csv('BGG mechanics.csv',sep='\\t')"
   ]
  },
  {
   "cell_type": "code",
   "execution_count": null,
   "metadata": {
    "collapsed": true
   },
   "outputs": [],
   "source": []
  }
 ],
 "metadata": {
  "kernelspec": {
   "display_name": "Python [Anaconda3]",
   "language": "python",
   "name": "Python [Anaconda3]"
  },
  "language_info": {
   "codemirror_mode": {
    "name": "ipython",
    "version": 3
   },
   "file_extension": ".py",
   "mimetype": "text/x-python",
   "name": "python",
   "nbconvert_exporter": "python",
   "pygments_lexer": "ipython3",
   "version": "3.5.1"
  }
 },
 "nbformat": 4,
 "nbformat_minor": 2
}
