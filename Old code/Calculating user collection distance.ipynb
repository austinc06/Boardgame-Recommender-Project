{
 "cells": [
  {
   "cell_type": "markdown",
   "metadata": {},
   "source": [
    "# User Collection distance\n",
    "\n",
    "Using the tsne points as a representation of \"boardgame similarity\", create a function to calculate how similar the games in a user's collection are to each other.\n",
    "\n",
    "1) Load user data\n",
    "\n",
    "2) Load tsne points\n",
    "\n",
    "3) Calculate all possible game-pair distances\n",
    "\n",
    "4) Average each game-pair distance"
   ]
  },
  {
   "cell_type": "markdown",
   "metadata": {},
   "source": [
    "## Load libraries and functions"
   ]
  },
  {
   "cell_type": "code",
   "execution_count": 2,
   "metadata": {},
   "outputs": [],
   "source": [
    "import pandas as pd\n",
    "import numpy as np\n",
    "\n",
    "import matplotlib.pyplot as plt\n",
    "%matplotlib inline\n",
    "import seaborn as sns"
   ]
  },
  {
   "cell_type": "code",
   "execution_count": 3,
   "metadata": {},
   "outputs": [],
   "source": [
    "#Need to rewrite Rating Threshold to work with the csv files.\n",
    "#Since the csv files load in N/A values as NaN, we just need to change each\n",
    "#N/A to isnull() checks\n",
    "\n",
    "def RatingThreshold(collection):\n",
    "    \n",
    "    print('Collection Size start: ' + str(collection.shape[0]))\n",
    "    \n",
    "    # First remove any games that have no User Rating and no BGG rating\n",
    "    na_idx = collection[(collection['User rating'].isnull()) & (collection['BGG rating'].isnull())].index.tolist() #Grab indices of N/A User and BGG rating rows\n",
    "    collection.drop(collection.index[na_idx], inplace=True)\n",
    "    \n",
    "    print('Collection Size after removing N/A ratings: ' + str(collection.shape[0]))\n",
    "    \n",
    "    # Remove any games with User rating < 7\n",
    "    #Ratings are stored as strings to account for N/A rating\n",
    "    #Convert column to numeric using pandas to_numeric function\n",
    "    #Set errors to 'coerce' which turns non-numeric strings to NaN values, which will work for numeric comparisons\n",
    "\n",
    "    #Keep if User rating == N/A (for BGG based comparison) and User rating >= 7\n",
    "    collection = collection[(collection['User rating'].isnull()) | (pd.to_numeric(collection['User rating'], errors='coerce') >= 7)]\n",
    "    \n",
    "    print('Collection Size after removing low User ratings: ' + str(collection.shape[0]))\n",
    "    \n",
    "    #Reset index\n",
    "    collection.reset_index(drop=True, inplace=True)\n",
    "    \n",
    "    # Remove any games with BGG rating < 7 (if there is no User Rating)\n",
    "    #Similarly, convert BGG rating column to_numeric\n",
    "    #Find row indices where User rating == N/A and BGG rating < 7\n",
    "    #Drop relevant rows from DataFrame\n",
    "    low_bgg_idx = collection[(collection['User rating'].isnull()) & (pd.to_numeric(collection['BGG rating'], errors='coerce') < 7)].index.tolist()\n",
    "    collection.drop(collection.index[low_bgg_idx],inplace=True)\n",
    "    \n",
    "    collection.reset_index(drop=True, inplace=True)\n",
    "    \n",
    "    print('Collection Size after removing low BGG ratings (if no User rating available): ' + str(collection.shape[0]))\n",
    "    \n",
    "    return collection"
   ]
  },
  {
   "cell_type": "markdown",
   "metadata": {},
   "source": [
    "## Load TSNE coordinates"
   ]
  },
  {
   "cell_type": "code",
   "execution_count": 12,
   "metadata": {
    "collapsed": true,
    "scrolled": true
   },
   "outputs": [],
   "source": [
    "# Get tsne, use 100 perplexity, 2000 steps file\n",
    "ga_tsne = pd.read_csv('bgg tsne coordinates 100Perplexity 2000Steps.csv')\n",
    "\n",
    "#Drop the first column (just indices)\n",
    "ga_tsne.drop('Unnamed: 0', inplace=True, axis=1)\n",
    "\n",
    "ga_tsne[['Ax1','Ax2']] = ga_tsne[['Ax1','Ax2']].apply(pd.to_numeric)"
   ]
  },
  {
   "cell_type": "code",
   "execution_count": null,
   "metadata": {
    "collapsed": true,
    "scrolled": true
   },
   "outputs": [],
   "source": [
    "ga_tsne.head()"
   ]
  },
  {
   "cell_type": "markdown",
   "metadata": {},
   "source": [
    "## Draft code for a single user\n",
    "\n",
    "#### Load user"
   ]
  },
  {
   "cell_type": "code",
   "execution_count": 3,
   "metadata": {
    "collapsed": true,
    "scrolled": true
   },
   "outputs": [],
   "source": [
    "# Get a user list: Use user #105\n",
    "playerlist = pd.read_excel('playerlist.xlsx')\n",
    "user = playerlist['Username'][105]\n",
    "file = str(user) + '_raw.csv'\n",
    "\n",
    "user_collection = pd.read_csv(file, sep='\\t', encoding='ISO-8859-1')"
   ]
  },
  {
   "cell_type": "code",
   "execution_count": 4,
   "metadata": {},
   "outputs": [
    {
     "name": "stdout",
     "output_type": "stream",
     "text": [
      "Collection Size start: 125\n",
      "Collection Size after removing N/A ratings: 123\n",
      "Collection Size after removing low User ratings: 88\n",
      "Collection Size after removing low BGG ratings (if no User rating available): 57\n"
     ]
    },
    {
     "name": "stderr",
     "output_type": "stream",
     "text": [
      "C:\\ProgramData\\Anaconda3\\lib\\site-packages\\ipykernel_launcher.py:33: SettingWithCopyWarning: \n",
      "A value is trying to be set on a copy of a slice from a DataFrame\n",
      "\n",
      "See the caveats in the documentation: http://pandas.pydata.org/pandas-docs/stable/indexing.html#indexing-view-versus-copy\n"
     ]
    }
   ],
   "source": [
    "# Clean the collection\n",
    "\n",
    "# Drop the column 'Unnamed: 0' that is used to number the rows\n",
    "user_collection.drop('Unnamed: 0', inplace=True, axis=1)\n",
    "    \n",
    "# Apply RatingThreshold\n",
    "user_collection_cleaned = RatingThreshold(user_collection)\n",
    "\n",
    "games = user_collection_cleaned['Game']"
   ]
  },
  {
   "cell_type": "code",
   "execution_count": null,
   "metadata": {
    "collapsed": true
   },
   "outputs": [],
   "source": [
    "user_collection.head()"
   ]
  },
  {
   "cell_type": "markdown",
   "metadata": {},
   "source": [
    "#### Calculate all distances in the collection\n",
    "(Single user draft)"
   ]
  },
  {
   "cell_type": "code",
   "execution_count": 19,
   "metadata": {
    "collapsed": true
   },
   "outputs": [],
   "source": [
    "dist = []\n",
    "\n",
    "for i in np.arange(0,len(games)):\n",
    "    g1 = games[i]\n",
    "    \n",
    "    if g1 in ga_tsne['Game name'].values:\n",
    "        g1_x = ga_tsne[ga_tsne['Game name'] == g1]['Ax1'].iloc[0]\n",
    "        g1_y = ga_tsne[ga_tsne['Game name'] == g1]['Ax2'].iloc[0]\n",
    "\n",
    "        for j in np.arange(i+1, len(games)):\n",
    "            g2 = games[j]\n",
    "            \n",
    "            if g2 in ga_tsne['Game name'].values:\n",
    "                g2_x = ga_tsne[ga_tsne['Game name'] == g2]['Ax1'].iloc[0]\n",
    "                g2_y = ga_tsne[ga_tsne['Game name'] == g2]['Ax2'].iloc[0]\n",
    "\n",
    "                d = (g1_x - g2_x)**2 + (g1_y - g2_y)**2\n",
    "\n",
    "                dist = dist + [d]"
   ]
  },
  {
   "cell_type": "code",
   "execution_count": 20,
   "metadata": {},
   "outputs": [
    {
     "data": {
      "text/plain": [
       "1035"
      ]
     },
     "execution_count": 20,
     "metadata": {},
     "output_type": "execute_result"
    }
   ],
   "source": [
    "len(dist)"
   ]
  },
  {
   "cell_type": "code",
   "execution_count": 21,
   "metadata": {},
   "outputs": [
    {
     "data": {
      "text/plain": [
       "17.5028715543827"
      ]
     },
     "execution_count": 21,
     "metadata": {},
     "output_type": "execute_result"
    }
   ],
   "source": [
    "# Averages distance\n",
    "np.mean(dist)"
   ]
  },
  {
   "cell_type": "markdown",
   "metadata": {},
   "source": [
    "## Define the function\n",
    "Given a user and tsne coordinates of games, calculate the average similarity of the games in the user collection"
   ]
  },
  {
   "cell_type": "code",
   "execution_count": 5,
   "metadata": {},
   "outputs": [],
   "source": [
    "def collection_distance(user, tsne):\n",
    "    '''Provided a username in our playerlist and the tsne/game coordinate file,\n",
    "    return the average distance/dissimilarity score of the user's collection'''\n",
    "    \n",
    "    # Get user collection\n",
    "    file = str(user) + '_raw.csv'\n",
    "\n",
    "    user_collection = pd.read_csv(file, sep='\\t', encoding='ISO-8859-1')\n",
    "    \n",
    "    # Clean the collection\n",
    "    # Drop the column 'Unnamed: 0' that is used to number the rows\n",
    "    user_collection.drop('Unnamed: 0', inplace=True, axis=1)\n",
    "\n",
    "    # Apply RatingThreshold\n",
    "    user_collection_cleaned = RatingThreshold(user_collection)\n",
    "\n",
    "    games = user_collection_cleaned['Game']\n",
    "    \n",
    "#     #Drop the first column (just indices)\n",
    "#     tsne.drop('Column1', inplace=True, axis=1)\n",
    "\n",
    "#     #Rename headers with the actual headings (stored in first row)\n",
    "#     tsne.rename(columns=tsne.iloc[0], inplace=True)\n",
    "#     tsne.drop(0, inplace=True, axis=0)\n",
    "#     tsne.reset_index(drop=True, inplace=True)\n",
    "\n",
    "#     tsne[['Ax1','Ax2']] = ga_tsne[['Ax1','Ax2']].apply(pd.to_numeric)\n",
    "    \n",
    "    dist = []\n",
    "\n",
    "    for i in np.arange(0,len(games)):\n",
    "        g1 = games[i]\n",
    "\n",
    "        if g1 in tsne['Game name'].values:\n",
    "            g1_x = tsne[tsne['Game name'] == g1]['Ax1'].iloc[0]\n",
    "            g1_y = tsne[tsne['Game name'] == g1]['Ax2'].iloc[0]\n",
    "\n",
    "            for j in np.arange(i+1, len(games)):\n",
    "                g2 = games[j]\n",
    "\n",
    "                if g2 in tsne['Game name'].values:\n",
    "                    g2_x = tsne[tsne['Game name'] == g2]['Ax1'].iloc[0]\n",
    "                    g2_y = tsne[tsne['Game name'] == g2]['Ax2'].iloc[0]\n",
    "\n",
    "                    d = (g1_x - g2_x)**2 + (g1_y - g2_y)**2\n",
    "\n",
    "                    dist = dist + [d]\n",
    "    \n",
    "    return np.mean(dist)"
   ]
  },
  {
   "cell_type": "markdown",
   "metadata": {},
   "source": [
    "## Apply to all users in a loop"
   ]
  },
  {
   "cell_type": "code",
   "execution_count": null,
   "metadata": {
    "scrolled": true
   },
   "outputs": [],
   "source": [
    "# Get a user list\n",
    "playerlist = pd.read_excel('playerlist.xlsx')\n",
    "\n",
    "# Get tsne coordinates\n",
    "#Get tsne\n",
    "ga_tsne = pd.read_csv('bgg tsne coordinates 100Perplexity 2000Steps.csv')\n",
    "\n",
    "#Drop the first column (just indices)\n",
    "ga_tsne.drop('Unnamed: 0', inplace=True, axis=1)\n",
    "\n",
    "ga_tsne[['Ax1','Ax2']] = ga_tsne[['Ax1','Ax2']].apply(pd.to_numeric)\n",
    "\n",
    "# Storage dataframe\n",
    "user_collection_distances = pd.DataFrame(0, index=np.arange(playerlist.shape[0]), columns=['User','Avg Dissimilarity'])\n",
    "\n",
    "for i in np.arange(0,playerlist.shape[0]):\n",
    "    print(i)\n",
    "    user = playerlist['Username'][i]\n",
    "    \n",
    "    user_dist = collection_distance(user, ga_tsne)\n",
    "    \n",
    "    user_collection_distances.loc[i, 'User'] = user\n",
    "    user_collection_distances.loc[i, 'Avg Dissimilarity'] = user_dist"
   ]
  },
  {
   "cell_type": "code",
   "execution_count": 8,
   "metadata": {},
   "outputs": [
    {
     "data": {
      "text/plain": [
       "26.290954580296532"
      ]
     },
     "execution_count": 8,
     "metadata": {},
     "output_type": "execute_result"
    }
   ],
   "source": [
    "user_collection_distances['Avg Dissimilarity'].mean()"
   ]
  },
  {
   "cell_type": "code",
   "execution_count": 9,
   "metadata": {},
   "outputs": [
    {
     "data": {
      "text/plain": [
       "0.17886621987619233"
      ]
     },
     "execution_count": 9,
     "metadata": {},
     "output_type": "execute_result"
    }
   ],
   "source": [
    "user_collection_distances['Avg Dissimilarity'].min()"
   ]
  },
  {
   "cell_type": "code",
   "execution_count": 10,
   "metadata": {},
   "outputs": [
    {
     "data": {
      "text/plain": [
       "71.230224919114164"
      ]
     },
     "execution_count": 10,
     "metadata": {},
     "output_type": "execute_result"
    }
   ],
   "source": [
    "user_collection_distances['Avg Dissimilarity'].max()"
   ]
  },
  {
   "cell_type": "markdown",
   "metadata": {},
   "source": [
    "## Let's histogram this"
   ]
  },
  {
   "cell_type": "code",
   "execution_count": 11,
   "metadata": {
    "scrolled": true
   },
   "outputs": [],
   "source": [
    "# There are NaN values in our dataset; let's remove them\n",
    "nan_collections = user_collection_distances[user_collection_distances['Avg Dissimilarity'].isnull()]\n",
    "\n",
    "clean_collections = user_collection_distances.drop([111,113,114,122,207])"
   ]
  },
  {
   "cell_type": "code",
   "execution_count": 13,
   "metadata": {
    "scrolled": false
   },
   "outputs": [
    {
     "data": {
      "text/plain": [
       "<matplotlib.text.Text at 0x1dc727bceb8>"
      ]
     },
     "execution_count": 13,
     "metadata": {},
     "output_type": "execute_result"
    },
    {
     "data": {
      "image/png": "[encoded data removed]",
      "text/plain": [
       "<matplotlib.figure.Figure at 0x1dc65f91438>"
      ]
     },
     "metadata": {},
     "output_type": "display_data"
    }
   ],
   "source": [
    "plt.hist(clean_collections['Avg Dissimilarity'].tolist(), bins=np.linspace(0,80,20),edgecolor='black',linewidth=2.0)\n",
    "plt.xlabel('Dissimilarity')\n",
    "plt.ylabel('Count')\n",
    "plt.title('Average Player Collection Dissimilarity (by t-sne scores)')"
   ]
  },
  {
   "cell_type": "markdown",
   "metadata": {},
   "source": [
    "## To compare... what's the range of dissimilarity between games\n",
    "\n",
    "Load the tsne, and compare every game to each other\n",
    "\n",
    "Start with the tsne file: ga_tsne"
   ]
  },
  {
   "cell_type": "code",
   "execution_count": 20,
   "metadata": {
    "collapsed": true
   },
   "outputs": [],
   "source": [
    "import math\n",
    "\n",
    "ga_tsne_master = ga_tsne"
   ]
  },
  {
   "cell_type": "code",
   "execution_count": 21,
   "metadata": {},
   "outputs": [
    {
     "data": {
      "text/plain": [
       "15.0"
      ]
     },
     "execution_count": 21,
     "metadata": {},
     "output_type": "execute_result"
    }
   ],
   "source": [
    "total = 6\n",
    "math.factorial(total)/(math.factorial(2) * math.factorial(total-2))"
   ]
  },
  {
   "cell_type": "code",
   "execution_count": 22,
   "metadata": {
    "collapsed": true
   },
   "outputs": [],
   "source": [
    "#Let's just calculate distances for top 1000 games as a proof of concept\n",
    "ga_tsne = ga_tsne.iloc[0:1000]"
   ]
  },
  {
   "cell_type": "code",
   "execution_count": 23,
   "metadata": {},
   "outputs": [
    {
     "name": "stdout",
     "output_type": "stream",
     "text": [
      "499500\n"
     ]
    }
   ],
   "source": [
    "total = int(math.factorial(ga_tsne.shape[0]) / (math.factorial(2) * math.factorial(ga_tsne.shape[0]-2)))\n",
    "print(total)"
   ]
  },
  {
   "cell_type": "code",
   "execution_count": null,
   "metadata": {
    "collapsed": true,
    "scrolled": true
   },
   "outputs": [],
   "source": [
    "idx = 0\n",
    "\n",
    "total = int(math.factorial(ga_tsne.shape[0]) / (math.factorial(2) * math.factorial(ga_tsne.shape[0]-2)))\n",
    "\n",
    "game_dissimilarities = pd.DataFrame(0, index=np.arange(total), columns=['Game 1','Game 2', 'Dissimilarity'])\n",
    "\n",
    "dist = []\n",
    "\n",
    "for i in np.arange(0,ga_tsne.shape[0]):    \n",
    "    g1 = ga_tsne['Game name'][i]\n",
    "\n",
    "    g1_x = ga_tsne[ga_tsne['Game name'] == g1]['Ax1'].iloc[0]\n",
    "    g1_y = ga_tsne[ga_tsne['Game name'] == g1]['Ax2'].iloc[0]\n",
    "\n",
    "    for j in np.arange(i+1, ga_tsne.shape[0]):\n",
    "        g2 = ga_tsne['Game name'][j]\n",
    "            \n",
    "        g2_x = ga_tsne[ga_tsne['Game name'] == g2]['Ax1'].iloc[0]\n",
    "        g2_y = ga_tsne[ga_tsne['Game name'] == g2]['Ax2'].iloc[0]\n",
    "\n",
    "        d = (g1_x - g2_x)**2 + (g1_y - g2_y)**2\n",
    "\n",
    "        dist = dist + [d]\n",
    "            \n",
    "        game_dissimilarities.loc[idx, 'Game 1'] = g1\n",
    "        game_dissimilarities.loc[idx, 'Game 2'] = g2\n",
    "        game_dissimilarities.loc[idx, 'Dissimilarity'] = d\n",
    "            \n",
    "        print(idx)\n",
    "        idx += 1"
   ]
  },
  {
   "cell_type": "code",
   "execution_count": 27,
   "metadata": {
    "collapsed": true
   },
   "outputs": [],
   "source": [
    "game_dissimilarities.to_csv('Top1000 Game Dissimilarities v2.csv')"
   ]
  },
  {
   "cell_type": "code",
   "execution_count": 28,
   "metadata": {},
   "outputs": [
    {
     "data": {
      "text/html": [
       "<div>\n",
       "<style>\n",
       "    .dataframe thead tr:only-child th {\n",
       "        text-align: right;\n",
       "    }\n",
       "\n",
       "    .dataframe thead th {\n",
       "        text-align: left;\n",
       "    }\n",
       "\n",
       "    .dataframe tbody tr th {\n",
       "        vertical-align: top;\n",
       "    }\n",
       "</style>\n",
       "<table border=\"1\" class=\"dataframe\">\n",
       "  <thead>\n",
       "    <tr style=\"text-align: right;\">\n",
       "      <th></th>\n",
       "      <th>Game 1</th>\n",
       "      <th>Game 2</th>\n",
       "      <th>Dissimilarity</th>\n",
       "    </tr>\n",
       "  </thead>\n",
       "  <tbody>\n",
       "    <tr>\n",
       "      <th>0</th>\n",
       "      <td>Pandemic Legacy: Season 1</td>\n",
       "      <td>Through the Ages: A New Story of Civilization</td>\n",
       "      <td>9.871931</td>\n",
       "    </tr>\n",
       "    <tr>\n",
       "      <th>1</th>\n",
       "      <td>Pandemic Legacy: Season 1</td>\n",
       "      <td>Twilight Struggle</td>\n",
       "      <td>19.224630</td>\n",
       "    </tr>\n",
       "    <tr>\n",
       "      <th>2</th>\n",
       "      <td>Pandemic Legacy: Season 1</td>\n",
       "      <td>Gloomhaven</td>\n",
       "      <td>8.717777</td>\n",
       "    </tr>\n",
       "    <tr>\n",
       "      <th>3</th>\n",
       "      <td>Pandemic Legacy: Season 1</td>\n",
       "      <td>Star Wars: Rebellion</td>\n",
       "      <td>28.227783</td>\n",
       "    </tr>\n",
       "    <tr>\n",
       "      <th>4</th>\n",
       "      <td>Pandemic Legacy: Season 1</td>\n",
       "      <td>Terra Mystica</td>\n",
       "      <td>5.657371</td>\n",
       "    </tr>\n",
       "  </tbody>\n",
       "</table>\n",
       "</div>"
      ],
      "text/plain": [
       "                      Game 1                                         Game 2  \\\n",
       "0  Pandemic Legacy: Season 1  Through the Ages: A New Story of Civilization   \n",
       "1  Pandemic Legacy: Season 1                              Twilight Struggle   \n",
       "2  Pandemic Legacy: Season 1                                     Gloomhaven   \n",
       "3  Pandemic Legacy: Season 1                           Star Wars: Rebellion   \n",
       "4  Pandemic Legacy: Season 1                                  Terra Mystica   \n",
       "\n",
       "   Dissimilarity  \n",
       "0       9.871931  \n",
       "1      19.224630  \n",
       "2       8.717777  \n",
       "3      28.227783  \n",
       "4       5.657371  "
      ]
     },
     "execution_count": 28,
     "metadata": {},
     "output_type": "execute_result"
    }
   ],
   "source": [
    "game_dissimilarities.head()"
   ]
  },
  {
   "cell_type": "code",
   "execution_count": 29,
   "metadata": {},
   "outputs": [
    {
     "data": {
      "text/plain": [
       "count    4.995000e+05\n",
       "mean     2.960967e+01\n",
       "std      2.935794e+01\n",
       "min      5.105901e-08\n",
       "25%      8.055599e+00\n",
       "50%      2.063076e+01\n",
       "75%      4.143742e+01\n",
       "max      2.207125e+02\n",
       "Name: Dissimilarity, dtype: float64"
      ]
     },
     "execution_count": 29,
     "metadata": {},
     "output_type": "execute_result"
    }
   ],
   "source": [
    "game_dissimilarities['Dissimilarity'].describe()"
   ]
  },
  {
   "cell_type": "code",
   "execution_count": 95,
   "metadata": {},
   "outputs": [
    {
     "data": {
      "text/plain": [
       "<matplotlib.text.Text at 0x2744975d978>"
      ]
     },
     "execution_count": 95,
     "metadata": {},
     "output_type": "execute_result"
    },
    {
     "data": {
      "image/png": "[encoded data removed]",
      "text/plain": [
       "<matplotlib.figure.Figure at 0x2744167c9e8>"
      ]
     },
     "metadata": {},
     "output_type": "display_data"
    }
   ],
   "source": [
    "plt.hist(game_dissimilarities['Dissimilarity'].tolist(), bins=np.linspace(0,250,25),edgecolor='black',linewidth=2.0)\n",
    "plt.xlabel('Dissimilarity')\n",
    "plt.ylabel('Count')\n",
    "plt.title('Top 1000 Game Dissimilarity scores (tsne coordinates)')"
   ]
  },
  {
   "cell_type": "markdown",
   "metadata": {
    "collapsed": true
   },
   "source": [
    "## Let's see how games are distributed with simple Euclidean distance using all game attributes\n",
    "\n",
    "t-sne does not give a direct distance between points in multi-dimensional space. Let's just try simple euclidean distance as a measure."
   ]
  },
  {
   "cell_type": "code",
   "execution_count": 45,
   "metadata": {},
   "outputs": [
    {
     "name": "stderr",
     "output_type": "stream",
     "text": [
      "C:\\ProgramData\\Anaconda3\\lib\\site-packages\\IPython\\core\\interactiveshell.py:2717: DtypeWarning: Columns (2,3,4,5,6,7,8,9,10,11,12,13,14,15,16,17,18,19,20,21,22,23,24,25,26,27,28,29,30,31,32,33,34,35,36,37,38,39,40,41,42,43,44,45,46,47,48,49,50,51,52,53,54,55,56,57,58,59,60,61,62,63,64,65,66,67,68,69,70,71,72,73,74,75,76,77,78,79,80,81,82,83,84,85,86,87,88,89,90,91,92,93,94,95,96,97,98,99,100,101,102,103,104,105,106,107,108,109,110,111,112,113,114,115,116,117,118,119,120,121,122,123,124,125,126,127,128,129,130,131,132,133,134,135,136,137,138,139,140,141,142,143) have mixed types. Specify dtype option on import or set low_memory=False.\n",
      "  interactivity=interactivity, compiler=compiler, result=result)\n"
     ]
    }
   ],
   "source": [
    "# Load game attributes csv\n",
    "ga = pd.read_csv('bgg game attributes edited.csv')\n",
    "\n",
    "# Remodel the csv\n",
    "#Drop the first column (just indices)\n",
    "ga.drop('Column1', inplace=True, axis=1)\n",
    "\n",
    "#Rename headers with the actual headings (stored in first row)\n",
    "ga.rename(columns=ga.iloc[0], inplace=True)\n",
    "ga.drop(0, inplace=True, axis=0)\n",
    "ga.reset_index(drop=True, inplace=True)\n",
    "\n",
    "\n",
    "#Set up scaling; remove text\n",
    "ga_to_pca = ga.drop(['Game name','Game rank','Game ID','total categories','total mechanics'], axis=1)\n",
    "\n",
    "# Normalize the non-binary values: #players, playtime, weight\n",
    "#Import sklearn standardscaler\n",
    "from sklearn.preprocessing import StandardScaler\n",
    "scaler = StandardScaler()\n",
    "\n",
    "#Fit and Transform via standard scaler\n",
    "scaler.fit(ga_to_pca[['#players','playtime','weight']])\n",
    "scaled_ga = scaler.transform(ga_to_pca[['#players','playtime','weight']])\n",
    "\n",
    "#Concatenate the normalized columns to the binary columns\n",
    "scaled_ga = pd.concat([pd.DataFrame(scaled_ga, columns=['#players','playtime','weight']),ga_to_pca.drop(['#players','playtime','weight'],axis=1)],axis=1)\n",
    "scaled_ga = scaled_ga.astype('float64')\n",
    "\n",
    "# Add game names back on\n",
    "df = pd.concat([ga['Game name'], scaled_ga],axis=1)"
   ]
  },
  {
   "cell_type": "code",
   "execution_count": 47,
   "metadata": {
    "collapsed": true
   },
   "outputs": [],
   "source": [
    "# Take only the top 1000 games\n",
    "df = df.iloc[0:1000]"
   ]
  },
  {
   "cell_type": "code",
   "execution_count": 61,
   "metadata": {},
   "outputs": [
    {
     "data": {
      "text/plain": [
       "4.0813181602438151"
      ]
     },
     "execution_count": 61,
     "metadata": {},
     "output_type": "execute_result"
    }
   ],
   "source": [
    "g1 = df['Game name'][0]\n",
    "\n",
    "g1_coord = df.iloc[0,1:].as_matrix()\n",
    "g2_coord = df.iloc[1,1:].as_matrix()\n",
    "\n",
    "# Distance calculation\n",
    "np.sqrt(np.square(g1_coord-g2_coord).sum())"
   ]
  },
  {
   "cell_type": "code",
   "execution_count": null,
   "metadata": {
    "collapsed": true,
    "scrolled": true
   },
   "outputs": [],
   "source": [
    "idx = 0\n",
    "\n",
    "total = int(math.factorial(df.shape[0]) / (math.factorial(2) * math.factorial(df.shape[0]-2)))\n",
    "\n",
    "game_distances = pd.DataFrame(0, index=np.arange(total), columns=['Game 1','Game 2', 'Distance'])\n",
    "\n",
    "dist = []\n",
    "\n",
    "for i in np.arange(0,df.shape[0]):    \n",
    "    g1 = df['Game name'][i] #Get first game name\n",
    "\n",
    "    g1_coord = df.iloc[i,1:].as_matrix() #Get first game coordinates\n",
    "\n",
    "    for j in np.arange(i+1, df.shape[0]):\n",
    "        g2 = df['Game name'][j] #Get second game name\n",
    "            \n",
    "        g2_coord = df.iloc[j,1:].as_matrix() #Get second game coordinates\n",
    "        \n",
    "        d = np.sqrt(np.square(g1_coord-g2_coord).sum()) # Distance calculation\n",
    "\n",
    "        dist = dist + [d]\n",
    "            \n",
    "        game_distances.loc[idx, 'Game 1'] = g1\n",
    "        game_distances.loc[idx, 'Game 2'] = g2\n",
    "        game_distances.loc[idx, 'Distance'] = d\n",
    "            \n",
    "        print(idx)\n",
    "        idx += 1"
   ]
  },
  {
   "cell_type": "code",
   "execution_count": 64,
   "metadata": {},
   "outputs": [
    {
     "data": {
      "text/html": [
       "<div>\n",
       "<style>\n",
       "    .dataframe thead tr:only-child th {\n",
       "        text-align: right;\n",
       "    }\n",
       "\n",
       "    .dataframe thead th {\n",
       "        text-align: left;\n",
       "    }\n",
       "\n",
       "    .dataframe tbody tr th {\n",
       "        vertical-align: top;\n",
       "    }\n",
       "</style>\n",
       "<table border=\"1\" class=\"dataframe\">\n",
       "  <thead>\n",
       "    <tr style=\"text-align: right;\">\n",
       "      <th></th>\n",
       "      <th>Game 1</th>\n",
       "      <th>Game 2</th>\n",
       "      <th>Distance</th>\n",
       "    </tr>\n",
       "  </thead>\n",
       "  <tbody>\n",
       "    <tr>\n",
       "      <th>0</th>\n",
       "      <td>Pandemic Legacy: Season 1</td>\n",
       "      <td>Through the Ages: A New Story of Civilization</td>\n",
       "      <td>4.081318</td>\n",
       "    </tr>\n",
       "    <tr>\n",
       "      <th>1</th>\n",
       "      <td>Pandemic Legacy: Season 1</td>\n",
       "      <td>Twilight Struggle</td>\n",
       "      <td>3.982105</td>\n",
       "    </tr>\n",
       "    <tr>\n",
       "      <th>2</th>\n",
       "      <td>Pandemic Legacy: Season 1</td>\n",
       "      <td>Gloomhaven</td>\n",
       "      <td>4.291458</td>\n",
       "    </tr>\n",
       "    <tr>\n",
       "      <th>3</th>\n",
       "      <td>Pandemic Legacy: Season 1</td>\n",
       "      <td>Star Wars: Rebellion</td>\n",
       "      <td>4.128594</td>\n",
       "    </tr>\n",
       "    <tr>\n",
       "      <th>4</th>\n",
       "      <td>Pandemic Legacy: Season 1</td>\n",
       "      <td>Terra Mystica</td>\n",
       "      <td>4.115282</td>\n",
       "    </tr>\n",
       "  </tbody>\n",
       "</table>\n",
       "</div>"
      ],
      "text/plain": [
       "                      Game 1                                         Game 2  \\\n",
       "0  Pandemic Legacy: Season 1  Through the Ages: A New Story of Civilization   \n",
       "1  Pandemic Legacy: Season 1                              Twilight Struggle   \n",
       "2  Pandemic Legacy: Season 1                                     Gloomhaven   \n",
       "3  Pandemic Legacy: Season 1                           Star Wars: Rebellion   \n",
       "4  Pandemic Legacy: Season 1                                  Terra Mystica   \n",
       "\n",
       "   Distance  \n",
       "0  4.081318  \n",
       "1  3.982105  \n",
       "2  4.291458  \n",
       "3  4.128594  \n",
       "4  4.115282  "
      ]
     },
     "execution_count": 64,
     "metadata": {},
     "output_type": "execute_result"
    }
   ],
   "source": [
    "game_distances.head()"
   ]
  },
  {
   "cell_type": "code",
   "execution_count": 65,
   "metadata": {
    "collapsed": true
   },
   "outputs": [],
   "source": [
    "game_distances.to_csv('Top1000 Game Euclidean Distances.csv',encoding='utf-8')"
   ]
  },
  {
   "cell_type": "code",
   "execution_count": 66,
   "metadata": {},
   "outputs": [
    {
     "data": {
      "text/html": [
       "<div>\n",
       "<style>\n",
       "    .dataframe thead tr:only-child th {\n",
       "        text-align: right;\n",
       "    }\n",
       "\n",
       "    .dataframe thead th {\n",
       "        text-align: left;\n",
       "    }\n",
       "\n",
       "    .dataframe tbody tr th {\n",
       "        vertical-align: top;\n",
       "    }\n",
       "</style>\n",
       "<table border=\"1\" class=\"dataframe\">\n",
       "  <thead>\n",
       "    <tr style=\"text-align: right;\">\n",
       "      <th></th>\n",
       "      <th>Distance</th>\n",
       "    </tr>\n",
       "  </thead>\n",
       "  <tbody>\n",
       "    <tr>\n",
       "      <th>count</th>\n",
       "      <td>499500.000000</td>\n",
       "    </tr>\n",
       "    <tr>\n",
       "      <th>mean</th>\n",
       "      <td>3.707307</td>\n",
       "    </tr>\n",
       "    <tr>\n",
       "      <th>std</th>\n",
       "      <td>1.003871</td>\n",
       "    </tr>\n",
       "    <tr>\n",
       "      <th>min</th>\n",
       "      <td>0.003016</td>\n",
       "    </tr>\n",
       "    <tr>\n",
       "      <th>25%</th>\n",
       "      <td>3.257606</td>\n",
       "    </tr>\n",
       "    <tr>\n",
       "      <th>50%</th>\n",
       "      <td>3.638755</td>\n",
       "    </tr>\n",
       "    <tr>\n",
       "      <th>75%</th>\n",
       "      <td>4.030536</td>\n",
       "    </tr>\n",
       "    <tr>\n",
       "      <th>max</th>\n",
       "      <td>20.821560</td>\n",
       "    </tr>\n",
       "  </tbody>\n",
       "</table>\n",
       "</div>"
      ],
      "text/plain": [
       "            Distance\n",
       "count  499500.000000\n",
       "mean        3.707307\n",
       "std         1.003871\n",
       "min         0.003016\n",
       "25%         3.257606\n",
       "50%         3.638755\n",
       "75%         4.030536\n",
       "max        20.821560"
      ]
     },
     "execution_count": 66,
     "metadata": {},
     "output_type": "execute_result"
    }
   ],
   "source": [
    "game_distances.describe()"
   ]
  },
  {
   "cell_type": "code",
   "execution_count": 70,
   "metadata": {},
   "outputs": [
    {
     "data": {
      "text/plain": [
       "(array([  9.00000000e+01,   6.62000000e+02,   1.67480000e+04,\n",
       "          1.84609000e+05,   2.41785000e+05,   4.74670000e+04,\n",
       "          3.09400000e+03,   2.60500000e+03,   4.39000000e+02,\n",
       "          5.00000000e+00,   2.60000000e+01,   5.99000000e+02,\n",
       "          3.69000000e+02,   4.00000000e+00,   0.00000000e+00,\n",
       "          0.00000000e+00,   0.00000000e+00,   0.00000000e+00,\n",
       "          0.00000000e+00,   0.00000000e+00,   2.00000000e+00,\n",
       "          3.50000000e+01,   9.41000000e+02,   2.00000000e+01]),\n",
       " array([  0.   ,   0.875,   1.75 ,   2.625,   3.5  ,   4.375,   5.25 ,\n",
       "          6.125,   7.   ,   7.875,   8.75 ,   9.625,  10.5  ,  11.375,\n",
       "         12.25 ,  13.125,  14.   ,  14.875,  15.75 ,  16.625,  17.5  ,\n",
       "         18.375,  19.25 ,  20.125,  21.   ]),\n",
       " <a list of 24 Patch objects>)"
      ]
     },
     "execution_count": 70,
     "metadata": {},
     "output_type": "execute_result"
    },
    {
     "data": {
      "image/png": "[encoded data removed]",
      "text/plain": [
       "<matplotlib.figure.Figure at 0x274475a8898>"
      ]
     },
     "metadata": {},
     "output_type": "display_data"
    }
   ],
   "source": [
    "plt.hist(game_distances['Distance'].tolist(), bins=np.linspace(0,21,25),edgecolor='black',linewidth=2.0)"
   ]
  },
  {
   "cell_type": "code",
   "execution_count": 72,
   "metadata": {},
   "outputs": [
    {
     "data": {
      "text/plain": [
       "3.6387549104298613"
      ]
     },
     "execution_count": 72,
     "metadata": {},
     "output_type": "execute_result"
    }
   ],
   "source": [
    "game_distances['Distance'].median()"
   ]
  },
  {
   "cell_type": "markdown",
   "metadata": {},
   "source": [
    "## Modify collection distance to use euclidean distances"
   ]
  },
  {
   "cell_type": "code",
   "execution_count": 91,
   "metadata": {
    "collapsed": true
   },
   "outputs": [],
   "source": [
    "def collection_euc_distance(user, game_attributes):\n",
    "    '''Provided a username in our playerlist and the tsne/game coordinate file,\n",
    "    return the average distance/dissimilarity score of the user's collection'''\n",
    "    \n",
    "    # Get user collection\n",
    "    file = str(user) + '_raw.csv'\n",
    "\n",
    "    user_collection = pd.read_csv(file, sep='\\t', encoding='ISO-8859-1')\n",
    "    \n",
    "    # Clean the collection\n",
    "    # Drop the column 'Unnamed: 0' that is used to number the rows\n",
    "    user_collection.drop('Unnamed: 0', inplace=True, axis=1)\n",
    "\n",
    "    # Apply RatingThreshold\n",
    "    user_collection_cleaned = RatingThreshold(user_collection)\n",
    "\n",
    "    games = user_collection_cleaned['Game']\n",
    "        \n",
    "    dist = []\n",
    "\n",
    "    for i in np.arange(0,len(games)):\n",
    "        g1 = games[i]\n",
    "\n",
    "        if g1 in game_attributes['Game name'].values:\n",
    "            g1_coord = game_attributes[game_attributes['Game name'] == g1].iloc[0,1:].as_matrix()\n",
    "            \n",
    "            for j in np.arange(i+1, len(games)):\n",
    "                g2 = games[j]\n",
    "\n",
    "                if g2 in game_attributes['Game name'].values:\n",
    "                    g2_coord = game_attributes[game_attributes['Game name']==g2].iloc[0,1:].as_matrix()\n",
    "\n",
    "                    d = np.sqrt(np.square(g1_coord-g2_coord).sum()) # Distance calculation\n",
    "                    \n",
    "                    dist = dist + [d]\n",
    "    \n",
    "    return np.mean(dist)"
   ]
  },
  {
   "cell_type": "code",
   "execution_count": null,
   "metadata": {
    "collapsed": true
   },
   "outputs": [],
   "source": [
    "# Get a user list\n",
    "playerlist = pd.read_excel('playerlist.xlsx')\n",
    "\n",
    "# Load game attributes csv\n",
    "ga = pd.read_csv('bgg game attributes edited.csv')\n",
    "# Remodel the csv\n",
    "#Drop the first column (just indices)\n",
    "ga.drop('Column1', inplace=True, axis=1)\n",
    "#Rename headers with the actual headings (stored in first row)\n",
    "ga.rename(columns=ga.iloc[0], inplace=True)\n",
    "ga.drop(0, inplace=True, axis=0)\n",
    "ga.reset_index(drop=True, inplace=True)\n",
    "#Set up scaling; remove text\n",
    "ga_to_pca = ga.drop(['Game name','Game rank','Game ID','total categories','total mechanics'], axis=1)\n",
    "# Normalize the non-binary values: #players, playtime, weight\n",
    "#Import sklearn standardscaler\n",
    "from sklearn.preprocessing import StandardScaler\n",
    "scaler = StandardScaler()\n",
    "#Fit and Transform via standard scaler\n",
    "scaler.fit(ga_to_pca[['#players','playtime','weight']])\n",
    "scaled_ga = scaler.transform(ga_to_pca[['#players','playtime','weight']])\n",
    "#Concatenate the normalized columns to the binary columns\n",
    "scaled_ga = pd.concat([pd.DataFrame(scaled_ga, columns=['#players','playtime','weight']),ga_to_pca.drop(['#players','playtime','weight'],axis=1)],axis=1)\n",
    "scaled_ga = scaled_ga.astype('float64')\n",
    "# Add game names back on\n",
    "df = pd.concat([ga['Game name'], scaled_ga],axis=1)\n",
    "\n",
    "\n",
    "# Storage dataframe\n",
    "user_collection_euc_distances = pd.DataFrame(0, index=np.arange(playerlist.shape[0]), columns=['User','Avg Euc Distance'])\n",
    "\n",
    "for i in np.arange(0,playerlist.shape[0]):\n",
    "    print(i)\n",
    "    user = playerlist['Username'][i]\n",
    "    \n",
    "    user_dist = collection_euc_distance(user, df)\n",
    "    \n",
    "    user_collection_euc_distances.loc[i, 'User'] = user\n",
    "    user_collection_euc_distances.loc[i, 'Avg Euc Distance'] = user_dist"
   ]
  },
  {
   "cell_type": "code",
   "execution_count": 110,
   "metadata": {},
   "outputs": [
    {
     "data": {
      "text/plain": [
       "4.6993060673041889"
      ]
     },
     "execution_count": 110,
     "metadata": {},
     "output_type": "execute_result"
    }
   ],
   "source": [
    "user_collection_euc_distances['Avg Euc Distance'].max()"
   ]
  },
  {
   "cell_type": "code",
   "execution_count": 108,
   "metadata": {},
   "outputs": [
    {
     "data": {
      "text/plain": [
       "2.1923282793294869"
      ]
     },
     "execution_count": 108,
     "metadata": {},
     "output_type": "execute_result"
    }
   ],
   "source": [
    "user_collection_euc_distances['Avg Euc Distance'].min()"
   ]
  },
  {
   "cell_type": "code",
   "execution_count": 96,
   "metadata": {
    "collapsed": true
   },
   "outputs": [],
   "source": [
    "# There are NaN values in our dataset; let's remove them\n",
    "nan_collections = user_collection_euc_distances[user_collection_euc_distances['Avg Euc Distance'].isnull()]"
   ]
  },
  {
   "cell_type": "code",
   "execution_count": 102,
   "metadata": {
    "collapsed": true
   },
   "outputs": [],
   "source": [
    "clean_euc_collections = user_collection_euc_distances.drop(nan_collections.index.values)"
   ]
  },
  {
   "cell_type": "code",
   "execution_count": 105,
   "metadata": {},
   "outputs": [
    {
     "data": {
      "text/plain": [
       "<matplotlib.text.Text at 0x2744a3276d8>"
      ]
     },
     "execution_count": 105,
     "metadata": {},
     "output_type": "execute_result"
    },
    {
     "data": {
      "image/png": "[encoded data removed]",
      "text/plain": [
       "<matplotlib.figure.Figure at 0x2744ba20c50>"
      ]
     },
     "metadata": {},
     "output_type": "display_data"
    }
   ],
   "source": [
    "plt.hist(clean_euc_collections['Avg Euc Distance'].tolist(), bins=np.linspace(0,5,25),edgecolor='black',linewidth=2.0)\n",
    "plt.xlabel('Euclidean Distance')\n",
    "plt.ylabel('Count')\n",
    "plt.title('Average Player Collection Dissimilarity (by euclidean distance)')"
   ]
  },
  {
   "cell_type": "code",
   "execution_count": 107,
   "metadata": {},
   "outputs": [
    {
     "data": {
      "text/plain": [
       "3.5636919473332274"
      ]
     },
     "execution_count": 107,
     "metadata": {},
     "output_type": "execute_result"
    }
   ],
   "source": [
    "user_collection_euc_distances['Avg Euc Distance'].median()"
   ]
  },
  {
   "cell_type": "code",
   "execution_count": null,
   "metadata": {
    "collapsed": true
   },
   "outputs": [],
   "source": []
  }
 ],
 "metadata": {
  "kernelspec": {
   "display_name": "Python [Root]",
   "language": "python",
   "name": "Python [Root]"
  },
  "language_info": {
   "codemirror_mode": {
    "name": "ipython",
    "version": 3
   },
   "file_extension": ".py",
   "mimetype": "text/x-python",
   "name": "python",
   "nbconvert_exporter": "python",
   "pygments_lexer": "ipython3",
   "version": "3.5.1"
  }
 },
 "nbformat": 4,
 "nbformat_minor": 2
}
