{
 "cells": [
  {
   "cell_type": "markdown",
   "metadata": {},
   "source": [
    "# User Collection distance\n",
    "\n",
    "Using the tsne points as a representation of \"boardgame similarity\", create a function to calculate how similar the games in a user's collection are to each other.\n",
    "\n",
    "1) Load user data\n",
    "\n",
    "2) Load tsne points\n",
    "\n",
    "3) Calculate all possible game-pair distances\n",
    "\n",
    "4) Average each game-pair distance"
   ]
  },
  {
   "cell_type": "markdown",
   "metadata": {},
   "source": [
    "## Load libraries and functions"
   ]
  },
  {
   "cell_type": "code",
   "execution_count": 1,
   "metadata": {
    "collapsed": true
   },
   "outputs": [],
   "source": [
    "import pandas as pd\n",
    "import numpy as np\n",
    "\n",
    "import matplotlib.pyplot as plt\n",
    "%matplotlib inline\n",
    "import seaborn as sns"
   ]
  },
  {
   "cell_type": "code",
   "execution_count": 2,
   "metadata": {
    "collapsed": true
   },
   "outputs": [],
   "source": [
    "#Need to rewrite Rating Threshold to work with the csv files.\n",
    "#Since the csv files load in N/A values as NaN, we just need to change each\n",
    "#N/A to isnull() checks\n",
    "\n",
    "def RatingThreshold(collection):\n",
    "    \n",
    "    print('Collection Size start: ' + str(collection.shape[0]))\n",
    "    \n",
    "    # First remove any games that have no User Rating and no BGG rating\n",
    "    na_idx = collection[(collection['User rating'].isnull()) & (collection['BGG rating'].isnull())].index.tolist() #Grab indices of N/A User and BGG rating rows\n",
    "    collection.drop(collection.index[na_idx], inplace=True)\n",
    "    \n",
    "    print('Collection Size after removing N/A ratings: ' + str(collection.shape[0]))\n",
    "    \n",
    "    # Remove any games with User rating < 7\n",
    "    #Ratings are stored as strings to account for N/A rating\n",
    "    #Convert column to numeric using pandas to_numeric function\n",
    "    #Set errors to 'coerce' which turns non-numeric strings to NaN values, which will work for numeric comparisons\n",
    "\n",
    "    #Keep if User rating == N/A (for BGG based comparison) and User rating >= 7\n",
    "    collection = collection[(collection['User rating'].isnull()) | (pd.to_numeric(collection['User rating'], errors='coerce') >= 7)]\n",
    "    \n",
    "    print('Collection Size after removing low User ratings: ' + str(collection.shape[0]))\n",
    "    \n",
    "    #Reset index\n",
    "    collection.reset_index(drop=True, inplace=True)\n",
    "    \n",
    "    # Remove any games with BGG rating < 7 (if there is no User Rating)\n",
    "    #Similarly, convert BGG rating column to_numeric\n",
    "    #Find row indices where User rating == N/A and BGG rating < 7\n",
    "    #Drop relevant rows from DataFrame\n",
    "    low_bgg_idx = collection[(collection['User rating'].isnull()) & (pd.to_numeric(collection['BGG rating'], errors='coerce') < 7)].index.tolist()\n",
    "    collection.drop(collection.index[low_bgg_idx],inplace=True)\n",
    "    \n",
    "    collection.reset_index(drop=True, inplace=True)\n",
    "    \n",
    "    print('Collection Size after removing low BGG ratings (if no User rating available): ' + str(collection.shape[0]))\n",
    "    \n",
    "    return collection"
   ]
  },
  {
   "cell_type": "markdown",
   "metadata": {},
   "source": [
    "# Mech only\n",
    "\n",
    "### Load TSNE coordinates"
   ]
  },
  {
   "cell_type": "code",
   "execution_count": 3,
   "metadata": {
    "collapsed": true,
    "scrolled": true
   },
   "outputs": [],
   "source": [
    "# Get tsne\n",
    "ga_tsne = pd.read_csv('bgg mech-only tsne coordinates.csv')\n",
    "\n",
    "#Drop the first column (just indices)\n",
    "ga_tsne.drop('Unnamed: 0', inplace=True, axis=1)\n",
    "\n",
    "ga_tsne[['Ax1','Ax2']] = ga_tsne[['Ax1','Ax2']].apply(pd.to_numeric)"
   ]
  },
  {
   "cell_type": "code",
   "execution_count": 4,
   "metadata": {
    "scrolled": true
   },
   "outputs": [
    {
     "data": {
      "text/html": [
       "<div>\n",
       "<style>\n",
       "    .dataframe thead tr:only-child th {\n",
       "        text-align: right;\n",
       "    }\n",
       "\n",
       "    .dataframe thead th {\n",
       "        text-align: left;\n",
       "    }\n",
       "\n",
       "    .dataframe tbody tr th {\n",
       "        vertical-align: top;\n",
       "    }\n",
       "</style>\n",
       "<table border=\"1\" class=\"dataframe\">\n",
       "  <thead>\n",
       "    <tr style=\"text-align: right;\">\n",
       "      <th></th>\n",
       "      <th>Game name</th>\n",
       "      <th>Ax1</th>\n",
       "      <th>Ax2</th>\n",
       "    </tr>\n",
       "  </thead>\n",
       "  <tbody>\n",
       "    <tr>\n",
       "      <th>0</th>\n",
       "      <td>Pandemic Legacy: Season 1</td>\n",
       "      <td>-2.246176</td>\n",
       "      <td>-1.928657</td>\n",
       "    </tr>\n",
       "    <tr>\n",
       "      <th>1</th>\n",
       "      <td>Through the Ages: A New Story of Civilization</td>\n",
       "      <td>-0.780506</td>\n",
       "      <td>0.458018</td>\n",
       "    </tr>\n",
       "    <tr>\n",
       "      <th>2</th>\n",
       "      <td>Twilight Struggle</td>\n",
       "      <td>0.987346</td>\n",
       "      <td>-1.155518</td>\n",
       "    </tr>\n",
       "    <tr>\n",
       "      <th>3</th>\n",
       "      <td>Gloomhaven</td>\n",
       "      <td>-1.818807</td>\n",
       "      <td>-2.301421</td>\n",
       "    </tr>\n",
       "    <tr>\n",
       "      <th>4</th>\n",
       "      <td>Star Wars: Rebellion</td>\n",
       "      <td>-0.758838</td>\n",
       "      <td>-1.718494</td>\n",
       "    </tr>\n",
       "  </tbody>\n",
       "</table>\n",
       "</div>"
      ],
      "text/plain": [
       "                                       Game name       Ax1       Ax2\n",
       "0                      Pandemic Legacy: Season 1 -2.246176 -1.928657\n",
       "1  Through the Ages: A New Story of Civilization -0.780506  0.458018\n",
       "2                              Twilight Struggle  0.987346 -1.155518\n",
       "3                                     Gloomhaven -1.818807 -2.301421\n",
       "4                           Star Wars: Rebellion -0.758838 -1.718494"
      ]
     },
     "execution_count": 4,
     "metadata": {},
     "output_type": "execute_result"
    }
   ],
   "source": [
    "ga_tsne.head()"
   ]
  },
  {
   "cell_type": "markdown",
   "metadata": {},
   "source": [
    "## Draft code for a single user\n",
    "\n",
    "#### Load user"
   ]
  },
  {
   "cell_type": "code",
   "execution_count": 6,
   "metadata": {
    "scrolled": true
   },
   "outputs": [
    {
     "name": "stdout",
     "output_type": "stream",
     "text": [
      "Collection Size start: 125\n",
      "Collection Size after removing N/A ratings: 123\n",
      "Collection Size after removing low User ratings: 88\n",
      "Collection Size after removing low BGG ratings (if no User rating available): 57\n"
     ]
    },
    {
     "name": "stderr",
     "output_type": "stream",
     "text": [
      "C:\\ProgramData\\Anaconda3\\lib\\site-packages\\ipykernel_launcher.py:33: SettingWithCopyWarning: \n",
      "A value is trying to be set on a copy of a slice from a DataFrame\n",
      "\n",
      "See the caveats in the documentation: http://pandas.pydata.org/pandas-docs/stable/indexing.html#indexing-view-versus-copy\n"
     ]
    }
   ],
   "source": [
    "# Get a user list: Use user #105\n",
    "playerlist = pd.read_excel('playerlist.xlsx')\n",
    "user = playerlist['Username'][105]\n",
    "file = str(user) + '_raw.csv'\n",
    "\n",
    "user_collection = pd.read_csv(file, sep='\\t', encoding='ISO-8859-1')\n",
    "\n",
    "# Clean the collection\n",
    "\n",
    "# Drop the column 'Unnamed: 0' that is used to number the rows\n",
    "user_collection.drop('Unnamed: 0', inplace=True, axis=1)\n",
    "    \n",
    "# Apply RatingThreshold\n",
    "user_collection_cleaned = RatingThreshold(user_collection)\n",
    "\n",
    "games = user_collection_cleaned['Game']"
   ]
  },
  {
   "cell_type": "code",
   "execution_count": null,
   "metadata": {},
   "outputs": [],
   "source": [
    "user_collection.head()"
   ]
  },
  {
   "cell_type": "markdown",
   "metadata": {},
   "source": [
    "#### Calculate all distances in the collection\n",
    "(Single user draft)"
   ]
  },
  {
   "cell_type": "code",
   "execution_count": 8,
   "metadata": {
    "collapsed": true
   },
   "outputs": [],
   "source": [
    "dist = []\n",
    "\n",
    "for i in np.arange(0,len(games)):\n",
    "    g1 = games[i]\n",
    "    \n",
    "    if g1 in ga_tsne['Game name'].values:\n",
    "        g1_x = ga_tsne[ga_tsne['Game name'] == g1]['Ax1'].iloc[0]\n",
    "        g1_y = ga_tsne[ga_tsne['Game name'] == g1]['Ax2'].iloc[0]\n",
    "\n",
    "        for j in np.arange(i+1, len(games)):\n",
    "            g2 = games[j]\n",
    "            \n",
    "            if g2 in ga_tsne['Game name'].values:\n",
    "                g2_x = ga_tsne[ga_tsne['Game name'] == g2]['Ax1'].iloc[0]\n",
    "                g2_y = ga_tsne[ga_tsne['Game name'] == g2]['Ax2'].iloc[0]\n",
    "\n",
    "                d = (g1_x - g2_x)**2 + (g1_y - g2_y)**2\n",
    "\n",
    "                dist = dist + [d]"
   ]
  },
  {
   "cell_type": "code",
   "execution_count": 9,
   "metadata": {},
   "outputs": [
    {
     "data": {
      "text/plain": [
       "1035"
      ]
     },
     "execution_count": 9,
     "metadata": {},
     "output_type": "execute_result"
    }
   ],
   "source": [
    "len(dist)"
   ]
  },
  {
   "cell_type": "code",
   "execution_count": 10,
   "metadata": {},
   "outputs": [
    {
     "data": {
      "text/plain": [
       "31.483585888824773"
      ]
     },
     "execution_count": 10,
     "metadata": {},
     "output_type": "execute_result"
    }
   ],
   "source": [
    "# Averages distance\n",
    "np.mean(dist)"
   ]
  },
  {
   "cell_type": "markdown",
   "metadata": {},
   "source": [
    "## Define the function\n",
    "Given a user and tsne coordinates of games, calculate the average similarity of the games in the user collection"
   ]
  },
  {
   "cell_type": "code",
   "execution_count": 11,
   "metadata": {
    "collapsed": true
   },
   "outputs": [],
   "source": [
    "def collection_distance(user, tsne):\n",
    "    '''Provided a username in our playerlist and the tsne/game coordinate file,\n",
    "    return the average distance/dissimilarity score of the user's collection'''\n",
    "    \n",
    "    # Get user collection\n",
    "    file = str(user) + '_raw.csv'\n",
    "\n",
    "    user_collection = pd.read_csv(file, sep='\\t', encoding='ISO-8859-1')\n",
    "    \n",
    "    # Clean the collection\n",
    "    # Drop the column 'Unnamed: 0' that is used to number the rows\n",
    "    user_collection.drop('Unnamed: 0', inplace=True, axis=1)\n",
    "\n",
    "    # Apply RatingThreshold\n",
    "    user_collection_cleaned = RatingThreshold(user_collection)\n",
    "\n",
    "    games = user_collection_cleaned['Game']\n",
    "    \n",
    "#     #Drop the first column (just indices)\n",
    "#     tsne.drop('Column1', inplace=True, axis=1)\n",
    "\n",
    "#     #Rename headers with the actual headings (stored in first row)\n",
    "#     tsne.rename(columns=tsne.iloc[0], inplace=True)\n",
    "#     tsne.drop(0, inplace=True, axis=0)\n",
    "#     tsne.reset_index(drop=True, inplace=True)\n",
    "\n",
    "#     tsne[['Ax1','Ax2']] = ga_tsne[['Ax1','Ax2']].apply(pd.to_numeric)\n",
    "    \n",
    "    dist = []\n",
    "\n",
    "    for i in np.arange(0,len(games)):\n",
    "        g1 = games[i]\n",
    "\n",
    "        if g1 in tsne['Game name'].values:\n",
    "            g1_x = tsne[tsne['Game name'] == g1]['Ax1'].iloc[0]\n",
    "            g1_y = tsne[tsne['Game name'] == g1]['Ax2'].iloc[0]\n",
    "\n",
    "            for j in np.arange(i+1, len(games)):\n",
    "                g2 = games[j]\n",
    "\n",
    "                if g2 in tsne['Game name'].values:\n",
    "                    g2_x = tsne[tsne['Game name'] == g2]['Ax1'].iloc[0]\n",
    "                    g2_y = tsne[tsne['Game name'] == g2]['Ax2'].iloc[0]\n",
    "\n",
    "                    d = (g1_x - g2_x)**2 + (g1_y - g2_y)**2\n",
    "\n",
    "                    dist = dist + [d]\n",
    "    \n",
    "    return np.mean(dist)"
   ]
  },
  {
   "cell_type": "markdown",
   "metadata": {},
   "source": [
    "## Apply to all users in a loop"
   ]
  },
  {
   "cell_type": "code",
   "execution_count": null,
   "metadata": {
    "scrolled": true
   },
   "outputs": [],
   "source": [
    "# Get a user list\n",
    "playerlist = pd.read_excel('playerlist.xlsx')\n",
    "\n",
    "# Get tsne coordinates\n",
    "#Get tsne\n",
    "ga_tsne = pd.read_csv('bgg mech-only tsne coordinates.csv')\n",
    "\n",
    "#Drop the first column (just indices)\n",
    "ga_tsne.drop('Unnamed: 0', inplace=True, axis=1)\n",
    "\n",
    "ga_tsne[['Ax1','Ax2']] = ga_tsne[['Ax1','Ax2']].apply(pd.to_numeric)\n",
    "\n",
    "# Storage dataframe\n",
    "user_collection_dissimilarity = pd.DataFrame(0, index=np.arange(playerlist.shape[0]), columns=['User','Avg Dissimilarity'])\n",
    "\n",
    "for i in np.arange(0,playerlist.shape[0]):\n",
    "    print(i)\n",
    "    user = playerlist['Username'][i]\n",
    "    \n",
    "    user_dist = collection_distance(user, ga_tsne)\n",
    "    \n",
    "    user_collection_dissimilarity.loc[i, 'User'] = user\n",
    "    user_collection_dissimilarity.loc[i, 'Avg Dissimilarity'] = user_dist"
   ]
  },
  {
   "cell_type": "code",
   "execution_count": 16,
   "metadata": {
    "scrolled": true
   },
   "outputs": [
    {
     "data": {
      "text/plain": [
       "32.61517943106511"
      ]
     },
     "execution_count": 16,
     "metadata": {},
     "output_type": "execute_result"
    }
   ],
   "source": [
    "user_collection_dissimilarity.rename(columns={'Avg Dissimilarity':'Avg Mech Dissimilarity'},inplace=1)\n",
    "user_collection_dissimilarity['Avg Mech Dissimilarity'].mean()"
   ]
  },
  {
   "cell_type": "code",
   "execution_count": 17,
   "metadata": {},
   "outputs": [
    {
     "data": {
      "text/plain": [
       "2.9944782260369842"
      ]
     },
     "execution_count": 17,
     "metadata": {},
     "output_type": "execute_result"
    }
   ],
   "source": [
    "user_collection_dissimilarity['Avg Mech Dissimilarity'].min()"
   ]
  },
  {
   "cell_type": "code",
   "execution_count": 18,
   "metadata": {},
   "outputs": [
    {
     "data": {
      "text/plain": [
       "80.751500705655076"
      ]
     },
     "execution_count": 18,
     "metadata": {},
     "output_type": "execute_result"
    }
   ],
   "source": [
    "user_collection_dissimilarity['Avg Mech Dissimilarity'].max()"
   ]
  },
  {
   "cell_type": "markdown",
   "metadata": {},
   "source": [
    "#### Let's histogram this"
   ]
  },
  {
   "cell_type": "code",
   "execution_count": 20,
   "metadata": {
    "collapsed": true,
    "scrolled": true
   },
   "outputs": [],
   "source": [
    "# There are NaN values in our dataset; let's remove them\n",
    "nan_collections = user_collection_dissimilarity[user_collection_dissimilarity['Avg Mech Dissimilarity'].isnull()]"
   ]
  },
  {
   "cell_type": "code",
   "execution_count": 27,
   "metadata": {
    "collapsed": true
   },
   "outputs": [],
   "source": [
    "clean_collections = user_collection_dissimilarity.drop(nan_collections.index.values)"
   ]
  },
  {
   "cell_type": "code",
   "execution_count": 30,
   "metadata": {
    "scrolled": true
   },
   "outputs": [
    {
     "data": {
      "text/plain": [
       "(array([  1.,   0.,   3.,   9.,  17.,  19.,  28.,  37.,  38.,  21.,  15.,\n",
       "          9.,   3.,   4.,   0.,   0.,   0.,   1.,   0.]),\n",
       " array([  0.        ,   4.21052632,   8.42105263,  12.63157895,\n",
       "         16.84210526,  21.05263158,  25.26315789,  29.47368421,\n",
       "         33.68421053,  37.89473684,  42.10526316,  46.31578947,\n",
       "         50.52631579,  54.73684211,  58.94736842,  63.15789474,\n",
       "         67.36842105,  71.57894737,  75.78947368,  80.        ]),\n",
       " <a list of 19 Patch objects>)"
      ]
     },
     "execution_count": 30,
     "metadata": {},
     "output_type": "execute_result"
    },
    {
     "data": {
      "image/png": "[encoded data removed]",
      "text/plain": [
       "<matplotlib.figure.Figure at 0x1753b24ba58>"
      ]
     },
     "metadata": {},
     "output_type": "display_data"
    }
   ],
   "source": [
    "plt.hist(clean_collections['Avg Mech Dissimilarity'].tolist(), bins=np.linspace(0,80,20),edgecolor='black',linewidth=2.0)"
   ]
  },
  {
   "cell_type": "markdown",
   "metadata": {},
   "source": [
    "## Modify collection distance to use euclidean distances"
   ]
  },
  {
   "cell_type": "code",
   "execution_count": 45,
   "metadata": {
    "collapsed": true
   },
   "outputs": [],
   "source": [
    "def collection_euc_distance(user, game_attributes):\n",
    "    '''Provided a username in our playerlist and the tsne/game coordinate file,\n",
    "    return the average distance/dissimilarity score of the user's collection'''\n",
    "    \n",
    "    # Get user collection\n",
    "    file = str(user) + '_raw.csv'\n",
    "\n",
    "    user_collection = pd.read_csv(file, sep='\\t', encoding='ISO-8859-1')\n",
    "    \n",
    "    # Clean the collection\n",
    "    # Drop the column 'Unnamed: 0' that is used to number the rows\n",
    "    user_collection.drop('Unnamed: 0', inplace=True, axis=1)\n",
    "\n",
    "    # Apply RatingThreshold\n",
    "    user_collection_cleaned = RatingThreshold(user_collection)\n",
    "\n",
    "    games = user_collection_cleaned['Game']\n",
    "        \n",
    "    dist = []\n",
    "\n",
    "    for i in np.arange(0,len(games)):\n",
    "        g1 = games[i]\n",
    "\n",
    "        if g1 in game_attributes['Game name'].values:\n",
    "            g1_coord = game_attributes[game_attributes['Game name'] == g1].iloc[0,1:].as_matrix()\n",
    "            \n",
    "            for j in np.arange(i+1, len(games)):\n",
    "                g2 = games[j]\n",
    "\n",
    "                if g2 in game_attributes['Game name'].values:\n",
    "                    g2_coord = game_attributes[game_attributes['Game name']==g2].iloc[0,1:].as_matrix()\n",
    "\n",
    "                    d = np.sqrt(np.square(g1_coord-g2_coord).sum()) # Distance calculation\n",
    "                    \n",
    "                    dist = dist + [d]\n",
    "    \n",
    "    return np.mean(dist)"
   ]
  },
  {
   "cell_type": "code",
   "execution_count": null,
   "metadata": {},
   "outputs": [],
   "source": [
    "# Get a user list\n",
    "playerlist = pd.read_excel('playerlist.xlsx')\n",
    "\n",
    "# Load game attributes csv\n",
    "ga = pd.read_csv('bgg game attributes edited.csv')\n",
    "# Remodel the csv\n",
    "#Drop the first column (just indices)\n",
    "ga.drop('Column1', inplace=True, axis=1)\n",
    "#Rename headers with the actual headings (stored in first row)\n",
    "ga.rename(columns=ga.iloc[0], inplace=True)\n",
    "ga.drop(0, inplace=True, axis=0)\n",
    "ga.reset_index(drop=True, inplace=True)\n",
    "#Set up scaling; remove text\n",
    "ga_to_pca = ga.drop(['Game name','Game rank','Game ID','total categories','total mechanics'], axis=1)\n",
    "# Normalize the non-binary values: #players, playtime, weight\n",
    "#Import sklearn standardscaler\n",
    "from sklearn.preprocessing import StandardScaler\n",
    "scaler = StandardScaler()\n",
    "#Fit and Transform via standard scaler\n",
    "scaler.fit(ga_to_pca[['#players','playtime','weight']])\n",
    "scaled_ga = scaler.transform(ga_to_pca[['#players','playtime','weight']])\n",
    "#Concatenate the normalized columns to the binary columns\n",
    "scaled_ga = pd.concat([pd.DataFrame(scaled_ga, columns=['#players','playtime','weight']),ga_to_pca.drop(['#players','playtime','weight'],axis=1)],axis=1)\n",
    "scaled_ga = scaled_ga.astype('float64')\n",
    "# Add game names back on\n",
    "scaled_mech = pd.concat([ga['Game name'],scaled_ga.loc[:,'#players':'weight'],scaled_ga.loc[:,'Acting':'Worker Placement']],axis=1)\n",
    "\n",
    "# Storage dataframe\n",
    "user_collection_euc_distances = pd.DataFrame(0, index=np.arange(playerlist.shape[0]), columns=['User','Avg Mech Euc Distance'])\n",
    "\n",
    "for i in np.arange(0,playerlist.shape[0]):\n",
    "    print(i)\n",
    "    user = playerlist['Username'][i]\n",
    "    \n",
    "    user_dist = collection_euc_distance(user, scaled_mech)\n",
    "    \n",
    "    user_collection_euc_distances.loc[i, 'User'] = user\n",
    "    user_collection_euc_distances.loc[i, 'Avg Mech Euc Distance'] = user_dist"
   ]
  },
  {
   "cell_type": "code",
   "execution_count": 47,
   "metadata": {},
   "outputs": [
    {
     "data": {
      "text/plain": [
       "3.7973011053100598"
      ]
     },
     "execution_count": 47,
     "metadata": {},
     "output_type": "execute_result"
    }
   ],
   "source": [
    "user_collection_euc_distances['Avg Mech Euc Distance'].max()"
   ]
  },
  {
   "cell_type": "code",
   "execution_count": 48,
   "metadata": {},
   "outputs": [
    {
     "data": {
      "text/plain": [
       "1.0601628952895794"
      ]
     },
     "execution_count": 48,
     "metadata": {},
     "output_type": "execute_result"
    }
   ],
   "source": [
    "user_collection_euc_distances['Avg Mech Euc Distance'].min()"
   ]
  },
  {
   "cell_type": "code",
   "execution_count": 50,
   "metadata": {
    "collapsed": true
   },
   "outputs": [],
   "source": [
    "# There are NaN values in our dataset; let's remove them\n",
    "nan_collections = user_collection_euc_distances[user_collection_euc_distances['Avg Mech Euc Distance'].isnull()]"
   ]
  },
  {
   "cell_type": "code",
   "execution_count": 51,
   "metadata": {
    "collapsed": true
   },
   "outputs": [],
   "source": [
    "clean_euc_collections = user_collection_euc_distances.drop(nan_collections.index.values)"
   ]
  },
  {
   "cell_type": "code",
   "execution_count": 53,
   "metadata": {},
   "outputs": [
    {
     "data": {
      "text/plain": [
       "<matplotlib.text.Text at 0x1753e6198d0>"
      ]
     },
     "execution_count": 53,
     "metadata": {},
     "output_type": "execute_result"
    },
    {
     "data": {
      "image/png": "[encoded data removed]",
      "text/plain": [
       "<matplotlib.figure.Figure at 0x1753d3e6cc0>"
      ]
     },
     "metadata": {},
     "output_type": "display_data"
    }
   ],
   "source": [
    "plt.hist(clean_euc_collections['Avg Mech Euc Distance'].tolist(), bins=np.linspace(0,5,25),edgecolor='black',linewidth=2.0)\n",
    "plt.xlabel('Euclidean Distance')\n",
    "plt.ylabel('Count')\n",
    "plt.title('Average Player Collection Mech Dissimilarity (by euclidean distance)')"
   ]
  },
  {
   "cell_type": "code",
   "execution_count": 54,
   "metadata": {},
   "outputs": [
    {
     "data": {
      "text/plain": [
       "2.7153855122418173"
      ]
     },
     "execution_count": 54,
     "metadata": {},
     "output_type": "execute_result"
    }
   ],
   "source": [
    "user_collection_euc_distances['Avg Mech Euc Distance'].median()"
   ]
  },
  {
   "cell_type": "code",
   "execution_count": null,
   "metadata": {},
   "outputs": [],
   "source": [
    "user_collection_dissimilarity.head()"
   ]
  },
  {
   "cell_type": "code",
   "execution_count": null,
   "metadata": {},
   "outputs": [],
   "source": [
    "user_collection_euc_distances.head()"
   ]
  },
  {
   "cell_type": "code",
   "execution_count": 58,
   "metadata": {
    "collapsed": true
   },
   "outputs": [],
   "source": [
    "# For output\n",
    "out = pd.concat([user_collection_dissimilarity, user_collection_euc_distances.loc[:,'Avg Mech Euc Distance']],axis=1)"
   ]
  },
  {
   "cell_type": "code",
   "execution_count": 60,
   "metadata": {
    "collapsed": true
   },
   "outputs": [],
   "source": [
    "out.to_csv('user collection mech-only dissimilarity.csv')"
   ]
  },
  {
   "cell_type": "markdown",
   "metadata": {
    "collapsed": true
   },
   "source": [
    "## Range of Dissimilarity\n",
    "\n",
    "### TSNE\n",
    "\n",
    "Load the tsne, and compare every game to each other\n",
    "\n",
    "Start with the tsne file: ga_tsne"
   ]
  },
  {
   "cell_type": "code",
   "execution_count": 3,
   "metadata": {
    "collapsed": true
   },
   "outputs": [],
   "source": [
    "import math\n",
    "\n",
    "# Get tsne\n",
    "ga_tsne = pd.read_csv('bgg mech-only tsne coordinates.csv')\n",
    "\n",
    "#Drop the first column (just indices)\n",
    "ga_tsne.drop('Unnamed: 0', inplace=True, axis=1)\n",
    "\n",
    "ga_tsne[['Ax1','Ax2']] = ga_tsne[['Ax1','Ax2']].apply(pd.to_numeric)"
   ]
  },
  {
   "cell_type": "code",
   "execution_count": 4,
   "metadata": {
    "collapsed": true
   },
   "outputs": [],
   "source": [
    "#Let's just calculate distances for top 1000 games as a proof of concept\n",
    "ga_tsne = ga_tsne.iloc[0:1000]"
   ]
  },
  {
   "cell_type": "code",
   "execution_count": 5,
   "metadata": {},
   "outputs": [
    {
     "name": "stdout",
     "output_type": "stream",
     "text": [
      "499500\n"
     ]
    }
   ],
   "source": [
    "total = int(math.factorial(ga_tsne.shape[0]) / (math.factorial(2) * math.factorial(ga_tsne.shape[0]-2)))\n",
    "print(total)"
   ]
  },
  {
   "cell_type": "code",
   "execution_count": null,
   "metadata": {
    "scrolled": true
   },
   "outputs": [],
   "source": [
    "idx = 0\n",
    "\n",
    "total = int(math.factorial(ga_tsne.shape[0]) / (math.factorial(2) * math.factorial(ga_tsne.shape[0]-2)))\n",
    "\n",
    "game_dissimilarities = pd.DataFrame(0, index=np.arange(total), columns=['Game 1','Game 2', 'Dissimilarity'])\n",
    "\n",
    "dist = []\n",
    "\n",
    "for i in np.arange(0,ga_tsne.shape[0]):    \n",
    "    g1 = ga_tsne['Game name'][i]\n",
    "\n",
    "    g1_x = ga_tsne[ga_tsne['Game name'] == g1]['Ax1'].iloc[0]\n",
    "    g1_y = ga_tsne[ga_tsne['Game name'] == g1]['Ax2'].iloc[0]\n",
    "\n",
    "    for j in np.arange(i+1, ga_tsne.shape[0]):\n",
    "        g2 = ga_tsne['Game name'][j]\n",
    "            \n",
    "        g2_x = ga_tsne[ga_tsne['Game name'] == g2]['Ax1'].iloc[0]\n",
    "        g2_y = ga_tsne[ga_tsne['Game name'] == g2]['Ax2'].iloc[0]\n",
    "\n",
    "        d = (g1_x - g2_x)**2 + (g1_y - g2_y)**2\n",
    "\n",
    "        dist = dist + [d]\n",
    "            \n",
    "        game_dissimilarities.loc[idx, 'Game 1'] = g1\n",
    "        game_dissimilarities.loc[idx, 'Game 2'] = g2\n",
    "        game_dissimilarities.loc[idx, 'Dissimilarity'] = d\n",
    "            \n",
    "        print(idx)\n",
    "        idx += 1"
   ]
  },
  {
   "cell_type": "code",
   "execution_count": 7,
   "metadata": {
    "collapsed": true
   },
   "outputs": [],
   "source": [
    "game_dissimilarities.to_csv('Top1000 Game tsne Dissimilarities mech-only.csv', encoding='utf-8')"
   ]
  },
  {
   "cell_type": "code",
   "execution_count": 8,
   "metadata": {},
   "outputs": [
    {
     "data": {
      "text/html": [
       "<div>\n",
       "<style>\n",
       "    .dataframe thead tr:only-child th {\n",
       "        text-align: right;\n",
       "    }\n",
       "\n",
       "    .dataframe thead th {\n",
       "        text-align: left;\n",
       "    }\n",
       "\n",
       "    .dataframe tbody tr th {\n",
       "        vertical-align: top;\n",
       "    }\n",
       "</style>\n",
       "<table border=\"1\" class=\"dataframe\">\n",
       "  <thead>\n",
       "    <tr style=\"text-align: right;\">\n",
       "      <th></th>\n",
       "      <th>Game 1</th>\n",
       "      <th>Game 2</th>\n",
       "      <th>Dissimilarity</th>\n",
       "    </tr>\n",
       "  </thead>\n",
       "  <tbody>\n",
       "    <tr>\n",
       "      <th>0</th>\n",
       "      <td>Pandemic Legacy: Season 1</td>\n",
       "      <td>Through the Ages: A New Story of Civilization</td>\n",
       "      <td>7.844406</td>\n",
       "    </tr>\n",
       "    <tr>\n",
       "      <th>1</th>\n",
       "      <td>Pandemic Legacy: Season 1</td>\n",
       "      <td>Twilight Struggle</td>\n",
       "      <td>11.053405</td>\n",
       "    </tr>\n",
       "    <tr>\n",
       "      <th>2</th>\n",
       "      <td>Pandemic Legacy: Season 1</td>\n",
       "      <td>Gloomhaven</td>\n",
       "      <td>0.321598</td>\n",
       "    </tr>\n",
       "    <tr>\n",
       "      <th>3</th>\n",
       "      <td>Pandemic Legacy: Season 1</td>\n",
       "      <td>Star Wars: Rebellion</td>\n",
       "      <td>2.256342</td>\n",
       "    </tr>\n",
       "    <tr>\n",
       "      <th>4</th>\n",
       "      <td>Pandemic Legacy: Season 1</td>\n",
       "      <td>Terra Mystica</td>\n",
       "      <td>4.685879</td>\n",
       "    </tr>\n",
       "  </tbody>\n",
       "</table>\n",
       "</div>"
      ],
      "text/plain": [
       "                      Game 1                                         Game 2  \\\n",
       "0  Pandemic Legacy: Season 1  Through the Ages: A New Story of Civilization   \n",
       "1  Pandemic Legacy: Season 1                              Twilight Struggle   \n",
       "2  Pandemic Legacy: Season 1                                     Gloomhaven   \n",
       "3  Pandemic Legacy: Season 1                           Star Wars: Rebellion   \n",
       "4  Pandemic Legacy: Season 1                                  Terra Mystica   \n",
       "\n",
       "   Dissimilarity  \n",
       "0       7.844406  \n",
       "1      11.053405  \n",
       "2       0.321598  \n",
       "3       2.256342  \n",
       "4       4.685879  "
      ]
     },
     "execution_count": 8,
     "metadata": {},
     "output_type": "execute_result"
    }
   ],
   "source": [
    "game_dissimilarities.head()"
   ]
  },
  {
   "cell_type": "code",
   "execution_count": 9,
   "metadata": {},
   "outputs": [
    {
     "data": {
      "text/plain": [
       "count    4.995000e+05\n",
       "mean     2.818759e+01\n",
       "std      2.873929e+01\n",
       "min      2.452076e-09\n",
       "25%      7.411341e+00\n",
       "50%      1.880628e+01\n",
       "75%      3.960175e+01\n",
       "max      2.269593e+02\n",
       "Name: Dissimilarity, dtype: float64"
      ]
     },
     "execution_count": 9,
     "metadata": {},
     "output_type": "execute_result"
    }
   ],
   "source": [
    "game_dissimilarities['Dissimilarity'].describe()"
   ]
  },
  {
   "cell_type": "code",
   "execution_count": 10,
   "metadata": {
    "scrolled": true
   },
   "outputs": [
    {
     "data": {
      "text/plain": [
       "<matplotlib.text.Text at 0x249e1095438>"
      ]
     },
     "execution_count": 10,
     "metadata": {},
     "output_type": "execute_result"
    },
    {
     "data": {
      "image/png": "[encoded data removed]",
      "text/plain": [
       "<matplotlib.figure.Figure at 0x249dee8a470>"
      ]
     },
     "metadata": {},
     "output_type": "display_data"
    }
   ],
   "source": [
    "plt.hist(game_dissimilarities['Dissimilarity'].tolist(), bins=np.linspace(0,250,25),edgecolor='black',linewidth=2.0)\n",
    "plt.xlabel('Dissimilarity')\n",
    "plt.ylabel('Count')\n",
    "plt.title('Top 1000 Game Dissimilarity scores (tsne coordinates)')"
   ]
  },
  {
   "cell_type": "markdown",
   "metadata": {},
   "source": [
    "### Euclidean distance"
   ]
  },
  {
   "cell_type": "code",
   "execution_count": 11,
   "metadata": {
    "scrolled": true
   },
   "outputs": [
    {
     "name": "stderr",
     "output_type": "stream",
     "text": [
      "C:\\ProgramData\\Anaconda3\\lib\\site-packages\\IPython\\core\\interactiveshell.py:2717: DtypeWarning: Columns (2,3,4,5,6,7,8,9,10,11,12,13,14,15,16,17,18,19,20,21,22,23,24,25,26,27,28,29,30,31,32,33,34,35,36,37,38,39,40,41,42,43,44,45,46,47,48,49,50,51,52,53,54,55,56,57,58,59,60,61,62,63,64,65,66,67,68,69,70,71,72,73,74,75,76,77,78,79,80,81,82,83,84,85,86,87,88,89,90,91,92,93,94,95,96,97,98,99,100,101,102,103,104,105,106,107,108,109,110,111,112,113,114,115,116,117,118,119,120,121,122,123,124,125,126,127,128,129,130,131,132,133,134,135,136,137,138,139,140,141,142,143) have mixed types. Specify dtype option on import or set low_memory=False.\n",
      "  interactivity=interactivity, compiler=compiler, result=result)\n"
     ]
    }
   ],
   "source": [
    "# Load game attributes csv\n",
    "ga = pd.read_csv('bgg game attributes edited.csv')\n",
    "\n",
    "# Remodel the csv\n",
    "#Drop the first column (just indices)\n",
    "ga.drop('Column1', inplace=True, axis=1)\n",
    "#Rename headers with the actual headings (stored in first row)\n",
    "ga.rename(columns=ga.iloc[0], inplace=True)\n",
    "ga.drop(0, inplace=True, axis=0)\n",
    "ga.reset_index(drop=True, inplace=True)\n",
    "#Set up scaling; remove text\n",
    "ga_to_pca = ga.drop(['Game name','Game rank','Game ID','total categories','total mechanics'], axis=1)\n",
    "# Normalize the non-binary values: #players, playtime, weight\n",
    "#Import sklearn standardscaler\n",
    "from sklearn.preprocessing import StandardScaler\n",
    "scaler = StandardScaler()\n",
    "#Fit and Transform via standard scaler\n",
    "scaler.fit(ga_to_pca[['#players','playtime','weight']])\n",
    "scaled_ga = scaler.transform(ga_to_pca[['#players','playtime','weight']])\n",
    "#Concatenate the normalized columns to the binary columns\n",
    "scaled_ga = pd.concat([pd.DataFrame(scaled_ga, columns=['#players','playtime','weight']),ga_to_pca.drop(['#players','playtime','weight'],axis=1)],axis=1)\n",
    "scaled_ga = scaled_ga.astype('float64')\n",
    "# Add game names back on\n",
    "scaled_mech = pd.concat([ga['Game name'],scaled_ga.loc[:,'#players':'weight'],scaled_ga.loc[:,'Acting':'Worker Placement']],axis=1)"
   ]
  },
  {
   "cell_type": "code",
   "execution_count": 12,
   "metadata": {
    "collapsed": true
   },
   "outputs": [],
   "source": [
    "# Take only the top 1000 games\n",
    "df = scaled_mech.iloc[0:1000]"
   ]
  },
  {
   "cell_type": "code",
   "execution_count": 13,
   "metadata": {},
   "outputs": [
    {
     "data": {
      "text/plain": [
       "3.4142580343518212"
      ]
     },
     "execution_count": 13,
     "metadata": {},
     "output_type": "execute_result"
    }
   ],
   "source": [
    "g1 = df['Game name'][0]\n",
    "\n",
    "g1_coord = df.iloc[0,1:].as_matrix()\n",
    "g2_coord = df.iloc[1,1:].as_matrix()\n",
    "\n",
    "# Distance calculation\n",
    "np.sqrt(np.square(g1_coord-g2_coord).sum())"
   ]
  },
  {
   "cell_type": "code",
   "execution_count": null,
   "metadata": {
    "scrolled": true
   },
   "outputs": [],
   "source": [
    "idx = 0\n",
    "\n",
    "total = int(math.factorial(df.shape[0]) / (math.factorial(2) * math.factorial(df.shape[0]-2)))\n",
    "\n",
    "game_distances = pd.DataFrame(0, index=np.arange(total), columns=['Game 1','Game 2', 'Distance'])\n",
    "\n",
    "dist = []\n",
    "\n",
    "for i in np.arange(0,df.shape[0]):    \n",
    "    g1 = df['Game name'][i] #Get first game name\n",
    "\n",
    "    g1_coord = df.iloc[i,1:].as_matrix() #Get first game coordinates\n",
    "\n",
    "    for j in np.arange(i+1, df.shape[0]):\n",
    "        g2 = df['Game name'][j] #Get second game name\n",
    "            \n",
    "        g2_coord = df.iloc[j,1:].as_matrix() #Get second game coordinates\n",
    "        \n",
    "        d = np.sqrt(np.square(g1_coord-g2_coord).sum()) # Distance calculation\n",
    "\n",
    "        dist = dist + [d]\n",
    "            \n",
    "        game_distances.loc[idx, 'Game 1'] = g1\n",
    "        game_distances.loc[idx, 'Game 2'] = g2\n",
    "        game_distances.loc[idx, 'Distance'] = d\n",
    "            \n",
    "        print(idx)\n",
    "        idx += 1"
   ]
  },
  {
   "cell_type": "code",
   "execution_count": 15,
   "metadata": {},
   "outputs": [
    {
     "data": {
      "text/html": [
       "<div>\n",
       "<style>\n",
       "    .dataframe thead tr:only-child th {\n",
       "        text-align: right;\n",
       "    }\n",
       "\n",
       "    .dataframe thead th {\n",
       "        text-align: left;\n",
       "    }\n",
       "\n",
       "    .dataframe tbody tr th {\n",
       "        vertical-align: top;\n",
       "    }\n",
       "</style>\n",
       "<table border=\"1\" class=\"dataframe\">\n",
       "  <thead>\n",
       "    <tr style=\"text-align: right;\">\n",
       "      <th></th>\n",
       "      <th>Game 1</th>\n",
       "      <th>Game 2</th>\n",
       "      <th>Distance</th>\n",
       "    </tr>\n",
       "  </thead>\n",
       "  <tbody>\n",
       "    <tr>\n",
       "      <th>0</th>\n",
       "      <td>Pandemic Legacy: Season 1</td>\n",
       "      <td>Through the Ages: A New Story of Civilization</td>\n",
       "      <td>3.414258</td>\n",
       "    </tr>\n",
       "    <tr>\n",
       "      <th>1</th>\n",
       "      <td>Pandemic Legacy: Season 1</td>\n",
       "      <td>Twilight Struggle</td>\n",
       "      <td>3.295020</td>\n",
       "    </tr>\n",
       "    <tr>\n",
       "      <th>2</th>\n",
       "      <td>Pandemic Legacy: Season 1</td>\n",
       "      <td>Gloomhaven</td>\n",
       "      <td>3.378848</td>\n",
       "    </tr>\n",
       "    <tr>\n",
       "      <th>3</th>\n",
       "      <td>Pandemic Legacy: Season 1</td>\n",
       "      <td>Star Wars: Rebellion</td>\n",
       "      <td>3.169431</td>\n",
       "    </tr>\n",
       "    <tr>\n",
       "      <th>4</th>\n",
       "      <td>Pandemic Legacy: Season 1</td>\n",
       "      <td>Terra Mystica</td>\n",
       "      <td>3.306893</td>\n",
       "    </tr>\n",
       "  </tbody>\n",
       "</table>\n",
       "</div>"
      ],
      "text/plain": [
       "                      Game 1                                         Game 2  \\\n",
       "0  Pandemic Legacy: Season 1  Through the Ages: A New Story of Civilization   \n",
       "1  Pandemic Legacy: Season 1                              Twilight Struggle   \n",
       "2  Pandemic Legacy: Season 1                                     Gloomhaven   \n",
       "3  Pandemic Legacy: Season 1                           Star Wars: Rebellion   \n",
       "4  Pandemic Legacy: Season 1                                  Terra Mystica   \n",
       "\n",
       "   Distance  \n",
       "0  3.414258  \n",
       "1  3.295020  \n",
       "2  3.378848  \n",
       "3  3.169431  \n",
       "4  3.306893  "
      ]
     },
     "execution_count": 15,
     "metadata": {},
     "output_type": "execute_result"
    }
   ],
   "source": [
    "game_distances.head()"
   ]
  },
  {
   "cell_type": "code",
   "execution_count": 16,
   "metadata": {
    "collapsed": true
   },
   "outputs": [],
   "source": [
    "game_distances.to_csv('Top1000 Game Euclidean Distances mech-only.csv',encoding='utf-8')"
   ]
  },
  {
   "cell_type": "code",
   "execution_count": 17,
   "metadata": {},
   "outputs": [
    {
     "data": {
      "text/html": [
       "<div>\n",
       "<style>\n",
       "    .dataframe thead tr:only-child th {\n",
       "        text-align: right;\n",
       "    }\n",
       "\n",
       "    .dataframe thead th {\n",
       "        text-align: left;\n",
       "    }\n",
       "\n",
       "    .dataframe tbody tr th {\n",
       "        vertical-align: top;\n",
       "    }\n",
       "</style>\n",
       "<table border=\"1\" class=\"dataframe\">\n",
       "  <thead>\n",
       "    <tr style=\"text-align: right;\">\n",
       "      <th></th>\n",
       "      <th>Distance</th>\n",
       "    </tr>\n",
       "  </thead>\n",
       "  <tbody>\n",
       "    <tr>\n",
       "      <th>count</th>\n",
       "      <td>499500.000000</td>\n",
       "    </tr>\n",
       "    <tr>\n",
       "      <th>mean</th>\n",
       "      <td>2.845981</td>\n",
       "    </tr>\n",
       "    <tr>\n",
       "      <th>std</th>\n",
       "      <td>1.028070</td>\n",
       "    </tr>\n",
       "    <tr>\n",
       "      <th>min</th>\n",
       "      <td>0.003016</td>\n",
       "    </tr>\n",
       "    <tr>\n",
       "      <th>25%</th>\n",
       "      <td>2.434420</td>\n",
       "    </tr>\n",
       "    <tr>\n",
       "      <th>50%</th>\n",
       "      <td>2.758401</td>\n",
       "    </tr>\n",
       "    <tr>\n",
       "      <th>75%</th>\n",
       "      <td>3.129249</td>\n",
       "    </tr>\n",
       "    <tr>\n",
       "      <th>max</th>\n",
       "      <td>20.652781</td>\n",
       "    </tr>\n",
       "  </tbody>\n",
       "</table>\n",
       "</div>"
      ],
      "text/plain": [
       "            Distance\n",
       "count  499500.000000\n",
       "mean        2.845981\n",
       "std         1.028070\n",
       "min         0.003016\n",
       "25%         2.434420\n",
       "50%         2.758401\n",
       "75%         3.129249\n",
       "max        20.652781"
      ]
     },
     "execution_count": 17,
     "metadata": {},
     "output_type": "execute_result"
    }
   ],
   "source": [
    "game_distances.describe()"
   ]
  },
  {
   "cell_type": "code",
   "execution_count": 18,
   "metadata": {},
   "outputs": [
    {
     "data": {
      "text/plain": [
       "(array([  4.16000000e+02,   1.29990000e+04,   1.79155000e+05,\n",
       "          2.54980000e+05,   4.28260000e+04,   3.94900000e+03,\n",
       "          1.14200000e+03,   1.96100000e+03,   7.40000000e+01,\n",
       "          2.00000000e+00,   4.50000000e+01,   7.95000000e+02,\n",
       "          1.55000000e+02,   3.00000000e+00,   0.00000000e+00,\n",
       "          0.00000000e+00,   0.00000000e+00,   0.00000000e+00,\n",
       "          0.00000000e+00,   0.00000000e+00,   3.00000000e+00,\n",
       "          8.50000000e+01,   9.07000000e+02,   3.00000000e+00]),\n",
       " array([  0.   ,   0.875,   1.75 ,   2.625,   3.5  ,   4.375,   5.25 ,\n",
       "          6.125,   7.   ,   7.875,   8.75 ,   9.625,  10.5  ,  11.375,\n",
       "         12.25 ,  13.125,  14.   ,  14.875,  15.75 ,  16.625,  17.5  ,\n",
       "         18.375,  19.25 ,  20.125,  21.   ]),\n",
       " <a list of 24 Patch objects>)"
      ]
     },
     "execution_count": 18,
     "metadata": {},
     "output_type": "execute_result"
    },
    {
     "data": {
      "image/png": "[encoded data removed]",
      "text/plain": [
       "<matplotlib.figure.Figure at 0x249def2ba20>"
      ]
     },
     "metadata": {},
     "output_type": "display_data"
    }
   ],
   "source": [
    "plt.hist(game_distances['Distance'].tolist(), bins=np.linspace(0,21,25),edgecolor='black',linewidth=2.0)"
   ]
  },
  {
   "cell_type": "code",
   "execution_count": 19,
   "metadata": {
    "scrolled": true
   },
   "outputs": [
    {
     "data": {
      "text/plain": [
       "2.7584013405083203"
      ]
     },
     "execution_count": 19,
     "metadata": {},
     "output_type": "execute_result"
    }
   ],
   "source": [
    "game_distances['Distance'].median()"
   ]
  },
  {
   "cell_type": "code",
   "execution_count": null,
   "metadata": {
    "collapsed": true
   },
   "outputs": [],
   "source": []
  }
 ],
 "metadata": {
  "kernelspec": {
   "display_name": "Python 3",
   "language": "python",
   "name": "python3"
  },
  "language_info": {
   "codemirror_mode": {
    "name": "ipython",
    "version": 3
   },
   "file_extension": ".py",
   "mimetype": "text/x-python",
   "name": "python",
   "nbconvert_exporter": "python",
   "pygments_lexer": "ipython3",
   "version": "3.6.1"
  }
 },
 "nbformat": 4,
 "nbformat_minor": 2
}
