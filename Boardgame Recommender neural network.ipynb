{
 "cells": [
  {
   "cell_type": "markdown",
   "metadata": {},
   "source": [
    "# Goal: Scrape data off a boardgame geek wishlist\n",
    "\n",
    "Data to collect:\n",
    "\n",
    "1) Username\n",
    "\n",
    "2) Game\n",
    "\n",
    "3) User Game Rating\n",
    "\n",
    "4) Avg Game Rating (to be used in the case the user has not provided a rating)\n",
    "\n",
    "\n",
    "References:\n",
    "\n",
    "https://github.com/ThaWeatherman/scrapers/tree/master/boardgamegeek\n",
    "\n",
    "https://boardgamegeek.com/browse/boardgamemechanic"
   ]
  },
  {
   "cell_type": "markdown",
   "metadata": {},
   "source": [
    "## Written functions\n",
    "\n",
    "#### UserCollection(user) :\n",
    "Returns collection pulled from user's BGG collection url. <br>\n",
    "Input: Username (as in url)<br>\n",
    "Output: pandas DataFrame with Username, Game, User Game Rating, and BGG Game Rating\n",
    "\n",
    "#### RatingThreshold(collection) : \n",
    "Returns curated collection that keeps only games with User or BGG rating > 7 <br>\n",
    "Input: pandas DataFrame from UserCollection function<br>\n",
    "Output: pandas DataFrame\n",
    "\n",
    "#### games2vec(user_collection, games_dict) :\n",
    "Returns user collection as a vector where each index is represented by a game as determined by game_dict<br>\n",
    "Input: pandas DataFrame of user collection cleaned by RatingThreshold, games dictionary<br>\n",
    "Output: numpy array\n",
    "\n",
    "#### bgg_dict() :\n",
    "Establishes the game dictionary (loaded from a csv scraped from ranked games of BGG)\n",
    "Output: Dictionary with games to index, Dictionary with index to game name\n",
    "\n",
    "#### generate_training(collection, games_dict) :\n",
    "Returns user collection as two matrices. Each row of predictor and predicted matrix corresponds to a boardgame from user's collection (input as a games2vec vector). The predictor vector has all other games from the collection. Predicted vector has only the game being predicted.<br>\n",
    "Input: numpy array from games2vec function<br>\n",
    "Output: numpy matrix predictor, numpy matrix predicted"
   ]
  },
  {
   "cell_type": "markdown",
   "metadata": {},
   "source": [
    "# Run this code\n",
    "\n",
    "1) Import all libraries used\n",
    "\n",
    "2) Define all functions (as described above)\n",
    "\n",
    "3) Create Training Matrix from all user collections\n",
    "\n",
    "4) Split data to Training and CV datasets"
   ]
  },
  {
   "cell_type": "markdown",
   "metadata": {},
   "source": [
    "### Libraries and Functions"
   ]
  },
  {
   "cell_type": "code",
   "execution_count": 1,
   "metadata": {
    "collapsed": true
   },
   "outputs": [],
   "source": [
    "import pandas as pd\n",
    "import matplotlib.pyplot as plt\n",
    "%matplotlib inline\n",
    "\n",
    "import seaborn as sns\n",
    "import numpy as np\n",
    "import math"
   ]
  },
  {
   "cell_type": "code",
   "execution_count": 2,
   "metadata": {
    "collapsed": true
   },
   "outputs": [],
   "source": [
    "def UserCollection(user):\n",
    "    # Import necessary libraries\n",
    "    from bs4 import BeautifulSoup\n",
    "    import requests\n",
    "    import pandas as pd\n",
    "    \n",
    "    # Set up pd dataframe\n",
    "    col = ['User','Game','User rating', 'BGG rating']\n",
    "    games = pd.DataFrame(columns = col)\n",
    "    \n",
    "    # Pull webpage\n",
    "    url = \"https://boardgamegeek.com/collection/user/\" + user + \"?own=1&subtype=boardgame&ff=1\"\n",
    "    r = requests.get(url)\n",
    "\n",
    "    data = r.text\n",
    "\n",
    "    soup = BeautifulSoup(data, \"lxml\")\n",
    "    \n",
    "    # Get all the \"Objects\" that contain each boardgame in the collection.\n",
    "    #Use the fact that the boardgame collection is the only one with the attribute \"id\".\n",
    "    #All other tables on the page have no additional attributes\n",
    "    all_games = soup.find_all(lambda tag:tag.name=='tr' and len(tag.attrs) > 0)\n",
    "    \n",
    "    for i in range(0,len(all_games)):\n",
    "        # Start with 1 boardgame \"Object\"\n",
    "        current_game = all_games[i]\n",
    "        \n",
    "        # To return Game name:\n",
    "        #t is a bs4 tag\n",
    "        #collection rating is stored under td tag, class = collection_objectname , a\n",
    "        t_name = current_game.find_all('td', {'class':'collection_objectname '})[0]\n",
    "        name = t_name.a.contents[0]\n",
    "                \n",
    "\n",
    "        # To return (user) Collection Rating:\n",
    "        #t is a bs4 tag\n",
    "        #collection rating is stored under td tag, class = collection_rating , div class=ratingtext\n",
    "        t_UserRating = current_game.find_all('td',{'class':'collection_rating '})[0]\n",
    "        t_UserRating = t_UserRating.find_all('div',{'class':'ratingtext'})\n",
    "\n",
    "        # It's possible the user does not provide a rating, so we should check for that\n",
    "        if t_UserRating:\n",
    "            t_UserRating = t_UserRating[0]\n",
    "            UserRating = t_UserRating.contents[0]\n",
    "        else:\n",
    "            UserRating = 'N/A'\n",
    "        \n",
    "        \n",
    "        # To return BGG Rating:\n",
    "        #t is a bs4 tag\n",
    "        #collection rating is stored under td tag, class = collection_bggrating\n",
    "        t_BggRating = current_game.find_all('td',{'class':'collection_bggrating'})\n",
    "\n",
    "        #Can't call the td attribute for some reason. Use 'text' to pull the text string\n",
    "        rate_text = t_BggRating[0].text\n",
    "\n",
    "        #The text string includes \\n and \\t spacing. Get just the rating number (a float)\n",
    "        #Find first index of a numerical digit\n",
    "        #This can be done using the regular expression library 're'\n",
    "        import re\n",
    "        start = re.search(\"\\d\",rate_text) #\\d re flag for any decimal digit [0-9]\n",
    "        \n",
    "        # It's possible bgg does not provide a rating, so we should check        \n",
    "        if start is None: \n",
    "            #Start is currently set as a NoneType if regex does not find a numerical character\n",
    "            start = rate_text.find('N') #Use standard str.find to locate index for \"N/A\"\n",
    "        else:  \n",
    "            #Regex does return an output\n",
    "            start = re.search(\"\\d\",rate_text).start()\n",
    "\n",
    "        #Find the end of the rating string\n",
    "        end = rate_text.find('\\t',start)\n",
    "\n",
    "        #Get the decimal rating\n",
    "        BggRating = rate_text[start:end]\n",
    "        \n",
    "        \n",
    "        # Final Result\n",
    "        print('User: ' + user)\n",
    "        print('Game name: ' + name)\n",
    "        print('User rating: ' + UserRating)\n",
    "        print('BGG rating: ' + BggRating)\n",
    "        print('\\n')\n",
    "        \n",
    "        games = games.append(pd.DataFrame([[user,name, UserRating, BggRating]], columns=col))\n",
    "    \n",
    "    # Reset the index of the pd dataframe since the rows get appended all with index=0\n",
    "    games.reset_index(drop=True, inplace=True)\n",
    "    \n",
    "    # Export collection as a csv for later\n",
    "    games.to_csv(user+'_raw.csv',sep='\\t')\n",
    "    \n",
    "    return games"
   ]
  },
  {
   "cell_type": "code",
   "execution_count": 3,
   "metadata": {
    "collapsed": true
   },
   "outputs": [],
   "source": [
    "#Need to rewrite Rating Threshold to work with the csv files.\n",
    "#Since the csv files load in N/A values as NaN, we just need to change each\n",
    "#N/A to isnull() checks\n",
    "\n",
    "def RatingThreshold(collection):\n",
    "    \n",
    "    print('Collection Size start: ' + str(collection.shape[0]))\n",
    "    \n",
    "    # First remove any games that have no User Rating and no BGG rating\n",
    "    na_idx = collection[(collection['User rating'].isnull()) & (collection['BGG rating'].isnull())].index.tolist() #Grab indices of N/A User and BGG rating rows\n",
    "    collection.drop(collection.index[na_idx], inplace=True)\n",
    "    \n",
    "    print('Collection Size after removing N/A ratings: ' + str(collection.shape[0]))\n",
    "    \n",
    "    # Remove any games with User rating < 7\n",
    "    #Ratings are stored as strings to account for N/A rating\n",
    "    #Convert column to numeric using pandas to_numeric function\n",
    "    #Set errors to 'coerce' which turns non-numeric strings to NaN values, which will work for numeric comparisons\n",
    "\n",
    "    #Keep if User rating == N/A (for BGG based comparison) and User rating >= 7\n",
    "    collection = collection[(collection['User rating'].isnull()) | (pd.to_numeric(collection['User rating'], errors='coerce') >= 7)]\n",
    "    \n",
    "    print('Collection Size after removing low User ratings: ' + str(collection.shape[0]))\n",
    "    \n",
    "    #Reset index\n",
    "    collection.reset_index(drop=True, inplace=True)\n",
    "    \n",
    "    # Remove any games with BGG rating < 7 (if there is no User Rating)\n",
    "    #Similarly, convert BGG rating column to_numeric\n",
    "    #Find row indices where User rating == N/A and BGG rating < 7\n",
    "    #Drop relevant rows from DataFrame\n",
    "    low_bgg_idx = collection[(collection['User rating'].isnull()) & (pd.to_numeric(collection['BGG rating'], errors='coerce') < 7)].index.tolist()\n",
    "    collection.drop(collection.index[low_bgg_idx],inplace=True)\n",
    "    \n",
    "    collection.reset_index(drop=True, inplace=True)\n",
    "    \n",
    "    print('Collection Size after removing low BGG ratings (if no User rating available): ' + str(collection.shape[0]))\n",
    "    \n",
    "    return collection"
   ]
  },
  {
   "cell_type": "code",
   "execution_count": 4,
   "metadata": {
    "collapsed": true
   },
   "outputs": [],
   "source": [
    "def games2vec(user_collection, games_dict):\n",
    "    '''Take the user collection (game titles series) and game title dictionary as input.\n",
    "    Output a vector representation of the collection.\n",
    "    All mismatched game titles will be ignored.'''\n",
    "    \n",
    "    # Use numpy to generate the vector\n",
    "    import numpy as np\n",
    "    \n",
    "    # Set up unpopulated vector of 0's\n",
    "    collection = np.zeros((1,len(games_dict)))\n",
    "    \n",
    "    for i in range(0,len(user_collection)):\n",
    "        current_game = user_collection.iloc[i]\n",
    "        \n",
    "        if current_game in games_dict:\n",
    "            current_idx = games_dict[current_game]\n",
    "            collection[0, current_idx] = 1\n",
    "    \n",
    "    return collection"
   ]
  },
  {
   "cell_type": "code",
   "execution_count": 5,
   "metadata": {
    "collapsed": true
   },
   "outputs": [],
   "source": [
    "def bgg_dict(min_rank=-1):\n",
    "    '''Create dictionary of all ranked games on BGG to a number; the number is the index for the game used in the data sets.\n",
    "    Also returns a reverse dictionary of number to game for decoding.\n",
    "    Returns: Games dictionary, Games_reverse dictionary\n",
    "    '''\n",
    "       \n",
    "    import pandas as pd\n",
    "    # Create dictionary of all games. From previous webscraping, we have a csv with all ranked games on BGG. We'll limit our recommendations to games on the list.\n",
    "    games_list = pd.read_csv('bgg id output.csv')\n",
    "\n",
    "    # Remove all NaN rows\n",
    "    games_list.dropna(axis=0,how='any',inplace=True)\n",
    "    games_list.reset_index(drop=True,inplace=True)\n",
    "\n",
    "    # There are repeat titles in the list. Remove them.\n",
    "    rep_games_idx = games_list[games_list['Game'].duplicated()].index.tolist() #Returns the indices of all repeat titles. This list does NOT include the first appearance\n",
    "    games_list.drop(games_list.index[rep_games_idx],inplace=True)\n",
    "    games_list.reset_index(drop=True,inplace=True)\n",
    "\n",
    "    # Get just the titles\n",
    "    games = games_list['Game']\n",
    "\n",
    "    # Create empty dictionary\n",
    "    games_idx = dict()\n",
    "\n",
    "    # Establish minimum game rank to consider; default -1 considers all games\n",
    "    if min_rank == -1:\n",
    "        min_rank = len(games)\n",
    "    elif min_rank >= len(games):\n",
    "        min_rank = len(games)\n",
    "    else:\n",
    "        min_rank = min_rank+1\n",
    "    \n",
    "    # The dictionary games_idx will use Game Titles as the key and a number as the value\n",
    "    for i in range(0,min_rank):\n",
    "        game_title = games[i]\n",
    "        games_idx[game_title] = i\n",
    "\n",
    "        \n",
    "    games_reverse = dict((y,x) for x,y in games_idx.items())\n",
    "    \n",
    "    return games_idx, games_reverse"
   ]
  },
  {
   "cell_type": "code",
   "execution_count": 6,
   "metadata": {
    "collapsed": true
   },
   "outputs": [],
   "source": [
    "def generate_training(collection, games_dict):\n",
    "    \"\"\"Takes a user's collection as input along with the games dictionary.\n",
    "    Outputs a matrix where each row is the training vector (predictor) for a game\n",
    "    and another matrix where each row is the expected vector (predicted)\"\"\"\n",
    "    \n",
    "    import numpy as np\n",
    "    \n",
    "    # Find all indices in the collection array with value=1\n",
    "    in_collection = np.nonzero(collection)[0] #returns index of nonzeros (aka value=1) of collection array\n",
    "\n",
    "    # Create predictor vectors and predicted vectors\n",
    "    #Iterate through every game in the collection, indices given by in_collection\n",
    "    #Set value at the current index to 0 for predictor vector\n",
    "    #Set a predicted vector to have 1 at the current index\n",
    "\n",
    "    # Create two empty np arrays. #Rows = #Games in collection. #Columns = #Game Titles\n",
    "    predictor = np.empty([len(in_collection), len(games_dict)])\n",
    "    predicted = np.zeros([len(in_collection), len(games_dict)])\n",
    "\n",
    "    for i in range(0,len(in_collection)):\n",
    "        # Index of current game\n",
    "        current_game = in_collection[i]\n",
    "\n",
    "    #     # Create copy of the collection\n",
    "    #     curr_predictor = np.copy(collection)\n",
    "    #    # Set current boardgame value to 0 in predictor\n",
    "    #    curr_predictor[0,current_game] = 0\n",
    "\n",
    "        # Set values in current predictor row to collection\n",
    "        predictor[i,:] = collection\n",
    "        # Set current boardgame value to 0 in predictor\n",
    "        predictor[i,current_game] = 0\n",
    "\n",
    "        # Set current boardgame in predicted vector to 1    \n",
    "        predicted[i,current_game] = 1\n",
    "    \n",
    "    return predictor, predicted"
   ]
  },
  {
   "cell_type": "markdown",
   "metadata": {},
   "source": [
    "### Create Training Matrix: Aggregate all collections"
   ]
  },
  {
   "cell_type": "code",
   "execution_count": 120,
   "metadata": {
    "collapsed": true
   },
   "outputs": [],
   "source": [
    "# Number of games we are considering (from top rated)\n",
    "total = 5000\n",
    "\n",
    "# Get the game_list\n",
    "games_list = pd.read_csv('bgg id output.csv')\n",
    "#Remove all NaN rows\n",
    "games_list.dropna(axis=0,how='any',inplace=True)\n",
    "games_list.reset_index(drop=True,inplace=True)\n",
    "#There are repeat titles in the list. Remove them.\n",
    "rep_games_idx = games_list[games_list['Game'].duplicated()].index.tolist() #Returns the indices of all repeat titles. This list does NOT include the first appearance\n",
    "games_list.drop(games_list.index[rep_games_idx],inplace=True)\n",
    "games_list.reset_index(drop=True,inplace=True)\n",
    "#Reduce to # of games to consider\n",
    "games_list = games_list.loc[:total,:]\n",
    "\n",
    "# Get the playerlist\n",
    "playerlist = pd.read_excel('playerlist.xlsx')\n",
    "# Generate the bgg dictionary of indices to game\n",
    "games, games_decode = bgg_dict(total)"
   ]
  },
  {
   "cell_type": "code",
   "execution_count": null,
   "metadata": {
    "collapsed": true,
    "scrolled": false
   },
   "outputs": [],
   "source": [
    "# Have a list for removed users (those whose collections fall below 1 game after cleanup)\n",
    "removed_users = []\n",
    "\n",
    "for i in range(0,len(playerlist)):\n",
    "    # Get the user file\n",
    "    #print(str(ct) + ': ' + str(user))\n",
    "    user = playerlist['Username'][i]\n",
    "    file = str(user) + '_raw.csv'\n",
    "    user_collection = pd.read_csv(file, sep='\\t', encoding='ISO-8859-1')\n",
    "    #Drop the column 'Unnamed: 0' that is used to number the rows\n",
    "    user_collection.drop('Unnamed: 0', inplace=True, axis=1)\n",
    "    \n",
    "    # Apply RatingThreshold\n",
    "    user_collection_cleaned = RatingThreshold(user_collection)\n",
    "    \n",
    "    # Check if user has more than 1 game after cleaning the collection\n",
    "    if user_collection_cleaned.shape[0] == 1:\n",
    "        print('Less than 1 game added')\n",
    "        removed_users = removed_users + [user_collection_cleaned.loc[0,'User']]\n",
    "    else:\n",
    "        # Vectorize the collection\n",
    "        user_vector = games2vec(user_collection_cleaned['Game'], games)\n",
    "        #Add user number\n",
    "        user_vector = np.append([[i]], user_vector, axis=1)\n",
    "        #Create row as a dataframe\n",
    "        user_row = pd.DataFrame(user_vector, columns=list(['User']) + list(games_list['Game']))\n",
    "        \n",
    "        # Append to existing aggregate_collections dataframe\n",
    "        if i == 0:\n",
    "            aggregate_collections = user_row\n",
    "        else:\n",
    "            aggregate_collections = pd.concat([aggregate_collections, user_row])\n",
    "\n",
    "aggregate_collections.to_csv('Coded user collections.csv',encoding='utf-8')     "
   ]
  },
  {
   "cell_type": "code",
   "execution_count": 114,
   "metadata": {},
   "outputs": [
    {
     "data": {
      "text/plain": [
       "(211, 5002)"
      ]
     },
     "execution_count": 114,
     "metadata": {},
     "output_type": "execute_result"
    }
   ],
   "source": [
    "aggregate_collections.shape"
   ]
  },
  {
   "cell_type": "code",
   "execution_count": 119,
   "metadata": {},
   "outputs": [
    {
     "data": {
      "text/plain": [
       "[]"
      ]
     },
     "execution_count": 119,
     "metadata": {},
     "output_type": "execute_result"
    }
   ],
   "source": [
    "removed_users"
   ]
  },
  {
   "cell_type": "markdown",
   "metadata": {},
   "source": [
    "### Create Training Matrix: Split user matrix to inputs and outputs"
   ]
  },
  {
   "cell_type": "code",
   "execution_count": 20,
   "metadata": {
    "collapsed": true
   },
   "outputs": [],
   "source": [
    "# Get the aggregated collections list\n",
    "aggregate_collections = pd.read_csv('Coded user collections.csv')\n",
    "aggregate_collections.drop(['Unnamed: 0'], inplace=True, axis=1)\n",
    "\n",
    "# Number of games we are considering (from top rated)\n",
    "total = 5000\n",
    "\n",
    "# Get the game_list\n",
    "games_list = pd.read_csv('bgg id output.csv')\n",
    "#Remove all NaN rows\n",
    "games_list.dropna(axis=0,how='any',inplace=True)\n",
    "games_list.reset_index(drop=True,inplace=True)\n",
    "#There are repeat titles in the list. Remove them.\n",
    "rep_games_idx = games_list[games_list['Game'].duplicated()].index.tolist() #Returns the indices of all repeat titles. This list does NOT include the first appearance\n",
    "games_list.drop(games_list.index[rep_games_idx],inplace=True)\n",
    "games_list.reset_index(drop=True,inplace=True)\n",
    "#Reduce to # of games to consider\n",
    "games_list = games_list.loc[:total,:]\n",
    "\n",
    "# Get the playerlist\n",
    "playerlist = pd.read_excel('playerlist.xlsx')\n",
    "# Generate the bgg dictionary of indices to game\n",
    "games, games_decode = bgg_dict(total)"
   ]
  },
  {
   "cell_type": "code",
   "execution_count": 52,
   "metadata": {
    "collapsed": true
   },
   "outputs": [],
   "source": [
    "#Keep track of how many training rows we will have\n",
    "total_training_rows = 0\n",
    "\n",
    "#Iterate through all users and convert collections into input vectors and expected_output vectors\n",
    "for i in range(0, aggregate_collections['User'].shape[0]):\n",
    "    #Use generate_training to create the input and expected output vectors\n",
    "    user_input, user_exp_output = generate_training(aggregate_collections.iloc[i,1:].as_matrix(), games)\n",
    "    \n",
    "    #Append vectors into a matrix\n",
    "    if i == 0:\n",
    "        training_data = user_input\n",
    "        exp_output_data = user_exp_output\n",
    "    else:\n",
    "        training_data = np.concatenate((training_data, user_input),axis=0)\n",
    "        exp_output_data = np.concatenate((exp_output_data, user_exp_output), axis=0)\n",
    "    \n",
    "    #Update number of rows generated\n",
    "    total_training_rows = total_training_rows + user_input.shape[0]"
   ]
  },
  {
   "cell_type": "code",
   "execution_count": 71,
   "metadata": {
    "collapsed": true
   },
   "outputs": [],
   "source": [
    "# For storage, store input and output stacked vertically in a csv\n",
    "saving = np.concatenate((training_data, exp_output_data), axis=0)\n",
    "saving = pd.DataFrame(saving, columns=list(games_list['Game']))\n",
    "saving.to_csv('Vectorized bgg data.csv', encoding='utf-8')"
   ]
  },
  {
   "cell_type": "markdown",
   "metadata": {},
   "source": [
    "#### RUN THIS CODE BELOW TO LOAD AND SPLIT TRAINING DATA"
   ]
  },
  {
   "cell_type": "code",
   "execution_count": 7,
   "metadata": {
    "collapsed": true
   },
   "outputs": [],
   "source": [
    "# Number of games we are considering (from top rated)\n",
    "total = 5000\n",
    "# Generate the bgg dictionary of indices to game\n",
    "games, games_decode = bgg_dict(total)"
   ]
  },
  {
   "cell_type": "code",
   "execution_count": 8,
   "metadata": {},
   "outputs": [
    {
     "name": "stdout",
     "output_type": "stream",
     "text": [
      "(8549, 5001)\n",
      "(8549, 5001)\n"
     ]
    }
   ],
   "source": [
    "# Load vectorized data\n",
    "vectorized = pd.read_csv('Vectorized bgg data.csv')\n",
    "vectorized.drop('Unnamed: 0', axis=1, inplace=True) #Remove unnecessary first column\n",
    "row_size = int(vectorized.shape[0]/2) #The actual total datapoints is half the number of rows\n",
    "\n",
    "# Split the data into the input and expected_output vectors\n",
    "input_data = vectorized.iloc[:row_size,:].as_matrix()\n",
    "exp_output_data = vectorized.iloc[row_size:,:].as_matrix()\n",
    "\n",
    "print(input_data.shape)\n",
    "print(exp_output_data.shape)"
   ]
  },
  {
   "cell_type": "code",
   "execution_count": 9,
   "metadata": {},
   "outputs": [
    {
     "name": "stdout",
     "output_type": "stream",
     "text": [
      "Training inputs: (6411, 5001)\n",
      "Training outputs: (6411, 5001)\n",
      "CV inputs: (2138, 5001)\n",
      "CV outputs: (2138, 5001)\n"
     ]
    }
   ],
   "source": [
    "# Divide dataset into Training and Test data\n",
    "from sklearn.model_selection import train_test_split\n",
    "\n",
    "Train_inputs, CV_inputs, Train_outputs, CV_outputs = train_test_split(input_data, exp_output_data, test_size=0.25, random_state=101)\n",
    "\n",
    "print('Training inputs: ' + str(Train_inputs.shape))\n",
    "print('Training outputs: ' + str(Train_outputs.shape))\n",
    "print('CV inputs: ' + str(CV_inputs.shape))\n",
    "print('CV outputs: ' + str(CV_outputs.shape))"
   ]
  },
  {
   "cell_type": "markdown",
   "metadata": {},
   "source": [
    "#### Some extra analysis"
   ]
  },
  {
   "cell_type": "code",
   "execution_count": 10,
   "metadata": {
    "collapsed": true
   },
   "outputs": [],
   "source": [
    "# See how many of the 5000 games are actually in collections\n",
    "#Sum all the columns (of expected_outputs) and find how many have 0 mentions\n",
    "mentions = exp_output_data.sum(axis=0)"
   ]
  },
  {
   "cell_type": "code",
   "execution_count": 14,
   "metadata": {},
   "outputs": [
    {
     "name": "stdout",
     "output_type": "stream",
     "text": [
      "Codenames: 77.0\n"
     ]
    }
   ],
   "source": [
    "# Game that appears the most\n",
    "print(games_decode[mentions.argmax()] +': '+ str(mentions.max()))"
   ]
  },
  {
   "cell_type": "code",
   "execution_count": 15,
   "metadata": {
    "collapsed": true
   },
   "outputs": [],
   "source": [
    "# Get indices of games that are in and games that never appear in the user collections\n",
    "not_in_collections_idx = np.where(mentions==0)[0]\n",
    "in_collections_idx = np.nonzero(mentions)[0]"
   ]
  },
  {
   "cell_type": "code",
   "execution_count": 16,
   "metadata": {},
   "outputs": [
    {
     "data": {
      "text/plain": [
       "53"
      ]
     },
     "execution_count": 16,
     "metadata": {},
     "output_type": "execute_result"
    }
   ],
   "source": [
    "not_in_collections_idx[0]"
   ]
  },
  {
   "cell_type": "code",
   "execution_count": 17,
   "metadata": {},
   "outputs": [
    {
     "data": {
      "text/plain": [
       "0"
      ]
     },
     "execution_count": 17,
     "metadata": {},
     "output_type": "execute_result"
    }
   ],
   "source": [
    "in_collections_idx[0]"
   ]
  },
  {
   "cell_type": "code",
   "execution_count": 18,
   "metadata": {},
   "outputs": [
    {
     "data": {
      "text/plain": [
       "3168"
      ]
     },
     "execution_count": 18,
     "metadata": {},
     "output_type": "execute_result"
    }
   ],
   "source": [
    "len(not_in_collections_idx)"
   ]
  },
  {
   "cell_type": "code",
   "execution_count": 19,
   "metadata": {},
   "outputs": [
    {
     "data": {
      "text/plain": [
       "1833"
      ]
     },
     "execution_count": 19,
     "metadata": {},
     "output_type": "execute_result"
    }
   ],
   "source": [
    "len(in_collections_idx)"
   ]
  },
  {
   "cell_type": "markdown",
   "metadata": {},
   "source": [
    "Out of the top 5000 games, 3168 games are not in any of the user collections. Indices of the games are stored in array not_in_collections_idx."
   ]
  },
  {
   "cell_type": "markdown",
   "metadata": {},
   "source": [
    "# Black box MultiLayer Perceptron\n",
    "\n",
    "Just try sklearn's MLP regressor...?\n",
    "\n",
    "Inspired by: https://towardsdatascience.com/the-perils-of-predictive-policing-11928a9f1d60\n",
    "\n",
    "http://scikit-learn.org/stable/modules/neural_networks_supervised.html\n",
    "\n",
    "https://en.wikipedia.org/wiki/Limited-memory_BFGS\n",
    "\n"
   ]
  },
  {
   "cell_type": "code",
   "execution_count": 21,
   "metadata": {
    "collapsed": true
   },
   "outputs": [],
   "source": [
    "from sklearn.neural_network import MLPClassifier\n",
    "\n",
    "mlp = MLPClassifier(hidden_layer_sizes=(300), #1 hidden layer of 300 neurons\n",
    "                    solver = 'lbfgs', #Limited memory BFGS\n",
    "                    max_iter = 300, #Converge by 300 iterations or optimization stops\n",
    "                    random_state=1) "
   ]
  },
  {
   "cell_type": "code",
   "execution_count": 22,
   "metadata": {
    "scrolled": true
   },
   "outputs": [
    {
     "data": {
      "text/plain": [
       "MLPClassifier(activation='relu', alpha=0.0001, batch_size='auto', beta_1=0.9,\n",
       "       beta_2=0.999, early_stopping=False, epsilon=1e-08,\n",
       "       hidden_layer_sizes=300, learning_rate='constant',\n",
       "       learning_rate_init=0.001, max_iter=300, momentum=0.9,\n",
       "       nesterovs_momentum=True, power_t=0.5, random_state=1, shuffle=True,\n",
       "       solver='lbfgs', tol=0.0001, validation_fraction=0.1, verbose=False,\n",
       "       warm_start=False)"
      ]
     },
     "execution_count": 22,
     "metadata": {},
     "output_type": "execute_result"
    }
   ],
   "source": [
    "mlp.fit(Train_inputs,Train_outputs)"
   ]
  },
  {
   "cell_type": "code",
   "execution_count": 23,
   "metadata": {},
   "outputs": [
    {
     "data": {
      "text/plain": [
       "0.81547340508501009"
      ]
     },
     "execution_count": 23,
     "metadata": {},
     "output_type": "execute_result"
    }
   ],
   "source": [
    "# Evaluate training error\n",
    "mlp.score(Train_inputs, Train_outputs)"
   ]
  },
  {
   "cell_type": "code",
   "execution_count": 24,
   "metadata": {
    "collapsed": true
   },
   "outputs": [],
   "source": [
    "# Save the model\n",
    "from sklearn.externals import joblib\n",
    "filename = 'bgg_rec_mlp.joblib.pkl'\n",
    "_ = joblib.dump(mlp, filename, compress=9)"
   ]
  },
  {
   "cell_type": "markdown",
   "metadata": {},
   "source": [
    "#### For future use, we can just load the model"
   ]
  },
  {
   "cell_type": "code",
   "execution_count": 26,
   "metadata": {
    "collapsed": true
   },
   "outputs": [],
   "source": [
    "from sklearn.neural_network import MLPClassifier\n",
    "from sklearn.externals import joblib\n",
    "filename = 'bgg_rec_mlp.joblib.pkl'"
   ]
  },
  {
   "cell_type": "code",
   "execution_count": 27,
   "metadata": {
    "collapsed": true
   },
   "outputs": [],
   "source": [
    "loaded_mlp = joblib.load(filename)"
   ]
  },
  {
   "cell_type": "code",
   "execution_count": 28,
   "metadata": {},
   "outputs": [
    {
     "data": {
      "text/plain": [
       "0.81547340508501009"
      ]
     },
     "execution_count": 28,
     "metadata": {},
     "output_type": "execute_result"
    }
   ],
   "source": [
    "loaded_mlp.score(Train_inputs, Train_outputs)"
   ]
  },
  {
   "cell_type": "markdown",
   "metadata": {},
   "source": [
    "#### Let's try checking the CV dataset"
   ]
  },
  {
   "cell_type": "code",
   "execution_count": 29,
   "metadata": {},
   "outputs": [
    {
     "data": {
      "text/plain": [
       "0.059401309635173059"
      ]
     },
     "execution_count": 29,
     "metadata": {},
     "output_type": "execute_result"
    }
   ],
   "source": [
    "loaded_mlp.score(CV_inputs, CV_outputs)"
   ]
  },
  {
   "cell_type": "markdown",
   "metadata": {},
   "source": [
    "Looks like the mlp does decently well with the training data set (score = 0.81) whereas it does terribly with the CV data set (score = 0.06)."
   ]
  },
  {
   "cell_type": "markdown",
   "metadata": {},
   "source": [
    "Let's see if there's an affect of different numbers of neurons in the hidden layer"
   ]
  },
  {
   "cell_type": "code",
   "execution_count": 37,
   "metadata": {
    "collapsed": true
   },
   "outputs": [],
   "source": [
    "from sklearn.neural_network import MLPClassifier\n",
    "from sklearn.externals import joblib\n",
    "from IPython.display import clear_output\n",
    "\n",
    "neurons = [100, 300, 500, 1000]\n",
    "\n",
    "col = ['#Neurons', 'Training Acc', 'CV Acc']\n",
    "#mlp_results = pd.DataFrame(columns=col)\n",
    "\n",
    "for n in neurons:\n",
    "    mlp = MLPClassifier(hidden_layer_sizes = (n),\n",
    "                       solver = 'lbfgs',\n",
    "                       max_iter = 200,\n",
    "                       random_state = 1)\n",
    "    \n",
    "    mlp.fit(Train_inputs, Train_outputs)\n",
    "    \n",
    "    trained_acc = mlp.score(Train_inputs, Train_outputs)\n",
    "    CV_acc = mlp.score(CV_inputs, CV_outputs)\n",
    "    \n",
    "    mlp_results = mlp_results.append(pd.DataFrame([[n, trained_acc, CV_acc]], columns=col))\n",
    "    \n",
    "    clear_output(wait = True)\n",
    "    print(mlp_results)\n",
    "    \n",
    "    filename = 'bgg_mlp_' + str(n) + 'neurons.joblib.pkl'\n",
    "    _ = joblib.dump(mlp, filename, compress=9)"
   ]
  },
  {
   "cell_type": "code",
   "execution_count": 38,
   "metadata": {},
   "outputs": [
    {
     "data": {
      "text/html": [
       "<div>\n",
       "<style>\n",
       "    .dataframe thead tr:only-child th {\n",
       "        text-align: right;\n",
       "    }\n",
       "\n",
       "    .dataframe thead th {\n",
       "        text-align: left;\n",
       "    }\n",
       "\n",
       "    .dataframe tbody tr th {\n",
       "        vertical-align: top;\n",
       "    }\n",
       "</style>\n",
       "<table border=\"1\" class=\"dataframe\">\n",
       "  <thead>\n",
       "    <tr style=\"text-align: right;\">\n",
       "      <th></th>\n",
       "      <th>#Neurons</th>\n",
       "      <th>Training Acc</th>\n",
       "      <th>CV Acc</th>\n",
       "    </tr>\n",
       "  </thead>\n",
       "  <tbody>\n",
       "    <tr>\n",
       "      <th>0</th>\n",
       "      <td>100</td>\n",
       "      <td>0.119482</td>\n",
       "      <td>0.006080</td>\n",
       "    </tr>\n",
       "    <tr>\n",
       "      <th>0</th>\n",
       "      <td>300</td>\n",
       "      <td>0.434254</td>\n",
       "      <td>0.018241</td>\n",
       "    </tr>\n",
       "    <tr>\n",
       "      <th>0</th>\n",
       "      <td>500</td>\n",
       "      <td>0.433006</td>\n",
       "      <td>0.019177</td>\n",
       "    </tr>\n",
       "    <tr>\n",
       "      <th>0</th>\n",
       "      <td>1000</td>\n",
       "      <td>0.670410</td>\n",
       "      <td>0.055192</td>\n",
       "    </tr>\n",
       "  </tbody>\n",
       "</table>\n",
       "</div>"
      ],
      "text/plain": [
       "  #Neurons  Training Acc    CV Acc\n",
       "0      100      0.119482  0.006080\n",
       "0      300      0.434254  0.018241\n",
       "0      500      0.433006  0.019177\n",
       "0     1000      0.670410  0.055192"
      ]
     },
     "execution_count": 38,
     "metadata": {},
     "output_type": "execute_result"
    }
   ],
   "source": [
    "mlp_results"
   ]
  },
  {
   "cell_type": "markdown",
   "metadata": {},
   "source": [
    "Let's also adjust how many iterations we need to converge"
   ]
  },
  {
   "cell_type": "code",
   "execution_count": 39,
   "metadata": {},
   "outputs": [
    {
     "name": "stdout",
     "output_type": "stream",
     "text": [
      "   Iter  Training Acc    CV Acc\n",
      "0  1000      0.000000  0.000000\n",
      "0  1000      0.813914  0.058934\n",
      "0  1000      0.976447  0.063611\n",
      "0  1000      0.999844  0.065014\n"
     ]
    }
   ],
   "source": [
    "from sklearn.neural_network import MLPClassifier\n",
    "from sklearn.externals import joblib\n",
    "from IPython.display import clear_output\n",
    "\n",
    "iter_ct = [100, 300, 500, 1000]\n",
    "\n",
    "col = ['Iter', 'Training Acc', 'CV Acc']\n",
    "mlp_results_iter = pd.DataFrame(columns=col)\n",
    "\n",
    "for i in iter_ct:\n",
    "    mlp = MLPClassifier(hidden_layer_sizes = (300),\n",
    "                       solver = 'lbfgs',\n",
    "                       max_iter = i,\n",
    "                       random_state = 1)\n",
    "    \n",
    "    mlp.fit(Train_inputs, Train_outputs)\n",
    "    \n",
    "    trained_acc = mlp.score(Train_inputs, Train_outputs)\n",
    "    CV_acc = mlp.score(CV_inputs, CV_outputs)\n",
    "    \n",
    "    mlp_results_iter = mlp_results_iter.append(pd.DataFrame([[i, trained_acc, CV_acc]], columns=col))\n",
    "    \n",
    "    clear_output(wait = True)\n",
    "    print(mlp_results_iter)\n",
    "    \n",
    "    filename = 'bgg_mlp_' + str(i) + 'iter.joblib.pkl'\n",
    "    _ = joblib.dump(mlp, filename, compress=9)"
   ]
  },
  {
   "cell_type": "markdown",
   "metadata": {},
   "source": [
    "There was a bug in the previous run so the Iter# is incorrect. Reset it properly."
   ]
  },
  {
   "cell_type": "code",
   "execution_count": 41,
   "metadata": {},
   "outputs": [
    {
     "name": "stderr",
     "output_type": "stream",
     "text": [
      "C:\\ProgramData\\Anaconda3\\lib\\site-packages\\pandas\\core\\indexing.py:179: SettingWithCopyWarning: \n",
      "A value is trying to be set on a copy of a slice from a DataFrame\n",
      "\n",
      "See the caveats in the documentation: http://pandas.pydata.org/pandas-docs/stable/indexing.html#indexing-view-versus-copy\n",
      "  self._setitem_with_indexer(indexer, value)\n"
     ]
    }
   ],
   "source": [
    "mlp_results_iter['Iter'].loc[:] = [100, 300, 500, 1000]"
   ]
  },
  {
   "cell_type": "code",
   "execution_count": 42,
   "metadata": {},
   "outputs": [
    {
     "data": {
      "text/html": [
       "<div>\n",
       "<style>\n",
       "    .dataframe thead tr:only-child th {\n",
       "        text-align: right;\n",
       "    }\n",
       "\n",
       "    .dataframe thead th {\n",
       "        text-align: left;\n",
       "    }\n",
       "\n",
       "    .dataframe tbody tr th {\n",
       "        vertical-align: top;\n",
       "    }\n",
       "</style>\n",
       "<table border=\"1\" class=\"dataframe\">\n",
       "  <thead>\n",
       "    <tr style=\"text-align: right;\">\n",
       "      <th></th>\n",
       "      <th>Iter</th>\n",
       "      <th>Training Acc</th>\n",
       "      <th>CV Acc</th>\n",
       "    </tr>\n",
       "  </thead>\n",
       "  <tbody>\n",
       "    <tr>\n",
       "      <th>0</th>\n",
       "      <td>100</td>\n",
       "      <td>0.000000</td>\n",
       "      <td>0.000000</td>\n",
       "    </tr>\n",
       "    <tr>\n",
       "      <th>0</th>\n",
       "      <td>300</td>\n",
       "      <td>0.813914</td>\n",
       "      <td>0.058934</td>\n",
       "    </tr>\n",
       "    <tr>\n",
       "      <th>0</th>\n",
       "      <td>500</td>\n",
       "      <td>0.976447</td>\n",
       "      <td>0.063611</td>\n",
       "    </tr>\n",
       "    <tr>\n",
       "      <th>0</th>\n",
       "      <td>1000</td>\n",
       "      <td>0.999844</td>\n",
       "      <td>0.065014</td>\n",
       "    </tr>\n",
       "  </tbody>\n",
       "</table>\n",
       "</div>"
      ],
      "text/plain": [
       "   Iter  Training Acc    CV Acc\n",
       "0   100      0.000000  0.000000\n",
       "0   300      0.813914  0.058934\n",
       "0   500      0.976447  0.063611\n",
       "0  1000      0.999844  0.065014"
      ]
     },
     "execution_count": 42,
     "metadata": {},
     "output_type": "execute_result"
    }
   ],
   "source": [
    "mlp_results_iter"
   ]
  },
  {
   "cell_type": "markdown",
   "metadata": {},
   "source": [
    "It seems more iterations allow the training accuracy to converge and it takes at least 500 to get above 90% accuracy. However, the CV accuracy seems to converge with 300 iteration cap whereas increasing number of neurons can increase the CV accuracy.\n",
    "\n",
    "Let's try a 1000 neuron and 1500 neuron combo with 1000 iteration-cap."
   ]
  },
  {
   "cell_type": "code",
   "execution_count": 11,
   "metadata": {},
   "outputs": [
    {
     "name": "stdout",
     "output_type": "stream",
     "text": [
      "  #Neurons  Training Acc    CV Acc\n",
      "0     1000      0.999844  0.080917\n",
      "0     1500      0.000000  0.000000\n"
     ]
    }
   ],
   "source": [
    "from sklearn.neural_network import MLPClassifier\n",
    "from sklearn.externals import joblib\n",
    "from IPython.display import clear_output\n",
    "\n",
    "neurons = [1000, 1500]\n",
    "\n",
    "col = ['#Neurons', 'Training Acc', 'CV Acc']\n",
    "mlp_results = pd.DataFrame(columns=col)\n",
    "\n",
    "for n in neurons:\n",
    "    mlp = MLPClassifier(hidden_layer_sizes = (n),\n",
    "                       solver = 'lbfgs',\n",
    "                       max_iter = 1000,\n",
    "                       random_state = 1)\n",
    "    \n",
    "    mlp.fit(Train_inputs, Train_outputs)\n",
    "    \n",
    "    trained_acc = mlp.score(Train_inputs, Train_outputs)\n",
    "    CV_acc = mlp.score(CV_inputs, CV_outputs)\n",
    "    \n",
    "    mlp_results = mlp_results.append(pd.DataFrame([[n, trained_acc, CV_acc]], columns=col))\n",
    "    \n",
    "    clear_output(wait = True)\n",
    "    print(mlp_results)\n",
    "    \n",
    "    filename = 'bgg_mlp_' + str(n) + 'neurons_1000iter.joblib.pkl'\n",
    "    _ = joblib.dump(mlp, filename, compress=9)"
   ]
  },
  {
   "cell_type": "code",
   "execution_count": 10,
   "metadata": {},
   "outputs": [
    {
     "name": "stdout",
     "output_type": "stream",
     "text": [
      "  #Neurons  Training Acc  CV Acc\n",
      "0     1500           0.0     0.0\n"
     ]
    }
   ],
   "source": [
    "from sklearn.neural_network import MLPClassifier\n",
    "from sklearn.externals import joblib\n",
    "from IPython.display import clear_output\n",
    "\n",
    "neurons = [1500]\n",
    "\n",
    "col = ['#Neurons', 'Training Acc', 'CV Acc']\n",
    "mlp_results = pd.DataFrame(columns=col)\n",
    "\n",
    "for n in neurons:\n",
    "    mlp = MLPClassifier(hidden_layer_sizes = (1500),\n",
    "                       solver = 'lbfgs',\n",
    "                       max_iter = 1000,\n",
    "                       random_state = 1)\n",
    "    \n",
    "    mlp.fit(Train_inputs, Train_outputs)\n",
    "    \n",
    "    trained_acc = mlp.score(Train_inputs, Train_outputs)\n",
    "    CV_acc = mlp.score(CV_inputs, CV_outputs)\n",
    "    \n",
    "    mlp_results = mlp_results.append(pd.DataFrame([[n, trained_acc, CV_acc]], columns=col))\n",
    "    \n",
    "    #clear_output(wait = True)\n",
    "    print(mlp_results)\n",
    "    \n",
    "    #filename = 'bgg_mlp_' + str(n) + 'neurons_1000iter.joblib.pkl'\n",
    "    #_ = joblib.dump(mlp, filename, compress=9)"
   ]
  },
  {
   "cell_type": "markdown",
   "metadata": {},
   "source": [
    "Looks like with the scikit learn mlp, 1000 neurons with 1000 iterations performs great on Training but still has very low CV accuracy. The model is essentially overfitting the Training data set.\n",
    "\n",
    "Furthermore, it looks like above 1000 neurons in the hidden layer, the model falls apart.\n",
    "\n",
    "To try and account for overfitting, we can either obtain more training examples (which is not trivial) or reduce the number of features (which is possible; there are 1833 games in the top 5000 games that don't even show up in any collection)."
   ]
  },
  {
   "cell_type": "markdown",
   "metadata": {},
   "source": [
    "# Word2Vec and Tensorflow implementation\n",
    "\n",
    "https://www.tensorflow.org/tutorials/word2vec\n",
    "\n",
    "http://adventuresinmachinelearning.com/word2vec-tutorial-tensorflow/\n",
    "\n",
    "https://stackoverflow.com/questions/37394970/tensorflow-word2vec-cbow-model\n",
    "\n",
    "https://stats.stackexchange.com/questions/181/how-to-choose-the-number-of-hidden-layers-and-nodes-in-a-feedforward-neural-netw\n",
    "\n",
    "As in examples of word2vec implementation, we have created a \"one-hot\" vector where each unique integer value (index) is assigned to a specific boardgame. We have the dictionary required to encode and decode boardgame collections and the corresponding output. And we already have our dataset with both collection inputs and the expected outputs for training.\n",
    "\n",
    "Word2vec only has 1 hidden layer: a word embedding matrix.\n",
    "\n",
    "The output layer uses the softmax function\n",
    "\n",
    "https://gist.github.com/discorev/b6a0900a52b62cd04f33\n",
    "\n",
    "https://gist.github.com/yxtay/a94d971955d901c4690129580a4eafb9"
   ]
  },
  {
   "cell_type": "markdown",
   "metadata": {
    "collapsed": true
   },
   "source": [
    "http://adventuresinmachinelearning.com/python-tensorflow-tutorial/"
   ]
  },
  {
   "cell_type": "code",
   "execution_count": 11,
   "metadata": {
    "collapsed": true
   },
   "outputs": [],
   "source": [
    "import tensorflow as tf\n",
    "\n",
    "# Python optimization variables\n",
    "learning_rate = 0.5\n",
    "epochs = 10\n",
    "batch_size = 100\n",
    "\n",
    "# Training data placeholders\n",
    "#input x will be an unknown # of training examples encoded as a vectors of length 13955 (boardgames)\n",
    "x = tf.placeholder(tf.float32, [None, 13955]) \n",
    "#output placeholder will be # of predictions encoded as vectors of length 13955 (boardgames)\n",
    "y = tf.placeholder(tf.float32, [None, 13955])\n",
    "\n",
    "#weights connecting input to hidden layer\n",
    "# tf.random_normal will generate values from a mean=0 and stddev=input\n",
    "W1 = tf.Variable(tf.random_normal([13955,300], stddev=0.03), name = 'W1') #300 Neuronal layer\n",
    "b1 = tf.Variable(tf.random_normal([300]), name = 'b1') #First layer bias\n",
    "\n",
    "#weights connecting hidden layer to output layer\n",
    "W2 = tf.Variable(tf.random_normal([300,13955],stddev=0.03), name = 'W2') #Convert back to 13955 output\n",
    "b2 = tf.Variable(tf.random_normal([13955]), name = 'b2') #Second layer bias\n",
    "\n",
    "\n",
    "# Calculations for the hidden layer\n",
    "hidden_out = tf.add(tf.matmul(x, W1),b1) #matrix multiply x and W1 weights, add b1 bias\n",
    "hidden_out = tf.nn.relu(hidden_out) #rectified linear unit activation function: converts all negative values to 0\n",
    "\n",
    "# Calculate output layer with softmax\n",
    "y_ = tf.nn.softmax(tf.add(tf.matmul(hidden_out, W2), b2)) #apply softmax after matrix multiply hidden layer output and W2 weights, and adding b2 bias\n",
    "\n",
    "\n",
    "# Cost function: Cross Entropy\n",
    "y_clipped = tf.clip_by_value(y_, 1e-10, 0.9999999) #Limits output values between 1e-10 and 0.9999999; prevents log(0) operations\n",
    "cross_entropy = -tf.reduce_mean(tf.reduce_sum(y * tf.log(y_clipped) \n",
    "                                              + (1-y) * tf.log(1 - y_clipped), axis=1))\n",
    "\n",
    "# Optimizer\n",
    "optimizer = tf.train.GradientDescentOptimizer(learning_rate = learning_rate).minimize(cross_entropy)\n",
    "#optimizer will minimize the cross entropy cost function and use the learning rate we set (0.5) as learning rate alpha\n",
    "\n",
    "# Initialization operator\n",
    "init_op = tf.global_variables_initializer()\n",
    "\n",
    "# Define an accuracy assessment operation\n",
    "correct_prediction = tf.equal(tf.argmax(y,1), tf.argmax(y_, 1)) #Checks that predicted output is same as predicted\n",
    "accuracy = tf.reduce_mean(tf.cast(correct_prediction, tf.float32)) #Changes boolean correct_prediction to float, then finds mean. 1 = highest accuracy\n"
   ]
  },
  {
   "cell_type": "code",
   "execution_count": null,
   "metadata": {
    "collapsed": true
   },
   "outputs": [],
   "source": [
    "# Start tensorflow session\n",
    "\n",
    "with tf.Session() as sess:\n",
    "    # initialize the variables\n",
    "    sess.run(init_op)\n",
    "    total_batch = int(len(<training labels>) / batch_size) #Use data set\n",
    "    \n",
    "    for epoch in range(epochs):\n",
    "        avg_cost = 0\n",
    "        for i in range(total_batch):\n",
    "            batch_x, batch_y = <training group.nextbatch(batch_size=batch_size) #Use data set\n",
    "            _, c = sess.run(optimizer, cross_entropy],\n",
    "                           feed_dict = {x: batch_x, y: batch_y})\n",
    "            avg_cost += c / total_batch\n",
    "        \n",
    "        print(\"Epoch: \", (epoch + 1), \"cost = \", \"{:.3f}\".format(avg_cost))\n",
    "        \n",
    "    print(sess.run(accuracy, feed_dict={x: <training group decoded>, y:<training group coded>})) #Use data set"
   ]
  },
  {
   "cell_type": "markdown",
   "metadata": {
    "collapsed": true
   },
   "source": [
    "## Implementing Tensorflow Model\n",
    "\n",
    "\n",
    "https://towardsdatascience.com/learn-word2vec-by-implementing-it-in-tensorflow-45641adaf2ac"
   ]
  },
  {
   "cell_type": "code",
   "execution_count": 1,
   "metadata": {
    "collapsed": true
   },
   "outputs": [],
   "source": [
    "import tensorflow as tf\n",
    "import numpy as np"
   ]
  },
  {
   "cell_type": "code",
   "execution_count": 12,
   "metadata": {},
   "outputs": [
    {
     "name": "stdout",
     "output_type": "stream",
     "text": [
      "Training inputs: (5984, 5001)\n",
      "Training outputs: (5984, 5001)\n",
      "CV inputs: (2565, 5001)\n",
      "CV outputs: (2565, 5001)\n"
     ]
    }
   ],
   "source": [
    "print('Training inputs: ' + str(Train_inputs.shape))\n",
    "print('Training outputs: ' + str(Train_outputs.shape))\n",
    "print('CV inputs: ' + str(CV_inputs.shape))\n",
    "print('CV outputs: ' + str(CV_outputs.shape))"
   ]
  },
  {
   "cell_type": "code",
   "execution_count": 17,
   "metadata": {},
   "outputs": [
    {
     "data": {
      "text/plain": [
       "5001"
      ]
     },
     "execution_count": 17,
     "metadata": {},
     "output_type": "execute_result"
    }
   ],
   "source": [
    "games\n",
    "len(games_decode)"
   ]
  },
  {
   "cell_type": "code",
   "execution_count": 92,
   "metadata": {
    "collapsed": true
   },
   "outputs": [],
   "source": [
    "#NEW VERSION\n",
    "#Create tensorflow variables\n",
    "\n",
    "# Make placeholders for x_train and y_train (x = data points, y = expected labels)\n",
    "#Create placeholder architecture. shape = (None, len(games)) generates a matrix with unknown number of rows and len(games) columns\n",
    "#This is the same as the representation of our data in vector form, with each individual example taking a row\n",
    "\n",
    "batch_size = Train_inputs.shape[0]\n",
    "col_size = len(games)\n",
    "num_sampled = 30 #Number of negative examples to sample\n",
    "EMBEDDING_DIM = 150 #Hyperparameter to be adjusted; # neurons of the hidden layer\n",
    "\n",
    "\n",
    "def gamegram():\n",
    "    x = tf.placeholder(tf.float32, shape = [batch_size, None])\n",
    "    y_label = tf.placeholder(tf.int32, shape=[batch_size, None])\n",
    "    #val_data = tf.constant(val_data,dtype=tf.int32)\n",
    "\n",
    "    with tf.variable_scope(\"gamegram\") as scope:\n",
    "        embeddings = tf.Variable(tf.random_uniform([col_size,\n",
    "                                                   EMBEDDING_DIM],\n",
    "                                                  -1.0, 1.0))\n",
    "        batch_embeddings = tf.nn.embedding_lookup(embeddings, tf.cast(x,tf.int32))\n",
    "\n",
    "        weights = tf.Variable(tf.truncated_normal([col_size,\n",
    "                                                  EMBEDDING_DIM],\n",
    "                                                  stddev = 1.0/math.sqrt(EMBEDDING_DIM)))\n",
    "        biases = tf.Variable(tf.zeros(col_size))\n",
    "\n",
    "        loss = tf.reduce_mean(tf.nn.nce_loss(weights = weights,\n",
    "                                            biases = biases,\n",
    "                                            labels = y_label,\n",
    "                                            inputs = x,\n",
    "                                            num_sampled = num_sampled,\n",
    "                                            num_classes = col_size,\n",
    "                                            num_true = col_size))\n",
    "\n",
    "        norm = tf.sqrt(tf.reduce_mean(tf.square(embeddings), 1, keep_dims = True))\n",
    "\n",
    "        normalized_embeddings = embeddings/norm\n",
    "        \n",
    "#        val_embeddings = tf.nn.embedding_lookup(normalized_embeddings, val_dataset)\n",
    "#        similarity = tf.matmul(val_embeddings, normalized_embeddings, transpose_b=True)\n",
    "    \n",
    "        return x, y_label, normalized_embeddings, loss #, similarity"
   ]
  },
  {
   "cell_type": "code",
   "execution_count": 93,
   "metadata": {
    "collapsed": true
   },
   "outputs": [],
   "source": [
    "def run():\n",
    "    n_iters = 100\n",
    "    \n",
    "    x, y_label, normalized_embeddings, loss = gamegram()\n",
    "    #    inputs, labels, normalized_embeddings, loss, similarity = gamegram()\n",
    "    optimizer = tf.train.GradientDescentOptimizer(1.0).minimize(loss)\n",
    "    \n",
    "    init = tf.global_variables_initializer()\n",
    "    \n",
    "    with tf.Session() as sess:\n",
    "        sess.run(init)\n",
    "        \n",
    "        average_loss = 0.0\n",
    "        \n",
    "        # train for n_iter iterations\n",
    "        #Recall: x = Train_inputs, y_label = Train_outputs\n",
    "        for _ in range(n_iters):\n",
    "            feed_dict = {x: Train_inputs, y_label: Train_outputs}\n",
    "            _, loss_val = sess.run([optimizer, loss], feed_dict)\n",
    "            average_loss += loss_val\n",
    "\n",
    "            if step %1000 == 0:\n",
    "                if step > 0:\n",
    "                    average_loss /= 1000\n",
    "                print('loss at iter', step, ':', average_loss)\n",
    "                average_loss = 0        \n",
    "\n",
    "        final_embeddings = normalized_embedding.eval()\n",
    "        return final_embeddings\n",
    "                    \n",
    "#         for step, batch_data in enumerate(train_data): #need to change\n",
    "#            # inputs, labels = batch_data #need to change\n",
    "#            # feed_dict = {batch_inputs: inputs, batch_labels: labels}\n",
    "            \n",
    "#             _, loss_val = session.run([optimizer, loss], feed_dict)\n",
    "#             average_loss += loss_val\n",
    "            \n",
    "#             if step %1000 == 0:\n",
    "#                 if step > 0:\n",
    "#                     average_loss /= 1000\n",
    "#                 print('loss at iter', step, ':', average_loss)\n",
    "#                 average_loss = 0"
   ]
  },
  {
   "cell_type": "code",
   "execution_count": null,
   "metadata": {
    "collapsed": true,
    "scrolled": true
   },
   "outputs": [],
   "source": [
    "final_embeddings = run()\n",
    "\n",
    "#visualize_embeddings(final_embeddings, games_decode)"
   ]
  },
  {
   "cell_type": "code",
   "execution_count": 28,
   "metadata": {
    "collapsed": true
   },
   "outputs": [],
   "source": [
    "#Create tensorflow variables\n",
    "\n",
    "# Make placeholders for x_train and y_train (x = data points, y = expected labels)\n",
    "#Create placeholder architecture. shape = (None, len(games)) generates a matrix with unknown number of rows and len(games) columns\n",
    "#This is the same as the representation of our data in vector form, with each individual example taking a row\n",
    "\n",
    "x = tf.placeholder(tf.int32, shape = (None, len(games)))\n",
    "y_label = tf.placeholder(tf.int32, shape=(None, len(games)))\n",
    "\n",
    "\n",
    "# Hidden layer calculation\n",
    "EMBEDDING_DIM = 700 #Hyperparameter to be adjusted; # neurons of the hidden layer\n",
    "\n",
    "W1 = tf.Variable(tf.random_normal([len(games), EMBEDDING_DIM])) #Weights\n",
    "\n",
    "b1 = tf.Variable(tf.random_normal([EMBEDDING_DIM])) #bias\n",
    "\n",
    "hidden_representation = tf.add(tf.matmul(x,W1), b1) # x * W1 + b\n",
    "\n",
    "# Output layer calculation\n",
    "W2 = tf.Variable(tf.random_normal([EMBEDDING_DIM, len(games)])) #Weights\n",
    "\n",
    "b2 = tf.Variable(tf.random_normal([len(games)]))\n",
    "\n",
    "prediction = tf.nn.softmax(tf.add( tf.matmul(hidden_representation,W2), b2))\n",
    "#Apply softmax: Converts to normalized probability"
   ]
  },
  {
   "cell_type": "code",
   "execution_count": 29,
   "metadata": {
    "scrolled": true
   },
   "outputs": [
    {
     "data": {
      "text/plain": [
       "TensorShape([Dimension(501), Dimension(700)])"
      ]
     },
     "execution_count": 29,
     "metadata": {},
     "output_type": "execute_result"
    }
   ],
   "source": [
    "W1.shape"
   ]
  },
  {
   "cell_type": "code",
   "execution_count": 12,
   "metadata": {
    "scrolled": false
   },
   "outputs": [
    {
     "data": {
      "text/plain": [
       "-44.917133"
      ]
     },
     "execution_count": 12,
     "metadata": {},
     "output_type": "execute_result"
    }
   ],
   "source": [
    "sess = tf.Session()\n",
    "\n",
    "init = tf.global_variables_initializer()\n",
    "\n",
    "sess.run(init) #make sure you do this!\n",
    "\n",
    "#cross_entropy_loss = tf.reduce_mean(-tf.reduce_sum(y_label * tf.log(prediction), reduction_indices=[1]))\n",
    "cross_entropy_loss = tf.reduce_mean(tf.reduce_sum(y_label * tf.log(prediction + 1e-10) + (1-y_label) * tf.log(1 - prediction + 1e-10), axis=1))\n",
    "sess.run(cross_entropy_loss, feed_dict={x: Train_inputs, y_label:Train_outputs})\n",
    "\n",
    "#Added +1e-10 to softmax predictions to try and handle NaN cases. It seems super small values get cut out; happens with extremely sparse matrices.\n",
    "#https://stackoverflow.com/questions/39583752/nan-from-sparse-softmax-cross-entropy-with-logits-in-tensorflow\n"
   ]
  },
  {
   "cell_type": "code",
   "execution_count": 30,
   "metadata": {
    "scrolled": true
   },
   "outputs": [
    {
     "name": "stdout",
     "output_type": "stream",
     "text": [
      "loss is :  22.961\n",
      "loss is :  22.9602\n",
      "loss is :  22.9594\n",
      "loss is :  22.9587\n",
      "loss is :  22.958\n",
      "loss is :  22.9575\n",
      "loss is :  22.9572\n",
      "loss is :  22.9571\n",
      "loss is :  22.957\n",
      "loss is :  22.9569\n",
      "loss is :  22.9568\n",
      "loss is :  22.9567\n",
      "loss is :  22.9566\n",
      "loss is :  22.9565\n",
      "loss is :  22.9564\n",
      "loss is :  22.9561\n",
      "loss is :  22.9557\n",
      "loss is :  22.9552\n",
      "loss is :  22.9546\n",
      "loss is :  22.9541\n",
      "loss is :  22.9536\n",
      "loss is :  22.9528\n",
      "loss is :  22.9518\n",
      "loss is :  22.9506\n",
      "loss is :  22.9494\n",
      "loss is :  22.9482\n",
      "loss is :  22.9472\n",
      "loss is :  22.9463\n",
      "loss is :  22.9456\n",
      "loss is :  22.9452\n",
      "loss is :  22.9451\n",
      "loss is :  22.9451\n",
      "loss is :  22.9451\n",
      "loss is :  22.9451\n",
      "loss is :  22.9451\n",
      "loss is :  22.9451\n",
      "loss is :  22.945\n",
      "loss is :  22.945\n",
      "loss is :  22.945\n",
      "loss is :  22.945\n",
      "loss is :  22.945\n",
      "loss is :  22.945\n",
      "loss is :  22.945\n",
      "loss is :  22.945\n",
      "loss is :  22.945\n",
      "loss is :  22.945\n",
      "loss is :  22.945\n",
      "loss is :  22.945\n",
      "loss is :  22.945\n",
      "loss is :  22.945\n",
      "loss is :  22.9448\n",
      "loss is :  22.9438\n",
      "loss is :  22.9418\n",
      "loss is :  22.9399\n",
      "loss is :  22.9393\n",
      "loss is :  22.9393\n",
      "loss is :  22.9393\n",
      "loss is :  22.9393\n",
      "loss is :  22.9393\n",
      "loss is :  22.9393\n",
      "loss is :  22.9393\n",
      "loss is :  22.9393\n",
      "loss is :  22.9393\n",
      "loss is :  22.9393\n",
      "loss is :  22.9393\n",
      "loss is :  22.9393\n",
      "loss is :  22.9393\n",
      "loss is :  22.9393\n",
      "loss is :  22.9393\n",
      "loss is :  22.9393\n",
      "loss is :  22.9393\n",
      "loss is :  22.9393\n",
      "loss is :  22.9393\n",
      "loss is :  22.9393\n",
      "loss is :  22.9393\n",
      "loss is :  22.9393\n",
      "loss is :  22.9393\n",
      "loss is :  22.9393\n",
      "loss is :  22.9393\n",
      "loss is :  22.9393\n",
      "loss is :  22.9393\n",
      "loss is :  22.9393\n",
      "loss is :  22.9393\n",
      "loss is :  22.9393\n",
      "loss is :  22.9393\n",
      "loss is :  22.9393\n",
      "loss is :  22.9393\n",
      "loss is :  22.9393\n",
      "loss is :  22.9393\n",
      "loss is :  22.9393\n",
      "loss is :  22.9393\n",
      "loss is :  22.9393\n",
      "loss is :  22.9393\n",
      "loss is :  22.9393\n",
      "loss is :  22.9393\n",
      "loss is :  22.9393\n",
      "loss is :  22.9393\n",
      "loss is :  22.9393\n",
      "loss is :  22.9393\n",
      "loss is :  22.9393\n"
     ]
    }
   ],
   "source": [
    "# Train the model\n",
    "\n",
    "sess = tf.Session()\n",
    "\n",
    "init = tf.global_variables_initializer()\n",
    "\n",
    "sess.run(init) #make sure you do this!\n",
    "\n",
    "# Define loss function: Cross Entropy Loss function\n",
    "cross_entropy_loss = tf.reduce_mean(-tf.reduce_sum(y_label * tf.log(prediction + 1e-10), reduction_indices=[1]))\n",
    "# Define training step\n",
    "train_step = tf.train.GradientDescentOptimizer(0.1).minimize(cross_entropy_loss)\n",
    "\n",
    "n_iters = 100\n",
    "\n",
    "# train for n_iter iterations\n",
    "#Recall: x = Train_inputs, y_label = Train_outputs\n",
    "for _ in range(n_iters):\n",
    "    sess.run(train_step, feed_dict={x: Train_inputs, y_label: Train_outputs})\n",
    "    print('loss is : ', sess.run(cross_entropy_loss, feed_dict={x: Train_inputs, y_label: Train_outputs}))    \n"
   ]
  },
  {
   "cell_type": "markdown",
   "metadata": {
    "collapsed": true
   },
   "source": [
    "With all games in the vector and 700 hidden neurons, loss is about 23\n",
    "With top 5000 games in the vector and 700 hidden neurons, loss is about 23.0141\n",
    "With top 500 games in the vector and 700 hidden neurons, loss is about 22.9393"
   ]
  },
  {
   "cell_type": "code",
   "execution_count": 31,
   "metadata": {},
   "outputs": [
    {
     "data": {
      "text/plain": [
       "{'1775: Rebellion': 220,\n",
       " '1830: Railways & Robber Barons': 148,\n",
       " '1960: The Making of the President': 140,\n",
       " '1989: Dawn of Freedom': 337,\n",
       " '51st State: Master Set': 256,\n",
       " '7 Wonders': 37,\n",
       " '7 Wonders Duel': 8,\n",
       " 'A Feast for Odin': 35,\n",
       " 'A Few Acres of Snow': 207,\n",
       " 'A Game of Thrones (first edition)': 281,\n",
       " 'A Game of Thrones: The Board Game (Second Edition)': 73,\n",
       " 'A Game of Thrones: The Card Game (Second Edition)': 254,\n",
       " 'Above and Below': 126,\n",
       " 'Abyss': 301,\n",
       " 'Acquire': 185,\n",
       " 'Advanced Squad Leader': 171,\n",
       " 'Advanced Squad Leader: Starter Kit #1': 360,\n",
       " \"Aeon's End\": 375,\n",
       " 'Age of Empires III: The Age of Discovery': 116,\n",
       " 'Age of Industry': 397,\n",
       " 'Age of Steam': 94,\n",
       " 'Agricola': 14,\n",
       " 'Agricola (revised edition)': 291,\n",
       " 'Agricola: All Creatures Big and Small': 153,\n",
       " 'Airlines Europe': 267,\n",
       " 'Alchemists': 74,\n",
       " 'Alhambra': 381,\n",
       " 'Alien Frontiers': 132,\n",
       " 'Amerigo': 250,\n",
       " 'Among the Stars': 378,\n",
       " 'Amun-Re': 235,\n",
       " 'Anachrony': 139,\n",
       " 'Android: Netrunner': 31,\n",
       " 'Antiquity': 227,\n",
       " 'AquaSphere': 311,\n",
       " 'Arboretum': 341,\n",
       " 'Arcadia Quest': 72,\n",
       " 'Archipelago': 253,\n",
       " 'Argent: The Consortium': 429,\n",
       " 'Arkham Horror': 205,\n",
       " 'Arkham Horror: The Card Game': 19,\n",
       " 'Ascension: Deckbuilding Game': 466,\n",
       " 'Ascension: Return of the Fallen': 498,\n",
       " 'Ascension: Storm of Souls': 470,\n",
       " 'Ashes: Rise of the Phoenixborn': 328,\n",
       " 'At the Gates of Loyang': 212,\n",
       " 'Automobile': 288,\n",
       " 'BANG! The Dice Game': 440,\n",
       " 'Baseball Highlights: 2045': 359,\n",
       " 'Battle Line': 161,\n",
       " 'BattleCON: Devastation of Indines': 168,\n",
       " 'BattleLore': 215,\n",
       " 'BattleLore (Second Edition)': 117,\n",
       " 'Battlestar Galactica': 53,\n",
       " 'Belfort': 323,\n",
       " 'Betrayal at House on the Hill': 362,\n",
       " 'Between Two Cities': 458,\n",
       " 'Biblios': 266,\n",
       " 'Blokus': 484,\n",
       " 'Blood Bowl (Third Edition)': 217,\n",
       " 'Blood Bowl: Living Rulebook': 163,\n",
       " 'Blood Bowl: Team Manager – The Card Game': 209,\n",
       " 'Blood Rage': 16,\n",
       " 'Blue Moon City': 464,\n",
       " 'Bohnanza': 348,\n",
       " 'Bora Bora': 130,\n",
       " 'Brass: Lancashire': 28,\n",
       " 'Brew Crafters': 427,\n",
       " 'Bridge': 447,\n",
       " 'Britannia': 490,\n",
       " 'Broom Service': 400,\n",
       " 'Bruges': 172,\n",
       " 'Bruxelles 1893': 241,\n",
       " 'Burgle Bros.': 211,\n",
       " 'CO₂': 489,\n",
       " \"Ca$h 'n Guns (Second Edition)\": 448,\n",
       " 'Cacao': 493,\n",
       " 'Camel Up': 356,\n",
       " 'Captain Sonar': 91,\n",
       " 'Carcassonne': 127,\n",
       " 'Carcassonne: Hunters and Gatherers': 364,\n",
       " 'Carcassonne: The Castle': 460,\n",
       " 'Carcassonne: The City': 465,\n",
       " 'Carson City': 298,\n",
       " 'Castles of Mad King Ludwig': 66,\n",
       " 'Catan': 249,\n",
       " 'Caverna: The Cave Farmers': 10,\n",
       " 'Caylus': 39,\n",
       " 'Century: Spice Road': 308,\n",
       " 'Champions of Midgard': 159,\n",
       " 'Chaos in the Old World': 84,\n",
       " 'Chess': 396,\n",
       " 'Chicago Express': 339,\n",
       " 'Chinatown': 345,\n",
       " 'Churchill': 497,\n",
       " 'Citadels': 293,\n",
       " 'Civilization': 196,\n",
       " 'Clank!: A Deck-Building Adventure': 54,\n",
       " 'Clash of Cultures': 174,\n",
       " 'Claustrophobia': 162,\n",
       " 'Coal Baron': 449,\n",
       " 'Codenames': 34,\n",
       " 'Codenames: Pictures': 167,\n",
       " 'Coloretto': 454,\n",
       " 'Colosseum': 338,\n",
       " 'Colt Express': 269,\n",
       " 'Combat Commander: Europe': 88,\n",
       " 'Combat Commander: Pacific': 368,\n",
       " 'Commands & Colors: Ancients': 81,\n",
       " 'Commands & Colors: Napoleonics': 263,\n",
       " 'Conan': 371,\n",
       " 'Concordia': 30,\n",
       " 'Conflict of Heroes: Awakening the Bear! (second edition)': 431,\n",
       " 'Conflict of Heroes: Awakening the Bear! – Russia 1941-42': 336,\n",
       " 'Core Worlds': 467,\n",
       " 'Cosmic Encounter': 87,\n",
       " 'Coup': 330,\n",
       " 'Crokinole': 65,\n",
       " 'Cry Havoc': 313,\n",
       " 'Cthulhu Wars': 208,\n",
       " 'Cuba': 376,\n",
       " 'Cuba Libre': 451,\n",
       " 'Cyclades': 120,\n",
       " 'D-Day at Omaha Beach': 456,\n",
       " 'DVONN': 324,\n",
       " 'Dead of Winter: A Crossroads Game': 44,\n",
       " 'Dead of Winter: The Long Night': 143,\n",
       " 'Deception: Murder in Hong Kong': 180,\n",
       " 'Defenders of the Realm': 320,\n",
       " 'Descent: Journeys in the Dark': 240,\n",
       " 'Descent: Journeys in the Dark (Second Edition)': 64,\n",
       " 'Deus': 276,\n",
       " 'Die Macher': 156,\n",
       " 'Diplomacy': 468,\n",
       " 'Discworld: Ankh-Morpork': 388,\n",
       " 'Dixit': 166,\n",
       " 'Dixit Odyssey': 137,\n",
       " 'Dixit: Journey': 322,\n",
       " 'Dominant Species': 45,\n",
       " 'Dominion': 57,\n",
       " 'Dominion: Intrigue': 50,\n",
       " 'Dune': 189,\n",
       " 'Dungeon Lords': 157,\n",
       " 'Dungeon Petz': 115,\n",
       " 'Dungeons & Dragons: The Legend of Drizzt Board Game': 417,\n",
       " 'Dungeons & Dragons: Wrath of Ashardalon Board Game': 483,\n",
       " 'Earth Reborn': 223,\n",
       " 'Eclipse': 23,\n",
       " 'Egizia': 251,\n",
       " 'El Grande': 49,\n",
       " 'Elder Sign': 441,\n",
       " 'Eldritch Horror': 41,\n",
       " 'Elysium': 285,\n",
       " 'Eminent Domain': 389,\n",
       " 'Empires: Age of Discovery': 478,\n",
       " 'Endeavor': 175,\n",
       " 'Escape: The Curse of the Temple': 372,\n",
       " 'Ethnos': 404,\n",
       " 'Euphoria: Build a Better Dystopia': 287,\n",
       " 'Evolution': 299,\n",
       " 'Evolution: Climate': 279,\n",
       " 'Fields of Arle': 52,\n",
       " 'Finca': 495,\n",
       " 'Fire in the Lake': 353,\n",
       " 'Firefly: The Game': 255,\n",
       " 'First Class': 399,\n",
       " 'Five Tribes': 47,\n",
       " 'Flash Point: Fire Rescue': 237,\n",
       " \"Flick 'em Up!\": 472,\n",
       " 'Food Chain Magnate': 24,\n",
       " 'For Sale': 244,\n",
       " 'Forbidden Desert': 232,\n",
       " 'Forbidden Stars': 78,\n",
       " 'Formula D': 411,\n",
       " 'Francis Drake': 304,\n",
       " 'Freedom: The Underground Railroad': 289,\n",
       " 'Fresco': 221,\n",
       " 'Friday': 277,\n",
       " 'Friedrich': 418,\n",
       " 'Fury of Dracula (second edition)': 357,\n",
       " 'Fury of Dracula (third edition)': 145,\n",
       " 'Galaxy Trucker': 111,\n",
       " 'Gears of War: The Board Game': 314,\n",
       " 'Genoa': 450,\n",
       " 'Ghost Stories': 173,\n",
       " 'Ginkgopolis': 297,\n",
       " 'Glass Road': 190,\n",
       " 'Glen More': 233,\n",
       " 'Gloomhaven': 3,\n",
       " 'Glory to Rome': 129,\n",
       " 'Go': 104,\n",
       " 'Goa': 90,\n",
       " 'Grand Austria Hotel': 124,\n",
       " 'Great Western Trail': 13,\n",
       " 'Hammer of the Scots': 265,\n",
       " 'Hanabi': 246,\n",
       " 'Hannibal: Rome vs. Carthage': 112,\n",
       " 'Hansa Teutonica': 97,\n",
       " 'Harry Potter: Hogwarts Battle': 383,\n",
       " 'Hawaii': 479,\n",
       " 'Here I Stand': 144,\n",
       " 'Hero Realms': 230,\n",
       " 'Heroscape Master Set: Rise of the Valkyrie': 242,\n",
       " 'Heroscape Master Set: Swarm of the Marro': 436,\n",
       " 'Hive': 179,\n",
       " 'Homesteaders': 443,\n",
       " 'Hyperborea': 488,\n",
       " 'Imhotep': 335,\n",
       " 'Imperial': 118,\n",
       " 'Imperial 2030': 150,\n",
       " 'Imperial Settlers': 107,\n",
       " 'In the Year of the Dragon': 191,\n",
       " 'Indonesia': 187,\n",
       " 'Ingenious': 305,\n",
       " 'Inis': 158,\n",
       " 'Innovation': 257,\n",
       " 'Isle of Skye: From Chieftain to King': 135,\n",
       " 'Istanbul': 86,\n",
       " 'Jaipur': 93,\n",
       " 'Jamaica': 394,\n",
       " 'Jambo': 452,\n",
       " 'K2': 420,\n",
       " 'Kanban: Automotive Revolution': 199,\n",
       " 'Karuba': 363,\n",
       " 'Kemet': 67,\n",
       " 'Keyflower': 36,\n",
       " 'King of New York': 354,\n",
       " 'King of Tokyo': 195,\n",
       " 'Kingdom Builder': 423,\n",
       " 'Kingdom Death: Monster': 155,\n",
       " 'Kingdomino': 216,\n",
       " 'Kingsburg': 245,\n",
       " 'La Granja': 95,\n",
       " 'Labyrinth: The War on Terror, 2001 – ?': 268,\n",
       " 'Lancaster': 219,\n",
       " 'Las Vegas': 494,\n",
       " 'Last Night on Earth: The Zombie Game': 487,\n",
       " 'Last Will': 296,\n",
       " 'Le Havre': 29,\n",
       " 'Legacy: The Testament of Duke de Crecy': 476,\n",
       " 'Legendary Encounters: An Alien Deck Building Game': 75,\n",
       " 'Legendary: A Marvel Deck Building Game': 105,\n",
       " 'Legendary: Villains – A Marvel Deck Building Game': 409,\n",
       " 'Legends of Andor': 261,\n",
       " 'Letters from Whitechapel': 164,\n",
       " 'Lewis & Clark': 113,\n",
       " 'Libertalia': 270,\n",
       " 'London': 234,\n",
       " 'Lord of the Rings: The Confrontation': 228,\n",
       " 'Lords of Vegas': 333,\n",
       " 'Lords of Waterdeep': 43,\n",
       " 'Lords of Xidit': 474,\n",
       " 'Lorenzo il Magnifico': 294,\n",
       " 'Lost Cities': 275,\n",
       " 'Louis XIV': 482,\n",
       " 'Love Letter': 177,\n",
       " 'Love Letter: Batman': 403,\n",
       " 'Luna': 366,\n",
       " 'Macao': 210,\n",
       " 'Madeira': 290,\n",
       " 'Mage Knight Board Game': 15,\n",
       " 'Mage Wars Arena': 108,\n",
       " 'Magic: The Gathering': 147,\n",
       " 'Maharaja: The Game of Palace Building in India': 462,\n",
       " 'Mansions of Madness': 224,\n",
       " 'Mansions of Madness: Second Edition': 20,\n",
       " 'Mare Nostrum: Empires': 398,\n",
       " 'Maria': 225,\n",
       " 'Marvel Dice Masters: Avengers vs. X-Men': 355,\n",
       " 'Marvel Dice Masters: Uncanny X-Men': 412,\n",
       " 'Mechs vs. Minions': 21,\n",
       " 'Medici': 419,\n",
       " \"Memoir '44\": 106,\n",
       " 'Merchants & Marauders': 176,\n",
       " 'Mexica': 496,\n",
       " 'Mice and Mystics': 170,\n",
       " 'Middle-Earth Quest': 391,\n",
       " 'Millennium Blades': 280,\n",
       " 'Mission: Red Planet (Second Edition)': 169,\n",
       " 'Modern Art': 218,\n",
       " 'Mombasa': 56,\n",
       " 'Mr. Jack': 385,\n",
       " 'Myrmes': 379,\n",
       " 'Mysterium': 128,\n",
       " 'Mystic Vale': 408,\n",
       " \"Napoleon's Triumph\": 332,\n",
       " 'Nations': 79,\n",
       " 'Navegador': 138,\n",
       " 'Near and Far': 317,\n",
       " 'Neuroshima Hex!': 183,\n",
       " 'Nexus Ops': 306,\n",
       " 'Nippon': 229,\n",
       " 'No Thanks!': 386,\n",
       " 'Notre Dame': 184,\n",
       " 'One Night Ultimate Werewolf': 213,\n",
       " 'One Night Ultimate Werewolf Daybreak': 342,\n",
       " 'Onirim (second edition)': 434,\n",
       " 'Onitama': 192,\n",
       " 'Ora et Labora': 76,\n",
       " 'Orléans': 25,\n",
       " 'Panamax': 437,\n",
       " 'Pandemic': 62,\n",
       " 'Pandemic Iberia': 125,\n",
       " 'Pandemic Legacy: Season 1': 0,\n",
       " 'Pandemic: Reign of Cthulhu': 316,\n",
       " 'Pandemic: The Cure': 238,\n",
       " 'Paperback': 271,\n",
       " 'Patchwork': 46,\n",
       " 'Pathfinder Adventure Card Game: Rise of the Runelords – Base Set': 247,\n",
       " 'Paths of Glory': 85,\n",
       " 'Pax Porfiriana': 346,\n",
       " 'PitchCar': 303,\n",
       " 'Polis: Fight for the Hegemony': 457,\n",
       " 'Port Royal': 413,\n",
       " 'Potion Explosion': 446,\n",
       " 'Power Grid': 22,\n",
       " 'Power Grid Deluxe: Europe/North America': 142,\n",
       " 'Puerto Rico': 11,\n",
       " 'Quadropolis': 214,\n",
       " 'Quantum': 344,\n",
       " 'Ra': 122,\n",
       " 'Race for the Galaxy': 42,\n",
       " 'Raiders of the North Sea': 282,\n",
       " 'Railways of the World': 82,\n",
       " 'Raptor': 365,\n",
       " 'Reef Encounter': 442,\n",
       " 'Risk Legacy': 193,\n",
       " 'Roads & Boats': 231,\n",
       " 'Robinson Crusoe: Adventures on the Cursed Island': 26,\n",
       " 'RoboRally': 309,\n",
       " 'Rococo': 181,\n",
       " 'Roll Player': 492,\n",
       " 'Roll for the Galaxy': 48,\n",
       " 'Runebound (Third Edition)': 453,\n",
       " 'Runewars': 121,\n",
       " 'Russian Railroads': 58,\n",
       " 'Sagrada': 469,\n",
       " 'Saint Petersburg': 202,\n",
       " 'Saint Petersburg (second edition)': 455,\n",
       " 'Samurai': 154,\n",
       " 'San Juan': 201,\n",
       " 'San Juan (second edition)': 274,\n",
       " 'San Marco': 473,\n",
       " 'Santiago': 475,\n",
       " 'Santorini': 63,\n",
       " 'Schotten Totten': 373,\n",
       " 'Scythe': 7,\n",
       " 'Seasons': 134,\n",
       " 'Secret Hitler': 236,\n",
       " 'Sekigahara: The Unification of Japan': 133,\n",
       " 'Sentinels of the Multiverse': 239,\n",
       " 'Shadows of Brimstone: City of the Ancients': 252,\n",
       " 'Shadows of Brimstone: Swamps of Death': 369,\n",
       " 'Shadows over Camelot': 302,\n",
       " 'Shakespeare': 416,\n",
       " 'Sheriff of Nottingham': 200,\n",
       " 'Sherlock Holmes Consulting Detective: The Thames Murders & Other Cases': 55,\n",
       " 'Shipyard': 402,\n",
       " 'Shogun': 110,\n",
       " \"Sid Meier's Civilization: The Board Game\": 146,\n",
       " 'Skull': 463,\n",
       " 'Small World': 160,\n",
       " 'Small World Underground': 248,\n",
       " 'Smash Up: Awesome Level 9000': 321,\n",
       " 'Smash Up: Science Fiction Double Feature': 432,\n",
       " 'Snowdonia': 319,\n",
       " 'Space Alert': 123,\n",
       " 'Space Empires: 4X': 438,\n",
       " 'Space Hulk': 392,\n",
       " 'Space Hulk (third edition)': 188,\n",
       " 'Space Hulk: Death Angel – The Card Game': 500,\n",
       " 'Spartacus: A Game of Blood & Treachery': 260,\n",
       " 'Specter Ops': 343,\n",
       " 'Splendor': 99,\n",
       " 'Spyfall': 318,\n",
       " 'Spyrium': 445,\n",
       " 'Squad Leader': 439,\n",
       " 'Star Realms': 77,\n",
       " 'Star Realms: Colony Wars': 197,\n",
       " 'Star Trek: Fleet Captains': 347,\n",
       " 'Star Wars: Armada': 165,\n",
       " 'Star Wars: Destiny': 243,\n",
       " 'Star Wars: Imperial Assault': 18,\n",
       " 'Star Wars: Rebellion': 4,\n",
       " 'Star Wars: The Card Game': 390,\n",
       " \"Star Wars: The Queen's Gambit\": 485,\n",
       " 'Star Wars: X-Wing Miniatures Game': 51,\n",
       " 'Star Wars: X-Wing Miniatures Game – The Force Awakens Core Set': 258,\n",
       " 'StarCraft: The Board Game': 315,\n",
       " 'Steam': 89,\n",
       " 'Steampunk Rally': 395,\n",
       " 'Stockpile': 286,\n",
       " 'Stone Age': 71,\n",
       " 'Stronghold': 486,\n",
       " 'Struggle of Empires': 292,\n",
       " 'Suburbia': 80,\n",
       " 'Summoner Wars': 329,\n",
       " 'Summoner Wars: Alliances Master Set': 433,\n",
       " 'Summoner Wars: Guild Dwarves vs Cave Goblins': 387,\n",
       " 'Summoner Wars: Master Set': 114,\n",
       " 'Summoner Wars: Phoenix Elves vs Tundra Orcs': 382,\n",
       " 'Super Motherload': 481,\n",
       " 'Survive: Escape from Atlantis!': 203,\n",
       " 'Sushi Go Party!': 136,\n",
       " 'Sushi Go!': 312,\n",
       " 'T.I.M.E Stories': 33,\n",
       " 'TZAAR': 326,\n",
       " 'Taj Mahal': 273,\n",
       " 'Tajemnicze Domostwo': 351,\n",
       " 'Takenoko': 182,\n",
       " 'Tales of the Arabian Nights': 283,\n",
       " 'Taluva': 393,\n",
       " 'Targi': 131,\n",
       " 'Tash-Kalar: Arena of Legends': 425,\n",
       " 'Telestrations': 198,\n",
       " 'Terra Mystica': 5,\n",
       " 'Terraforming Mars': 6,\n",
       " 'The 7th Continent': 149,\n",
       " 'The Battle of Five Armies': 358,\n",
       " 'The Castles of Burgundy': 9,\n",
       " 'The Colonists': 349,\n",
       " 'The Downfall of Pompeii': 421,\n",
       " 'The Duke': 340,\n",
       " 'The Gallerist': 70,\n",
       " 'The Great Zimbabwe': 361,\n",
       " 'The Grizzled': 272,\n",
       " 'The Lord of the Rings: The Card Game': 92,\n",
       " 'The Manhattan Project': 178,\n",
       " 'The Manhattan Project: Energy Empire': 226,\n",
       " 'The Palaces of Carrara': 499,\n",
       " 'The Pillars of the Earth': 206,\n",
       " 'The Princes of Florence': 100,\n",
       " 'The Republic of Rome': 307,\n",
       " 'The Resistance': 141,\n",
       " 'The Resistance: Avalon': 69,\n",
       " 'The Voyages of Marco Polo': 38,\n",
       " 'Thebes': 350,\n",
       " 'Through the Ages: A New Story of Civilization': 1,\n",
       " 'Through the Ages: A Story of Civilization': 17,\n",
       " 'Through the Desert': 422,\n",
       " 'Thunder Alley': 491,\n",
       " 'Thunderstone': 480,\n",
       " 'Thunderstone Advance: Towers of Ruin': 264,\n",
       " 'Thunderstone: Dragonspire': 471,\n",
       " 'Thurn and Taxis': 325,\n",
       " 'Tichu': 103,\n",
       " 'Ticket to Ride': 109,\n",
       " 'Ticket to Ride: Europe': 83,\n",
       " 'Ticket to Ride: Märklin': 204,\n",
       " 'Ticket to Ride: Nordic Countries': 102,\n",
       " 'Tigris & Euphrates': 60,\n",
       " 'Tikal': 194,\n",
       " \"Time's Up!\": 352,\n",
       " \"Time's Up! Title Recall!\": 262,\n",
       " \"Tinners' Trail\": 410,\n",
       " 'Tiny Epic Galaxies': 222,\n",
       " 'Tobago': 370,\n",
       " 'Tokaido': 414,\n",
       " 'Torres': 384,\n",
       " 'Tragedy Looper': 459,\n",
       " 'Trains': 331,\n",
       " 'Trajan': 59,\n",
       " 'Tribune: Primus Inter Pares': 430,\n",
       " 'Trickerion: Legends of Illusion': 186,\n",
       " 'Triumph & Tragedy': 426,\n",
       " 'Troyes': 61,\n",
       " 'Twilight Imperium (Third Edition)': 40,\n",
       " 'Twilight Struggle': 2,\n",
       " 'Tyrants of the Underdark': 334,\n",
       " \"Tzolk'in: The Mayan Calendar\": 32,\n",
       " 'Union Pacific': 428,\n",
       " 'Up Front': 327,\n",
       " 'Vasco da Gama': 401,\n",
       " 'Vegas Showdown': 374,\n",
       " 'Vikings': 284,\n",
       " 'Village': 101,\n",
       " 'Vinhos': 259,\n",
       " 'Vinhos Deluxe Edition': 300,\n",
       " 'Virgin Queen': 415,\n",
       " 'Viticulture': 96,\n",
       " 'Viticulture Essential Edition': 27,\n",
       " 'Wallenstein (first edition)': 295,\n",
       " 'War of the Ring (Second Edition)': 12,\n",
       " 'War of the Ring (first edition)': 68,\n",
       " 'Warhammer Quest: The Adventure Card Game': 310,\n",
       " 'Warhammer: Invasion': 407,\n",
       " \"Washington's War\": 380,\n",
       " 'Web of Power': 461,\n",
       " 'Wits & Wagers': 477,\n",
       " 'World Without End': 424,\n",
       " 'XCOM: The Board Game': 435,\n",
       " 'Xia: Legends of a Drift System': 151,\n",
       " 'YINSH': 119,\n",
       " 'Yedo': 406,\n",
       " 'Yokohama': 152,\n",
       " 'Yspahan': 405,\n",
       " 'ZhanGuo': 377,\n",
       " 'Zombicide': 278,\n",
       " 'Zombicide Season 2: Prison Outbreak': 367,\n",
       " 'Zombicide: Black Plague': 98,\n",
       " 'ZÈRTZ': 444}"
      ]
     },
     "execution_count": 31,
     "metadata": {},
     "output_type": "execute_result"
    }
   ],
   "source": [
    "games"
   ]
  },
  {
   "cell_type": "code",
   "execution_count": 49,
   "metadata": {
    "scrolled": true
   },
   "outputs": [
    {
     "data": {
      "text/plain": [
       "318"
      ]
     },
     "execution_count": 49,
     "metadata": {},
     "output_type": "execute_result"
    }
   ],
   "source": [
    "games['Spyfall']"
   ]
  },
  {
   "cell_type": "code",
   "execution_count": 59,
   "metadata": {
    "collapsed": true,
    "scrolled": true
   },
   "outputs": [],
   "source": [
    "me=pd.DataFrame(data=['7 Wonders','Pandemic','Codenames','Dixit', 'Pandemic Legacy: Season 1','One Night Ultimate Werewolf','The Resistance','Coup',\n",
    "'Galaxy Trucker','Space Alert','Cosmic Encounter','Spyfall'], columns=['Games'])"
   ]
  },
  {
   "cell_type": "code",
   "execution_count": 61,
   "metadata": {
    "collapsed": true,
    "scrolled": true
   },
   "outputs": [],
   "source": [
    "my_collection = games2vec(me['Games'],games)"
   ]
  },
  {
   "cell_type": "markdown",
   "metadata": {},
   "source": [
    "# STOP\n",
    "\n",
    "\n",
    "## Original Code Drafts\n",
    "\n",
    "Below are the original code drafts that led to development of the above 5 functions"
   ]
  },
  {
   "cell_type": "code",
   "execution_count": 1,
   "metadata": {},
   "outputs": [
    {
     "name": "stdout",
     "output_type": "stream",
     "text": [
      "200\n"
     ]
    }
   ],
   "source": [
    "# Import Requests package\n",
    "import requests\n",
    "\n",
    "# Pull BGG API\n",
    "\n",
    "bgg = requests.get(\"https://www.boardgamegeek.com/xmlapi2/\")\n",
    "print(bgg.status_code)\n",
    "\n",
    "# Status code:\n",
    "#     200: everything went ok\n",
    "#     301: server redirecting to a new endpoint\n",
    "#     401: server does not recognize user as authenticated\n",
    "#     400: bad request\n",
    "#     403: access is forbidden\n",
    "#     404: resource wasn't found on server"
   ]
  },
  {
   "cell_type": "code",
   "execution_count": 2,
   "metadata": {
    "collapsed": true
   },
   "outputs": [],
   "source": [
    "#Using XLMAPI original\n",
    "\n",
    "# There are currently two XML API URLs of relevance:\n",
    "\n",
    "# http://boardgamegeek.com/xmlapi/search\n",
    "# http://boardgamegeek.com/xmlapi/game/[gameid]\n",
    "\n",
    "# HAVE TO USE XMLAPI , not XMLAPI2"
   ]
  },
  {
   "cell_type": "markdown",
   "metadata": {},
   "source": [
    "## Webscraping"
   ]
  },
  {
   "cell_type": "code",
   "execution_count": 3,
   "metadata": {
    "collapsed": true
   },
   "outputs": [],
   "source": [
    "# # Use Scrapy, installed via pip install scrapy \n",
    "# import scrapy"
   ]
  },
  {
   "cell_type": "code",
   "execution_count": 4,
   "metadata": {
    "collapsed": true
   },
   "outputs": [],
   "source": [
    "# import BGG_csvsetting\n",
    "\n",
    "# # Build python subclass from the scrapy class Spider which will crawl through URls\n",
    "# class BGGSpider(scrapy.Spider):\n",
    "#     name = \"bgg_spider\"\n",
    "#     home_url = 'https://www.boardgamegeek.com'\n",
    "#     user = 'TomVasel'\n",
    "#     start_urls = [home_url+'/collection/user/'+user+'?own=1&subtype=boardgame&ff=1']\n",
    "#     print(\"Starting with: \" + user)\n",
    "    \n",
    "#     custom_settings = {\n",
    "#         'DOWNLOAD_DELAY': 2,  # 2 second delay\n",
    "# #        'ITEM_PIPELINES': {'__main__.CSVExportPipeline': 1},\n",
    "#         'FEED_EXPORTERS' : {'csv' : 'BGG_csvsetting.BGGCsvItemExporter'},\n",
    "#         'FEED_FORMAT' : 'csv',\n",
    "#         'CSV_DELIMITER' : ';',\n",
    "#         'FEED_URI' : 'bgg userlist output.csv',\n",
    "#         'FEED_EXPORT_FIELDS': ['User', 'BGG Rank','GameID']}\n",
    "    \n",
    "#     def parse(self, response):\n",
    "#         # Define the selector (pattern) to find the relevant element on the page\n",
    "#         # BGG starting URL shows a table of 100 games; the html elements are in the next cell        \n",
    "#         gamelist_ID = response.xpath('//tr[@id = \"row_\"]//td[contains(@class,\"collection_objectname\")]//a[contains(@href, \"/boardgame/\")]/@href').extract()\n",
    "#         gamelist_rank = response.xpath('//tr[@id = \"row_\"]//td[contains(@class,\"collection_rank\")]//a/@name').extract()\n",
    "#         gamelist_name = response.xpath('//tr[@id = \"row_\"]//td[contains(@class,\"collection_objectname\")]//a[contains(@href, \"/boardgame/\")]/text()').extract()\n",
    "\n",
    "#         #print(gamelist_name)\n",
    "#         #print(gamelist_ID)\n",
    "#         allIDs = {}\n",
    "\n",
    "# #        for game in zip(gamelist_name, gamelist_ID):\n",
    "#         if len(gamelist_rank) > 0:\n",
    "#             for game in zip(gamelist_name[0:len(gamelist_rank)], gamelist_rank, gamelist_ID[0:len(gamelist_rank)]):    \n",
    "#                 yield {\n",
    "#                     'Game':game[0],\n",
    "#                     'BGG Rank':game[1],\n",
    "#                     'GameID':game[2].split(\"/\")[2]\n",
    "#                 }\n",
    "\n",
    "#             # Go to next page\n",
    "#             next_page = response.xpath('//a[contains(@title, \"next page\")]/@href').extract_first()\n",
    "#             if next_page:\n",
    "#                 home_url = 'https://www.boardgamegeek.com'\n",
    "#                 print([\"Going to: \"+ home_url + next_page])\n",
    "#                 yield scrapy.Request(\n",
    "#                     response.urljoin([home_url+next_page][0]),\n",
    "#                     callback = self.parse\n",
    "#             )"
   ]
  },
  {
   "cell_type": "markdown",
   "metadata": {},
   "source": [
    "## Using Beautiful Soup"
   ]
  },
  {
   "cell_type": "code",
   "execution_count": 5,
   "metadata": {
    "collapsed": true
   },
   "outputs": [],
   "source": [
    "# Import necessary libraries\n",
    "from bs4 import BeautifulSoup\n",
    "import requests"
   ]
  },
  {
   "cell_type": "code",
   "execution_count": 6,
   "metadata": {
    "collapsed": true
   },
   "outputs": [],
   "source": [
    "# Use beautifulsoup to pull the webpage as lxml format\n",
    "user = ''\n",
    "url = \"https://boardgamegeek.com/collection/user/\" + user + \"?own=1&subtype=boardgame&ff=1\"\n",
    "r = requests.get(url)\n",
    "\n",
    "data = r.text\n",
    "\n",
    "soup = BeautifulSoup(data, \"lxml\")"
   ]
  },
  {
   "cell_type": "code",
   "execution_count": 7,
   "metadata": {
    "collapsed": true
   },
   "outputs": [],
   "source": [
    "# Get all the \"Objects\" that contain each boardgame in the collection.\n",
    "#Use the fact that the boardgame collection is the only one with the attribute \"id\".\n",
    "#All other tables on the page have no additional attributes\n",
    "all_games = soup.find_all(lambda tag:tag.name=='tr' and len(tag.attrs) > 0)"
   ]
  },
  {
   "cell_type": "code",
   "execution_count": 8,
   "metadata": {
    "collapsed": true
   },
   "outputs": [],
   "source": [
    "# Start with 1 boardgame \"Object\"\n",
    "#Pull out: Game, User Rating, and Avg Rating\n",
    "current_game = all_games[13]"
   ]
  },
  {
   "cell_type": "code",
   "execution_count": 9,
   "metadata": {
    "collapsed": true
   },
   "outputs": [],
   "source": [
    "# To return Game name:\n",
    "#t is a bs4 tag\n",
    "#collection rating is stored under td tag, class = collection_objectname , a\n",
    "t_name = current_game.find_all('td', {'class':'collection_objectname '})[0]\n",
    "name = t_name.a.contents[0]"
   ]
  },
  {
   "cell_type": "code",
   "execution_count": 10,
   "metadata": {
    "collapsed": true
   },
   "outputs": [],
   "source": [
    "# To return (user) Collection Rating:\n",
    "#t is a bs4 tag\n",
    "#collection rating is stored under td tag, class = collection_rating , div class=ratingtext\n",
    "t_UserRating = current_game.find_all('td',{'class':'collection_rating '})[0]\n",
    "t_UserRating = t_UserRating.find_all('div',{'class':'ratingtext'})\n",
    "\n",
    "# It's possible the user does not provide a rating, so we should check for that\n",
    "if t_UserRating:\n",
    "    t_UserRating = t_UserRating[0]\n",
    "    UserRating = t_UserRating.contents[0]\n",
    "else:\n",
    "    UserRating = 'N/A'\n"
   ]
  },
  {
   "cell_type": "code",
   "execution_count": 11,
   "metadata": {
    "collapsed": true
   },
   "outputs": [],
   "source": [
    "# To return BGG Rating:\n",
    "#t is a bs4 tag\n",
    "#collection rating is stored under td tag, class = collection_bggrating\n",
    "t_BggRating = current_game.find_all('td',{'class':'collection_bggrating'})\n",
    "\n",
    "#Can't call the td attribute for some reason. Use 'text' to pull the text string\n",
    "rate_text = t_BggRating[0].text\n",
    "\n",
    "#The text string includes \\n and \\t spacing. Get just the rating number (a float)\n",
    "#Find first index of a numerical digit\n",
    "#This can be done using the regular expression library 're'\n",
    "import re\n",
    "start = re.search(\"\\d\",rate_text) #\\d re flag for any decimal digit [0-9]\n",
    "\n",
    "# It's possible bgg does not provide a rating, so we should check\n",
    "if start is None: #Start is currently set as a NoneType if regex does not find a numerical character\n",
    "    start = rate_text.find('N') #Use standard str.find to locate index for \"N/A\"\n",
    "else:  #Regex does return an output\n",
    "    start = re.search(\"\\d\",rate_text).start()\n",
    "\n",
    "#Find the end of the rating string\n",
    "end = rate_text.find('\\t',start)\n",
    "\n",
    "#Get the decimal rating\n",
    "BggRating = rate_text[start:end]"
   ]
  },
  {
   "cell_type": "code",
   "execution_count": null,
   "metadata": {
    "collapsed": true
   },
   "outputs": [],
   "source": [
    "# Final Result\n",
    "print('User: ' + user)\n",
    "print('Game name: ' + name)\n",
    "print('User rating: ' + UserRating)\n",
    "print('BGG rating: ' + BggRating)"
   ]
  },
  {
   "cell_type": "markdown",
   "metadata": {},
   "source": [
    "# Setup up a function\n",
    "\n",
    "Input is the username\n",
    "\n",
    "\n",
    "Outputs user, game name, user rating, bgg rating"
   ]
  },
  {
   "cell_type": "code",
   "execution_count": 13,
   "metadata": {
    "collapsed": true
   },
   "outputs": [],
   "source": [
    "def UserCollection(user):\n",
    "    # Import necessary libraries\n",
    "    from bs4 import BeautifulSoup\n",
    "    import requests\n",
    "    \n",
    "    # Pull webpage\n",
    "    url = \"https://boardgamegeek.com/collection/user/\" + user + \"?own=1&subtype=boardgame&ff=1\"\n",
    "    r = requests.get(url)\n",
    "\n",
    "    data = r.text\n",
    "\n",
    "    soup = BeautifulSoup(data, \"lxml\")\n",
    "    \n",
    "    # Get all the \"Objects\" that contain each boardgame in the collection.\n",
    "    #Use the fact that the boardgame collection is the only one with the attribute \"id\".\n",
    "    #All other tables on the page have no additional attributes\n",
    "    all_games = soup.find_all(lambda tag:tag.name=='tr' and len(tag.attrs) > 0)\n",
    "    \n",
    "    for i in range(0,len(all_games)):\n",
    "        # Start with 1 boardgame \"Object\"\n",
    "        current_game = all_games[i]\n",
    "        \n",
    "        # To return Game name:\n",
    "        #t is a bs4 tag\n",
    "        #collection rating is stored under td tag, class = collection_objectname , a\n",
    "        t_name = current_game.find_all('td', {'class':'collection_objectname '})[0]\n",
    "        name = t_name.a.contents[0]\n",
    "                \n",
    "\n",
    "        # To return (user) Collection Rating:\n",
    "        #t is a bs4 tag\n",
    "        #collection rating is stored under td tag, class = collection_rating , div class=ratingtext\n",
    "        t_UserRating = current_game.find_all('td',{'class':'collection_rating '})[0]\n",
    "        t_UserRating = t_UserRating.find_all('div',{'class':'ratingtext'})\n",
    "\n",
    "        # It's possible the user does not provide a rating, so we should check for that\n",
    "        if t_UserRating:\n",
    "            t_UserRating = t_UserRating[0]\n",
    "            UserRating = t_UserRating.contents[0]\n",
    "        else:\n",
    "            UserRating = 'N/A'\n",
    "        \n",
    "        \n",
    "        # To return BGG Rating:\n",
    "        #t is a bs4 tag\n",
    "        #collection rating is stored under td tag, class = collection_bggrating\n",
    "        t_BggRating = current_game.find_all('td',{'class':'collection_bggrating'})\n",
    "\n",
    "        #Can't call the td attribute for some reason. Use 'text' to pull the text string\n",
    "        rate_text = t_BggRating[0].text\n",
    "\n",
    "        #The text string includes \\n and \\t spacing. Get just the rating number (a float)\n",
    "        #Find first index of a numerical digit\n",
    "        #This can be done using the regular expression library 're'\n",
    "        import re\n",
    "        start = re.search(\"\\d\",rate_text) #\\d re flag for any decimal digit [0-9]\n",
    "        \n",
    "        # It's possible bgg does not provide a rating, so we should check        \n",
    "        if start is None: \n",
    "            #Start is currently set as a NoneType if regex does not find a numerical character\n",
    "            start = rate_text.find('N') #Use standard str.find to locate index for \"N/A\"\n",
    "        else:  \n",
    "            #Regex does return an output\n",
    "            start = re.search(\"\\d\",rate_text).start()\n",
    "\n",
    "        #Find the end of the rating string\n",
    "        end = rate_text.find('\\t',start)\n",
    "\n",
    "        #Get the decimal rating\n",
    "        BggRating = rate_text[start:end]\n",
    "        \n",
    "        \n",
    "        # Final Result\n",
    "        print('User: ' + user)\n",
    "        print('Game name: ' + name)\n",
    "        print('User rating: ' + UserRating)\n",
    "        print('BGG rating: ' + BggRating)\n",
    "        print('\\n')\n",
    "    "
   ]
  },
  {
   "cell_type": "markdown",
   "metadata": {},
   "source": [
    "One problem to work on: The table on BGG uses a built in \"next page\", so the url doesn't change when moving from games 1-300 and 301-600. This is problematic if a user has more than 300 boardgames.\n",
    "\n",
    "Might have to use scrapy to move between tables..."
   ]
  },
  {
   "cell_type": "markdown",
   "metadata": {},
   "source": [
    "## Setting up pandas dataframe"
   ]
  },
  {
   "cell_type": "code",
   "execution_count": 15,
   "metadata": {
    "collapsed": true
   },
   "outputs": [],
   "source": [
    "# Import pandas\n",
    "import pandas as pd"
   ]
  },
  {
   "cell_type": "code",
   "execution_count": 16,
   "metadata": {},
   "outputs": [
    {
     "data": {
      "text/html": [
       "<div>\n",
       "<style>\n",
       "    .dataframe thead tr:only-child th {\n",
       "        text-align: right;\n",
       "    }\n",
       "\n",
       "    .dataframe thead th {\n",
       "        text-align: left;\n",
       "    }\n",
       "\n",
       "    .dataframe tbody tr th {\n",
       "        vertical-align: top;\n",
       "    }\n",
       "</style>\n",
       "<table border=\"1\" class=\"dataframe\">\n",
       "  <thead>\n",
       "    <tr style=\"text-align: right;\">\n",
       "      <th></th>\n",
       "      <th>User</th>\n",
       "      <th>Game</th>\n",
       "      <th>User rating</th>\n",
       "      <th>BGG rating</th>\n",
       "    </tr>\n",
       "  </thead>\n",
       "  <tbody>\n",
       "  </tbody>\n",
       "</table>\n",
       "</div>"
      ],
      "text/plain": [
       "Empty DataFrame\n",
       "Columns: [User, Game, User rating, BGG rating]\n",
       "Index: []"
      ]
     },
     "execution_count": 16,
     "metadata": {},
     "output_type": "execute_result"
    }
   ],
   "source": [
    "# Set up a new dataframe with desired column headings:\n",
    "#User\n",
    "#Game\n",
    "#User rating\n",
    "#BGG rating\n",
    "col = ['User','Game','User rating', 'BGG rating']\n",
    "games = pd.DataFrame(columns = col)\n",
    "games"
   ]
  },
  {
   "cell_type": "code",
   "execution_count": null,
   "metadata": {
    "collapsed": true
   },
   "outputs": [],
   "source": [
    "# Try appending an example game\n",
    "#Game values are passed as a list (in a list) with same col headings\n",
    "#Append takes the new temporary DataFrame and appends it to the game DataFrame\n",
    "games = games.append(pd.DataFrame([['TomVasel','Super Motherload','8','6.829']], columns=col))\n",
    "games"
   ]
  },
  {
   "cell_type": "code",
   "execution_count": null,
   "metadata": {
    "collapsed": true
   },
   "outputs": [],
   "source": [
    "# Try appending a second example game\n",
    "games = games.append(pd.DataFrame([['TomVasel','Survive: Escape From Atlantis!','7.5','7.172']], columns=col))\n",
    "games"
   ]
  },
  {
   "cell_type": "code",
   "execution_count": 19,
   "metadata": {
    "collapsed": true
   },
   "outputs": [],
   "source": [
    "# Reset the indices to 0 to n-1\n",
    "#drop will prevent the old indices from becoming a new column\n",
    "#inplace will make the changes to the games DataFrame\n",
    "games.reset_index(drop=True,inplace=True)"
   ]
  },
  {
   "cell_type": "code",
   "execution_count": null,
   "metadata": {
    "collapsed": true
   },
   "outputs": [],
   "source": [
    "games.head()"
   ]
  },
  {
   "cell_type": "markdown",
   "metadata": {},
   "source": [
    "## Add dataframe structure to the function"
   ]
  },
  {
   "cell_type": "code",
   "execution_count": 21,
   "metadata": {
    "collapsed": true
   },
   "outputs": [],
   "source": [
    "def UserCollection(user):\n",
    "    # Import necessary libraries\n",
    "    from bs4 import BeautifulSoup\n",
    "    import requests\n",
    "    import pandas as pd\n",
    "    \n",
    "    # Set up pd dataframe\n",
    "    col = ['User','Game','User rating', 'BGG rating']\n",
    "    games = pd.DataFrame(columns = col)\n",
    "    \n",
    "    # Pull webpage\n",
    "    url = \"https://boardgamegeek.com/collection/user/\" + user + \"?own=1&subtype=boardgame&ff=1\"\n",
    "    r = requests.get(url)\n",
    "\n",
    "    data = r.text\n",
    "\n",
    "    soup = BeautifulSoup(data, \"lxml\")\n",
    "    \n",
    "    # Get all the \"Objects\" that contain each boardgame in the collection.\n",
    "    #Use the fact that the boardgame collection is the only one with the attribute \"id\".\n",
    "    #All other tables on the page have no additional attributes\n",
    "    all_games = soup.find_all(lambda tag:tag.name=='tr' and len(tag.attrs) > 0)\n",
    "    \n",
    "    for i in range(0,len(all_games)):\n",
    "        # Start with 1 boardgame \"Object\"\n",
    "        current_game = all_games[i]\n",
    "        \n",
    "        # To return Game name:\n",
    "        #t is a bs4 tag\n",
    "        #collection rating is stored under td tag, class = collection_objectname , a\n",
    "        t_name = current_game.find_all('td', {'class':'collection_objectname '})[0]\n",
    "        name = t_name.a.contents[0]\n",
    "                \n",
    "\n",
    "        # To return (user) Collection Rating:\n",
    "        #t is a bs4 tag\n",
    "        #collection rating is stored under td tag, class = collection_rating , div class=ratingtext\n",
    "        t_UserRating = current_game.find_all('td',{'class':'collection_rating '})[0]\n",
    "        t_UserRating = t_UserRating.find_all('div',{'class':'ratingtext'})\n",
    "\n",
    "        # It's possible the user does not provide a rating, so we should check for that\n",
    "        if t_UserRating:\n",
    "            t_UserRating = t_UserRating[0]\n",
    "            UserRating = t_UserRating.contents[0]\n",
    "        else:\n",
    "            UserRating = 'N/A'\n",
    "        \n",
    "        \n",
    "        # To return BGG Rating:\n",
    "        #t is a bs4 tag\n",
    "        #collection rating is stored under td tag, class = collection_bggrating\n",
    "        t_BggRating = current_game.find_all('td',{'class':'collection_bggrating'})\n",
    "\n",
    "        #Can't call the td attribute for some reason. Use 'text' to pull the text string\n",
    "        rate_text = t_BggRating[0].text\n",
    "\n",
    "        #The text string includes \\n and \\t spacing. Get just the rating number (a float)\n",
    "        #Find first index of a numerical digit\n",
    "        #This can be done using the regular expression library 're'\n",
    "        import re\n",
    "        start = re.search(\"\\d\",rate_text) #\\d re flag for any decimal digit [0-9]\n",
    "        \n",
    "        # It's possible bgg does not provide a rating, so we should check        \n",
    "        if start is None: \n",
    "            #Start is currently set as a NoneType if regex does not find a numerical character\n",
    "            start = rate_text.find('N') #Use standard str.find to locate index for \"N/A\"\n",
    "        else:  \n",
    "            #Regex does return an output\n",
    "            start = re.search(\"\\d\",rate_text).start()\n",
    "\n",
    "        #Find the end of the rating string\n",
    "        end = rate_text.find('\\t',start)\n",
    "\n",
    "        #Get the decimal rating\n",
    "        BggRating = rate_text[start:end]\n",
    "        \n",
    "        \n",
    "        # Final Result\n",
    "        print('User: ' + user)\n",
    "        print('Game name: ' + name)\n",
    "        print('User rating: ' + UserRating)\n",
    "        print('BGG rating: ' + BggRating)\n",
    "        print('\\n')\n",
    "        \n",
    "        games = games.append(pd.DataFrame([[user,name, UserRating, BggRating]], columns=col))\n",
    "    \n",
    "    # Reset the index of the pd dataframe since the rows get appended all with index=0\n",
    "    games.reset_index(drop=True, inplace=True)\n",
    "    \n",
    "    # Export collection as a csv for later\n",
    "    games.to_csv(user+'_raw.csv',sep='\\t')\n",
    "    \n",
    "    return games"
   ]
  },
  {
   "cell_type": "markdown",
   "metadata": {
    "collapsed": true
   },
   "source": [
    "# Let's clean up the DataSet\n",
    "\n",
    "Only keep games that have a user rating > 7. If there is no user rating, keep the game if the avg BGG rating > 7."
   ]
  },
  {
   "cell_type": "code",
   "execution_count": 24,
   "metadata": {
    "collapsed": true
   },
   "outputs": [],
   "source": [
    "# First remove any games that have no User Rating and no BGG rating\n",
    "na_idx = TomVasel[(TomVasel['User rating'] == 'N/A') & (TomVasel['BGG rating'] == 'N/A')].index.tolist() #Grab indices of N/A User and BGG rating rows\n",
    "TomVasel.drop(TomVasel.index[na_idx], inplace=True)"
   ]
  },
  {
   "cell_type": "code",
   "execution_count": null,
   "metadata": {
    "collapsed": true,
    "scrolled": true
   },
   "outputs": [],
   "source": [
    "TomVasel"
   ]
  },
  {
   "cell_type": "code",
   "execution_count": 26,
   "metadata": {
    "collapsed": true,
    "scrolled": true
   },
   "outputs": [],
   "source": [
    "# Remove any games with User rating < 7\n",
    "#Ratings are stored as strings to account for N/A rating\n",
    "#Convert column to numeric using pandas to_numeric function\n",
    "#Set errors to 'coerce' which turns non-numeric strings to NaN values, which will work for numeric comparisons\n",
    "\n",
    "#Keep if User rating == N/A (for BGG based comparison) and User rating >= 7\n",
    "TomVasel = TomVasel[(TomVasel['User rating'] == 'N/A') | (pd.to_numeric(TomVasel['User rating'], errors='coerce') >= 7)]"
   ]
  },
  {
   "cell_type": "code",
   "execution_count": null,
   "metadata": {
    "collapsed": true,
    "scrolled": true
   },
   "outputs": [],
   "source": [
    "TomVasel"
   ]
  },
  {
   "cell_type": "code",
   "execution_count": 28,
   "metadata": {
    "collapsed": true,
    "scrolled": true
   },
   "outputs": [],
   "source": [
    "TomVasel.reset_index(drop=True, inplace=True)"
   ]
  },
  {
   "cell_type": "code",
   "execution_count": null,
   "metadata": {
    "collapsed": true,
    "scrolled": true
   },
   "outputs": [],
   "source": [
    "TomVasel"
   ]
  },
  {
   "cell_type": "code",
   "execution_count": 30,
   "metadata": {},
   "outputs": [
    {
     "name": "stderr",
     "output_type": "stream",
     "text": [
      "C:\\ProgramData\\Anaconda3\\lib\\site-packages\\ipykernel_launcher.py:6: SettingWithCopyWarning: \n",
      "A value is trying to be set on a copy of a slice from a DataFrame\n",
      "\n",
      "See the caveats in the documentation: http://pandas.pydata.org/pandas-docs/stable/indexing.html#indexing-view-versus-copy\n",
      "  \n"
     ]
    }
   ],
   "source": [
    "# Remove any games with BGG rating < 7 (if there is no User Rating)\n",
    "#Similarly, convert BGG rating column to_numeric\n",
    "#Find row indices where User rating == N/A and BGG rating < 7\n",
    "#Drop relevant rows from DataFrame\n",
    "low_bgg_idx = TomVasel[(TomVasel['User rating'] == 'N/A') & (pd.to_numeric(TomVasel['BGG rating'], errors='coerce') < 7)].index.tolist()\n",
    "TomVasel.drop(TomVasel.index[low_bgg_idx],inplace=True)"
   ]
  },
  {
   "cell_type": "code",
   "execution_count": null,
   "metadata": {
    "collapsed": true,
    "scrolled": true
   },
   "outputs": [],
   "source": [
    "# Final list are games that have either User or BGG rating with relevant rating >= 7\n",
    "TomVasel"
   ]
  },
  {
   "cell_type": "markdown",
   "metadata": {},
   "source": [
    "# Make the cleanup function"
   ]
  },
  {
   "cell_type": "code",
   "execution_count": 102,
   "metadata": {
    "collapsed": true
   },
   "outputs": [],
   "source": [
    "def RatingThreshold(collection):\n",
    "    \n",
    "    print('Collection Size start: ' + str(collection.shape[0]))\n",
    "    \n",
    "    # First remove any games that have no User Rating and no BGG rating\n",
    "    na_idx = collection[(collection['User rating'] == 'N/A') & (collection['BGG rating'] == 'N/A')].index.tolist() #Grab indices of N/A User and BGG rating rows\n",
    "    collection.drop(collection.index[na_idx], inplace=True)\n",
    "    \n",
    "    print('Collection Size after removing N/A ratings: ' + str(collection.shape[0]))\n",
    "    \n",
    "    # Remove any games with User rating < 7\n",
    "    #Ratings are stored as strings to account for N/A rating\n",
    "    #Convert column to numeric using pandas to_numeric function\n",
    "    #Set errors to 'coerce' which turns non-numeric strings to NaN values, which will work for numeric comparisons\n",
    "\n",
    "    #Keep if User rating == N/A (for BGG based comparison) and User rating >= 7\n",
    "    collection = collection[(collection['User rating'] == 'N/A') | (pd.to_numeric(collection['User rating'], errors='coerce') >= 7)]\n",
    "    \n",
    "    print('Collection Size after removing low User ratings: ' + str(collection.shape[0]))\n",
    "    \n",
    "    # Remove any games with BGG rating < 7 (if there is no User Rating)\n",
    "    #Similarly, convert BGG rating column to_numeric\n",
    "    #Find row indices where User rating == N/A and BGG rating < 7\n",
    "    #Drop relevant rows from DataFrame\n",
    "    low_bgg_idx = collection[(collection['User rating'] == 'N/A') & (pd.to_numeric(collection['BGG rating'], errors='coerce') < 7)].index.tolist()\n",
    "    collection.drop(collection.index[low_bgg_idx],inplace=True)\n",
    "    \n",
    "    collection.reset_index(drop=True, inplace=True)\n",
    "    \n",
    "    print('Collection Size after removing low BGG ratings (if no User rating available): ' + str(collection.shape[0]))\n",
    "    \n",
    "    return collection"
   ]
  },
  {
   "cell_type": "code",
   "execution_count": null,
   "metadata": {
    "collapsed": true
   },
   "outputs": [],
   "source": [
    "TomVasel2 = UserCollection('TomVasel')"
   ]
  },
  {
   "cell_type": "code",
   "execution_count": 34,
   "metadata": {},
   "outputs": [
    {
     "data": {
      "text/plain": [
       "(300, 4)"
      ]
     },
     "execution_count": 34,
     "metadata": {},
     "output_type": "execute_result"
    }
   ],
   "source": [
    "TomVasel2.shape"
   ]
  },
  {
   "cell_type": "code",
   "execution_count": null,
   "metadata": {
    "collapsed": true
   },
   "outputs": [],
   "source": [
    "TomVasel2 = RatingThreshold(TomVasel2)"
   ]
  },
  {
   "cell_type": "code",
   "execution_count": null,
   "metadata": {
    "collapsed": true,
    "scrolled": true
   },
   "outputs": [],
   "source": [
    "TomVasel2"
   ]
  },
  {
   "cell_type": "markdown",
   "metadata": {},
   "source": [
    "# Create \"games2vec\"\n",
    "\n",
    "1) Create dictionary for entire BGG collection (ranked). Each game corresponds to an index in the vector.\n",
    "\n",
    "2) For any collection, produce a collection vector (start with zeros)\n",
    "\n",
    "3) Populate collection vector based on the input collection"
   ]
  },
  {
   "cell_type": "markdown",
   "metadata": {},
   "source": [
    "# Create Game Dictionary\n",
    "\n",
    "Pairs each boardgame title to an index for the final vector"
   ]
  },
  {
   "cell_type": "code",
   "execution_count": 37,
   "metadata": {
    "collapsed": true
   },
   "outputs": [],
   "source": [
    "# Create dictionary of all games. From previous webscraping, we have a csv with all ranked games on BGG. We'll limit our recommendations to games on the list.\n",
    "games_list = pd.read_csv('bgg id output.csv')"
   ]
  },
  {
   "cell_type": "code",
   "execution_count": 38,
   "metadata": {
    "collapsed": true,
    "scrolled": true
   },
   "outputs": [],
   "source": [
    "# Remove all NaN rows\n",
    "games_list.dropna(axis=0,how='any',inplace=True)\n",
    "games_list.reset_index(drop=True,inplace=True)"
   ]
  },
  {
   "cell_type": "code",
   "execution_count": 39,
   "metadata": {
    "collapsed": true
   },
   "outputs": [],
   "source": [
    "# There are repeat titles in the list. Remove them.\n",
    "rep_games_idx = games_list[games_list['Game'].duplicated()].index.tolist() #Returns the indices of all repeat titles. This list does NOT include the first appearance\n",
    "games_list.drop(games_list.index[rep_games_idx],inplace=True)\n",
    "games_list.reset_index(drop=True,inplace=True)"
   ]
  },
  {
   "cell_type": "code",
   "execution_count": 40,
   "metadata": {
    "scrolled": true
   },
   "outputs": [
    {
     "data": {
      "text/html": [
       "<div>\n",
       "<style>\n",
       "    .dataframe thead tr:only-child th {\n",
       "        text-align: right;\n",
       "    }\n",
       "\n",
       "    .dataframe thead th {\n",
       "        text-align: left;\n",
       "    }\n",
       "\n",
       "    .dataframe tbody tr th {\n",
       "        vertical-align: top;\n",
       "    }\n",
       "</style>\n",
       "<table border=\"1\" class=\"dataframe\">\n",
       "  <thead>\n",
       "    <tr style=\"text-align: right;\">\n",
       "      <th></th>\n",
       "      <th>Game</th>\n",
       "      <th>BGG Rank</th>\n",
       "      <th>GameID</th>\n",
       "    </tr>\n",
       "  </thead>\n",
       "  <tbody>\n",
       "    <tr>\n",
       "      <th>0</th>\n",
       "      <td>Pandemic Legacy: Season 1</td>\n",
       "      <td>1.0</td>\n",
       "      <td>161936.0</td>\n",
       "    </tr>\n",
       "    <tr>\n",
       "      <th>1</th>\n",
       "      <td>Through the Ages: A New Story of Civilization</td>\n",
       "      <td>2.0</td>\n",
       "      <td>182028.0</td>\n",
       "    </tr>\n",
       "    <tr>\n",
       "      <th>2</th>\n",
       "      <td>Twilight Struggle</td>\n",
       "      <td>3.0</td>\n",
       "      <td>12333.0</td>\n",
       "    </tr>\n",
       "    <tr>\n",
       "      <th>3</th>\n",
       "      <td>Gloomhaven</td>\n",
       "      <td>4.0</td>\n",
       "      <td>174430.0</td>\n",
       "    </tr>\n",
       "    <tr>\n",
       "      <th>4</th>\n",
       "      <td>Star Wars: Rebellion</td>\n",
       "      <td>5.0</td>\n",
       "      <td>187645.0</td>\n",
       "    </tr>\n",
       "    <tr>\n",
       "      <th>5</th>\n",
       "      <td>Terra Mystica</td>\n",
       "      <td>6.0</td>\n",
       "      <td>120677.0</td>\n",
       "    </tr>\n",
       "    <tr>\n",
       "      <th>6</th>\n",
       "      <td>Terraforming Mars</td>\n",
       "      <td>7.0</td>\n",
       "      <td>167791.0</td>\n",
       "    </tr>\n",
       "    <tr>\n",
       "      <th>7</th>\n",
       "      <td>Scythe</td>\n",
       "      <td>8.0</td>\n",
       "      <td>169786.0</td>\n",
       "    </tr>\n",
       "    <tr>\n",
       "      <th>8</th>\n",
       "      <td>7 Wonders Duel</td>\n",
       "      <td>9.0</td>\n",
       "      <td>173346.0</td>\n",
       "    </tr>\n",
       "    <tr>\n",
       "      <th>9</th>\n",
       "      <td>The Castles of Burgundy</td>\n",
       "      <td>10.0</td>\n",
       "      <td>84876.0</td>\n",
       "    </tr>\n",
       "    <tr>\n",
       "      <th>10</th>\n",
       "      <td>Caverna: The Cave Farmers</td>\n",
       "      <td>11.0</td>\n",
       "      <td>102794.0</td>\n",
       "    </tr>\n",
       "    <tr>\n",
       "      <th>11</th>\n",
       "      <td>Puerto Rico</td>\n",
       "      <td>12.0</td>\n",
       "      <td>3076.0</td>\n",
       "    </tr>\n",
       "    <tr>\n",
       "      <th>12</th>\n",
       "      <td>War of the Ring (Second Edition)</td>\n",
       "      <td>13.0</td>\n",
       "      <td>115746.0</td>\n",
       "    </tr>\n",
       "    <tr>\n",
       "      <th>13</th>\n",
       "      <td>Great Western Trail</td>\n",
       "      <td>14.0</td>\n",
       "      <td>193738.0</td>\n",
       "    </tr>\n",
       "    <tr>\n",
       "      <th>14</th>\n",
       "      <td>Agricola</td>\n",
       "      <td>15.0</td>\n",
       "      <td>31260.0</td>\n",
       "    </tr>\n",
       "    <tr>\n",
       "      <th>15</th>\n",
       "      <td>Mage Knight Board Game</td>\n",
       "      <td>16.0</td>\n",
       "      <td>96848.0</td>\n",
       "    </tr>\n",
       "    <tr>\n",
       "      <th>16</th>\n",
       "      <td>Blood Rage</td>\n",
       "      <td>17.0</td>\n",
       "      <td>170216.0</td>\n",
       "    </tr>\n",
       "    <tr>\n",
       "      <th>17</th>\n",
       "      <td>Through the Ages: A Story of Civilization</td>\n",
       "      <td>18.0</td>\n",
       "      <td>25613.0</td>\n",
       "    </tr>\n",
       "    <tr>\n",
       "      <th>18</th>\n",
       "      <td>Star Wars: Imperial Assault</td>\n",
       "      <td>19.0</td>\n",
       "      <td>164153.0</td>\n",
       "    </tr>\n",
       "    <tr>\n",
       "      <th>19</th>\n",
       "      <td>Arkham Horror: The Card Game</td>\n",
       "      <td>20.0</td>\n",
       "      <td>205637.0</td>\n",
       "    </tr>\n",
       "    <tr>\n",
       "      <th>20</th>\n",
       "      <td>Mansions of Madness: Second Edition</td>\n",
       "      <td>21.0</td>\n",
       "      <td>205059.0</td>\n",
       "    </tr>\n",
       "    <tr>\n",
       "      <th>21</th>\n",
       "      <td>Mechs vs. Minions</td>\n",
       "      <td>22.0</td>\n",
       "      <td>209010.0</td>\n",
       "    </tr>\n",
       "    <tr>\n",
       "      <th>22</th>\n",
       "      <td>Power Grid</td>\n",
       "      <td>23.0</td>\n",
       "      <td>2651.0</td>\n",
       "    </tr>\n",
       "    <tr>\n",
       "      <th>23</th>\n",
       "      <td>Eclipse</td>\n",
       "      <td>24.0</td>\n",
       "      <td>72125.0</td>\n",
       "    </tr>\n",
       "    <tr>\n",
       "      <th>24</th>\n",
       "      <td>Food Chain Magnate</td>\n",
       "      <td>25.0</td>\n",
       "      <td>175914.0</td>\n",
       "    </tr>\n",
       "    <tr>\n",
       "      <th>25</th>\n",
       "      <td>Orléans</td>\n",
       "      <td>26.0</td>\n",
       "      <td>164928.0</td>\n",
       "    </tr>\n",
       "    <tr>\n",
       "      <th>26</th>\n",
       "      <td>Robinson Crusoe: Adventures on the Cursed Island</td>\n",
       "      <td>27.0</td>\n",
       "      <td>121921.0</td>\n",
       "    </tr>\n",
       "    <tr>\n",
       "      <th>27</th>\n",
       "      <td>Viticulture Essential Edition</td>\n",
       "      <td>28.0</td>\n",
       "      <td>183394.0</td>\n",
       "    </tr>\n",
       "    <tr>\n",
       "      <th>28</th>\n",
       "      <td>Brass: Lancashire</td>\n",
       "      <td>29.0</td>\n",
       "      <td>28720.0</td>\n",
       "    </tr>\n",
       "    <tr>\n",
       "      <th>29</th>\n",
       "      <td>Le Havre</td>\n",
       "      <td>30.0</td>\n",
       "      <td>35677.0</td>\n",
       "    </tr>\n",
       "    <tr>\n",
       "      <th>...</th>\n",
       "      <td>...</td>\n",
       "      <td>...</td>\n",
       "      <td>...</td>\n",
       "    </tr>\n",
       "    <tr>\n",
       "      <th>13925</th>\n",
       "      <td>The Ungame</td>\n",
       "      <td>14190.0</td>\n",
       "      <td>6283.0</td>\n",
       "    </tr>\n",
       "    <tr>\n",
       "      <th>13926</th>\n",
       "      <td>Checkers</td>\n",
       "      <td>14191.0</td>\n",
       "      <td>2083.0</td>\n",
       "    </tr>\n",
       "    <tr>\n",
       "      <th>13927</th>\n",
       "      <td>Guess Who?</td>\n",
       "      <td>14192.0</td>\n",
       "      <td>4143.0</td>\n",
       "    </tr>\n",
       "    <tr>\n",
       "      <th>13928</th>\n",
       "      <td>Connect Four</td>\n",
       "      <td>14193.0</td>\n",
       "      <td>2719.0</td>\n",
       "    </tr>\n",
       "    <tr>\n",
       "      <th>13929</th>\n",
       "      <td>Monopoly Junior</td>\n",
       "      <td>14194.0</td>\n",
       "      <td>5339.0</td>\n",
       "    </tr>\n",
       "    <tr>\n",
       "      <th>13930</th>\n",
       "      <td>Anti-Monopoly</td>\n",
       "      <td>14195.0</td>\n",
       "      <td>1931.0</td>\n",
       "    </tr>\n",
       "    <tr>\n",
       "      <th>13931</th>\n",
       "      <td>Twister</td>\n",
       "      <td>14196.0</td>\n",
       "      <td>5894.0</td>\n",
       "    </tr>\n",
       "    <tr>\n",
       "      <th>13932</th>\n",
       "      <td>Game of Goose</td>\n",
       "      <td>14197.0</td>\n",
       "      <td>2785.0</td>\n",
       "    </tr>\n",
       "    <tr>\n",
       "      <th>13933</th>\n",
       "      <td>Barrel of Monkeys</td>\n",
       "      <td>14198.0</td>\n",
       "      <td>4149.0</td>\n",
       "    </tr>\n",
       "    <tr>\n",
       "      <th>13934</th>\n",
       "      <td>The Worst-Case Scenario Survival Game</td>\n",
       "      <td>14199.0</td>\n",
       "      <td>5050.0</td>\n",
       "    </tr>\n",
       "    <tr>\n",
       "      <th>13935</th>\n",
       "      <td>Roulette</td>\n",
       "      <td>14200.0</td>\n",
       "      <td>15549.0</td>\n",
       "    </tr>\n",
       "    <tr>\n",
       "      <th>13936</th>\n",
       "      <td>Pick Up Sticks</td>\n",
       "      <td>14201.0</td>\n",
       "      <td>6424.0</td>\n",
       "    </tr>\n",
       "    <tr>\n",
       "      <th>13937</th>\n",
       "      <td>Pachisi</td>\n",
       "      <td>14202.0</td>\n",
       "      <td>2136.0</td>\n",
       "    </tr>\n",
       "    <tr>\n",
       "      <th>13938</th>\n",
       "      <td>Hi Ho! Cherry-O</td>\n",
       "      <td>14203.0</td>\n",
       "      <td>6932.0</td>\n",
       "    </tr>\n",
       "    <tr>\n",
       "      <th>13939</th>\n",
       "      <td>Battleship</td>\n",
       "      <td>14204.0</td>\n",
       "      <td>2425.0</td>\n",
       "    </tr>\n",
       "    <tr>\n",
       "      <th>13940</th>\n",
       "      <td>Sorry!</td>\n",
       "      <td>14205.0</td>\n",
       "      <td>2407.0</td>\n",
       "    </tr>\n",
       "    <tr>\n",
       "      <th>13941</th>\n",
       "      <td>Hungry Hungry Hippos</td>\n",
       "      <td>14206.0</td>\n",
       "      <td>5895.0</td>\n",
       "    </tr>\n",
       "    <tr>\n",
       "      <th>13942</th>\n",
       "      <td>Cootie</td>\n",
       "      <td>14207.0</td>\n",
       "      <td>4378.0</td>\n",
       "    </tr>\n",
       "    <tr>\n",
       "      <th>13943</th>\n",
       "      <td>Mouse Trap</td>\n",
       "      <td>14209.0</td>\n",
       "      <td>2679.0</td>\n",
       "    </tr>\n",
       "    <tr>\n",
       "      <th>13944</th>\n",
       "      <td>Go Fish</td>\n",
       "      <td>14210.0</td>\n",
       "      <td>7682.0</td>\n",
       "    </tr>\n",
       "    <tr>\n",
       "      <th>13945</th>\n",
       "      <td>Old Maid</td>\n",
       "      <td>14211.0</td>\n",
       "      <td>10799.0</td>\n",
       "    </tr>\n",
       "    <tr>\n",
       "      <th>13946</th>\n",
       "      <td>Operation</td>\n",
       "      <td>14212.0</td>\n",
       "      <td>3737.0</td>\n",
       "    </tr>\n",
       "    <tr>\n",
       "      <th>13947</th>\n",
       "      <td>Monopoly</td>\n",
       "      <td>14213.0</td>\n",
       "      <td>1406.0</td>\n",
       "    </tr>\n",
       "    <tr>\n",
       "      <th>13948</th>\n",
       "      <td>Trouble</td>\n",
       "      <td>14214.0</td>\n",
       "      <td>1410.0</td>\n",
       "    </tr>\n",
       "    <tr>\n",
       "      <th>13949</th>\n",
       "      <td>The Game of Life</td>\n",
       "      <td>14215.0</td>\n",
       "      <td>2921.0</td>\n",
       "    </tr>\n",
       "    <tr>\n",
       "      <th>13950</th>\n",
       "      <td>LCR</td>\n",
       "      <td>14216.0</td>\n",
       "      <td>3522.0</td>\n",
       "    </tr>\n",
       "    <tr>\n",
       "      <th>13951</th>\n",
       "      <td>Bingo</td>\n",
       "      <td>14218.0</td>\n",
       "      <td>7316.0</td>\n",
       "    </tr>\n",
       "    <tr>\n",
       "      <th>13952</th>\n",
       "      <td>Candy Land</td>\n",
       "      <td>14219.0</td>\n",
       "      <td>5048.0</td>\n",
       "    </tr>\n",
       "    <tr>\n",
       "      <th>13953</th>\n",
       "      <td>Snakes and Ladders</td>\n",
       "      <td>14220.0</td>\n",
       "      <td>5432.0</td>\n",
       "    </tr>\n",
       "    <tr>\n",
       "      <th>13954</th>\n",
       "      <td>Tic-Tac-Toe</td>\n",
       "      <td>14221.0</td>\n",
       "      <td>11901.0</td>\n",
       "    </tr>\n",
       "  </tbody>\n",
       "</table>\n",
       "<p>13955 rows × 3 columns</p>\n",
       "</div>"
      ],
      "text/plain": [
       "                                                   Game  BGG Rank    GameID\n",
       "0                             Pandemic Legacy: Season 1       1.0  161936.0\n",
       "1         Through the Ages: A New Story of Civilization       2.0  182028.0\n",
       "2                                     Twilight Struggle       3.0   12333.0\n",
       "3                                            Gloomhaven       4.0  174430.0\n",
       "4                                  Star Wars: Rebellion       5.0  187645.0\n",
       "5                                         Terra Mystica       6.0  120677.0\n",
       "6                                     Terraforming Mars       7.0  167791.0\n",
       "7                                                Scythe       8.0  169786.0\n",
       "8                                        7 Wonders Duel       9.0  173346.0\n",
       "9                               The Castles of Burgundy      10.0   84876.0\n",
       "10                            Caverna: The Cave Farmers      11.0  102794.0\n",
       "11                                          Puerto Rico      12.0    3076.0\n",
       "12                     War of the Ring (Second Edition)      13.0  115746.0\n",
       "13                                  Great Western Trail      14.0  193738.0\n",
       "14                                             Agricola      15.0   31260.0\n",
       "15                               Mage Knight Board Game      16.0   96848.0\n",
       "16                                           Blood Rage      17.0  170216.0\n",
       "17            Through the Ages: A Story of Civilization      18.0   25613.0\n",
       "18                          Star Wars: Imperial Assault      19.0  164153.0\n",
       "19                         Arkham Horror: The Card Game      20.0  205637.0\n",
       "20                  Mansions of Madness: Second Edition      21.0  205059.0\n",
       "21                                    Mechs vs. Minions      22.0  209010.0\n",
       "22                                           Power Grid      23.0    2651.0\n",
       "23                                              Eclipse      24.0   72125.0\n",
       "24                                   Food Chain Magnate      25.0  175914.0\n",
       "25                                              Orléans      26.0  164928.0\n",
       "26     Robinson Crusoe: Adventures on the Cursed Island      27.0  121921.0\n",
       "27                        Viticulture Essential Edition      28.0  183394.0\n",
       "28                                    Brass: Lancashire      29.0   28720.0\n",
       "29                                             Le Havre      30.0   35677.0\n",
       "...                                                 ...       ...       ...\n",
       "13925                                        The Ungame   14190.0    6283.0\n",
       "13926                                          Checkers   14191.0    2083.0\n",
       "13927                                        Guess Who?   14192.0    4143.0\n",
       "13928                                      Connect Four   14193.0    2719.0\n",
       "13929                                   Monopoly Junior   14194.0    5339.0\n",
       "13930                                     Anti-Monopoly   14195.0    1931.0\n",
       "13931                                           Twister   14196.0    5894.0\n",
       "13932                                     Game of Goose   14197.0    2785.0\n",
       "13933                                 Barrel of Monkeys   14198.0    4149.0\n",
       "13934             The Worst-Case Scenario Survival Game   14199.0    5050.0\n",
       "13935                                          Roulette   14200.0   15549.0\n",
       "13936                                    Pick Up Sticks   14201.0    6424.0\n",
       "13937                                           Pachisi   14202.0    2136.0\n",
       "13938                                   Hi Ho! Cherry-O   14203.0    6932.0\n",
       "13939                                        Battleship   14204.0    2425.0\n",
       "13940                                            Sorry!   14205.0    2407.0\n",
       "13941                              Hungry Hungry Hippos   14206.0    5895.0\n",
       "13942                                            Cootie   14207.0    4378.0\n",
       "13943                                        Mouse Trap   14209.0    2679.0\n",
       "13944                                           Go Fish   14210.0    7682.0\n",
       "13945                                          Old Maid   14211.0   10799.0\n",
       "13946                                         Operation   14212.0    3737.0\n",
       "13947                                          Monopoly   14213.0    1406.0\n",
       "13948                                           Trouble   14214.0    1410.0\n",
       "13949                                  The Game of Life   14215.0    2921.0\n",
       "13950                                               LCR   14216.0    3522.0\n",
       "13951                                             Bingo   14218.0    7316.0\n",
       "13952                                        Candy Land   14219.0    5048.0\n",
       "13953                                Snakes and Ladders   14220.0    5432.0\n",
       "13954                                       Tic-Tac-Toe   14221.0   11901.0\n",
       "\n",
       "[13955 rows x 3 columns]"
      ]
     },
     "execution_count": 40,
     "metadata": {},
     "output_type": "execute_result"
    }
   ],
   "source": [
    "games_list"
   ]
  },
  {
   "cell_type": "code",
   "execution_count": 41,
   "metadata": {
    "collapsed": true
   },
   "outputs": [],
   "source": [
    "games = games_list['Game']"
   ]
  },
  {
   "cell_type": "code",
   "execution_count": 42,
   "metadata": {
    "scrolled": true
   },
   "outputs": [
    {
     "data": {
      "text/plain": [
       "0                               Pandemic Legacy: Season 1\n",
       "1           Through the Ages: A New Story of Civilization\n",
       "2                                       Twilight Struggle\n",
       "3                                              Gloomhaven\n",
       "4                                    Star Wars: Rebellion\n",
       "5                                           Terra Mystica\n",
       "6                                       Terraforming Mars\n",
       "7                                                  Scythe\n",
       "8                                          7 Wonders Duel\n",
       "9                                 The Castles of Burgundy\n",
       "10                              Caverna: The Cave Farmers\n",
       "11                                            Puerto Rico\n",
       "12                       War of the Ring (Second Edition)\n",
       "13                                    Great Western Trail\n",
       "14                                               Agricola\n",
       "15                                 Mage Knight Board Game\n",
       "16                                             Blood Rage\n",
       "17              Through the Ages: A Story of Civilization\n",
       "18                            Star Wars: Imperial Assault\n",
       "19                           Arkham Horror: The Card Game\n",
       "20                    Mansions of Madness: Second Edition\n",
       "21                                      Mechs vs. Minions\n",
       "22                                             Power Grid\n",
       "23                                                Eclipse\n",
       "24                                     Food Chain Magnate\n",
       "25                                                Orléans\n",
       "26       Robinson Crusoe: Adventures on the Cursed Island\n",
       "27                          Viticulture Essential Edition\n",
       "28                                      Brass: Lancashire\n",
       "29                                               Le Havre\n",
       "                               ...                       \n",
       "13925                                          The Ungame\n",
       "13926                                            Checkers\n",
       "13927                                          Guess Who?\n",
       "13928                                        Connect Four\n",
       "13929                                     Monopoly Junior\n",
       "13930                                       Anti-Monopoly\n",
       "13931                                             Twister\n",
       "13932                                       Game of Goose\n",
       "13933                                   Barrel of Monkeys\n",
       "13934               The Worst-Case Scenario Survival Game\n",
       "13935                                            Roulette\n",
       "13936                                      Pick Up Sticks\n",
       "13937                                             Pachisi\n",
       "13938                                     Hi Ho! Cherry-O\n",
       "13939                                          Battleship\n",
       "13940                                              Sorry!\n",
       "13941                                Hungry Hungry Hippos\n",
       "13942                                              Cootie\n",
       "13943                                          Mouse Trap\n",
       "13944                                             Go Fish\n",
       "13945                                            Old Maid\n",
       "13946                                           Operation\n",
       "13947                                            Monopoly\n",
       "13948                                             Trouble\n",
       "13949                                    The Game of Life\n",
       "13950                                                 LCR\n",
       "13951                                               Bingo\n",
       "13952                                          Candy Land\n",
       "13953                                  Snakes and Ladders\n",
       "13954                                         Tic-Tac-Toe\n",
       "Name: Game, Length: 13955, dtype: object"
      ]
     },
     "execution_count": 42,
     "metadata": {},
     "output_type": "execute_result"
    }
   ],
   "source": [
    "games"
   ]
  },
  {
   "cell_type": "code",
   "execution_count": 43,
   "metadata": {
    "collapsed": true
   },
   "outputs": [],
   "source": [
    "# Create empty dictionary\n",
    "games_idx = dict()"
   ]
  },
  {
   "cell_type": "code",
   "execution_count": 44,
   "metadata": {
    "collapsed": true
   },
   "outputs": [],
   "source": [
    "# The dictionary games_idx will use Game Titles as the key and a number as the value\n",
    "for i in range(0,len(games)):\n",
    "    game_title = games[i]\n",
    "    games_idx[game_title] = i\n"
   ]
  },
  {
   "cell_type": "code",
   "execution_count": 45,
   "metadata": {
    "scrolled": true
   },
   "outputs": [
    {
     "data": {
      "text/plain": [
       "{'Pandemic Legacy: Season 1': 0,\n",
       " 'Through the Ages: A New Story of Civilization': 1,\n",
       " 'Twilight Struggle': 2,\n",
       " 'Gloomhaven': 3,\n",
       " 'Star Wars: Rebellion': 4,\n",
       " 'Terra Mystica': 5,\n",
       " 'Terraforming Mars': 6,\n",
       " 'Scythe': 7,\n",
       " '7 Wonders Duel': 8,\n",
       " 'The Castles of Burgundy': 9,\n",
       " 'Caverna: The Cave Farmers': 10,\n",
       " 'Puerto Rico': 11,\n",
       " 'War of the Ring (Second Edition)': 12,\n",
       " 'Great Western Trail': 13,\n",
       " 'Agricola': 14,\n",
       " 'Mage Knight Board Game': 15,\n",
       " 'Blood Rage': 16,\n",
       " 'Through the Ages: A Story of Civilization': 17,\n",
       " 'Star Wars: Imperial Assault': 18,\n",
       " 'Arkham Horror: The Card Game': 19,\n",
       " 'Mansions of Madness: Second Edition': 20,\n",
       " 'Mechs vs. Minions': 21,\n",
       " 'Power Grid': 22,\n",
       " 'Eclipse': 23,\n",
       " 'Food Chain Magnate': 24,\n",
       " 'Orléans': 25,\n",
       " 'Robinson Crusoe: Adventures on the Cursed Island': 26,\n",
       " 'Viticulture Essential Edition': 27,\n",
       " 'Brass: Lancashire': 28,\n",
       " 'Le Havre': 29,\n",
       " 'Concordia': 30,\n",
       " 'Android: Netrunner': 31,\n",
       " \"Tzolk'in: The Mayan Calendar\": 32,\n",
       " 'T.I.M.E Stories': 33,\n",
       " 'Codenames': 34,\n",
       " 'A Feast for Odin': 35,\n",
       " 'Keyflower': 36,\n",
       " '7 Wonders': 37,\n",
       " 'The Voyages of Marco Polo': 38,\n",
       " 'Caylus': 39,\n",
       " 'Twilight Imperium (Third Edition)': 40,\n",
       " 'Eldritch Horror': 41,\n",
       " 'Race for the Galaxy': 42,\n",
       " 'Lords of Waterdeep': 43,\n",
       " 'Dead of Winter: A Crossroads Game': 44,\n",
       " 'Dominant Species': 45,\n",
       " 'Patchwork': 46,\n",
       " 'Five Tribes': 47,\n",
       " 'Roll for the Galaxy': 48,\n",
       " 'El Grande': 49,\n",
       " 'Dominion: Intrigue': 50,\n",
       " 'Star Wars: X-Wing Miniatures Game': 51,\n",
       " 'Fields of Arle': 52,\n",
       " 'Battlestar Galactica': 53,\n",
       " 'Clank!: A Deck-Building Adventure': 54,\n",
       " 'Sherlock Holmes Consulting Detective: The Thames Murders & Other Cases': 55,\n",
       " 'Mombasa': 56,\n",
       " 'Dominion': 57,\n",
       " 'Russian Railroads': 58,\n",
       " 'Trajan': 59,\n",
       " 'Tigris & Euphrates': 60,\n",
       " 'Troyes': 61,\n",
       " 'Pandemic': 62,\n",
       " 'Santorini': 63,\n",
       " 'Descent: Journeys in the Dark (Second Edition)': 64,\n",
       " 'Crokinole': 65,\n",
       " 'Castles of Mad King Ludwig': 66,\n",
       " 'Kemet': 67,\n",
       " 'War of the Ring (first edition)': 68,\n",
       " 'The Resistance: Avalon': 69,\n",
       " 'The Gallerist': 70,\n",
       " 'Stone Age': 71,\n",
       " 'Arcadia Quest': 72,\n",
       " 'A Game of Thrones: The Board Game (Second Edition)': 73,\n",
       " 'Alchemists': 74,\n",
       " 'Legendary Encounters: An Alien Deck Building Game': 75,\n",
       " 'Ora et Labora': 76,\n",
       " 'Star Realms': 77,\n",
       " 'Forbidden Stars': 78,\n",
       " 'Nations': 79,\n",
       " 'Suburbia': 80,\n",
       " 'Commands & Colors: Ancients': 81,\n",
       " 'Railways of the World': 82,\n",
       " 'Ticket to Ride: Europe': 83,\n",
       " 'Chaos in the Old World': 84,\n",
       " 'Paths of Glory': 85,\n",
       " 'Istanbul': 86,\n",
       " 'Cosmic Encounter': 87,\n",
       " 'Combat Commander: Europe': 88,\n",
       " 'Steam': 89,\n",
       " 'Goa': 90,\n",
       " 'Captain Sonar': 91,\n",
       " 'The Lord of the Rings: The Card Game': 92,\n",
       " 'Jaipur': 93,\n",
       " 'Age of Steam': 94,\n",
       " 'La Granja': 95,\n",
       " 'Viticulture': 96,\n",
       " 'Hansa Teutonica': 97,\n",
       " 'Zombicide: Black Plague': 98,\n",
       " 'Splendor': 99,\n",
       " 'The Princes of Florence': 100,\n",
       " 'Village': 101,\n",
       " 'Ticket to Ride: Nordic Countries': 102,\n",
       " 'Tichu': 103,\n",
       " 'Go': 104,\n",
       " 'Legendary: A Marvel Deck Building Game': 105,\n",
       " \"Memoir '44\": 106,\n",
       " 'Imperial Settlers': 107,\n",
       " 'Mage Wars Arena': 108,\n",
       " 'Ticket to Ride': 109,\n",
       " 'Shogun': 110,\n",
       " 'Galaxy Trucker': 111,\n",
       " 'Hannibal: Rome vs. Carthage': 112,\n",
       " 'Lewis & Clark': 113,\n",
       " 'Summoner Wars: Master Set': 114,\n",
       " 'Dungeon Petz': 115,\n",
       " 'Age of Empires III: The Age of Discovery': 116,\n",
       " 'BattleLore (Second Edition)': 117,\n",
       " 'Imperial': 118,\n",
       " 'YINSH': 119,\n",
       " 'Cyclades': 120,\n",
       " 'Runewars': 121,\n",
       " 'Ra': 122,\n",
       " 'Space Alert': 123,\n",
       " 'Grand Austria Hotel': 124,\n",
       " 'Pandemic Iberia': 125,\n",
       " 'Above and Below': 126,\n",
       " 'Carcassonne': 127,\n",
       " 'Mysterium': 128,\n",
       " 'Glory to Rome': 129,\n",
       " 'Bora Bora': 130,\n",
       " 'Targi': 131,\n",
       " 'Alien Frontiers': 132,\n",
       " 'Sekigahara: The Unification of Japan': 133,\n",
       " 'Seasons': 134,\n",
       " 'Isle of Skye: From Chieftain to King': 135,\n",
       " 'Sushi Go Party!': 136,\n",
       " 'Dixit Odyssey': 137,\n",
       " 'Navegador': 138,\n",
       " 'Anachrony': 139,\n",
       " '1960: The Making of the President': 140,\n",
       " 'The Resistance': 141,\n",
       " 'Power Grid Deluxe: Europe/North America': 142,\n",
       " 'Dead of Winter: The Long Night': 143,\n",
       " 'Here I Stand': 144,\n",
       " 'Fury of Dracula (third edition)': 145,\n",
       " \"Sid Meier's Civilization: The Board Game\": 146,\n",
       " 'Magic: The Gathering': 147,\n",
       " '1830: Railways & Robber Barons': 148,\n",
       " 'The 7th Continent': 149,\n",
       " 'Imperial 2030': 150,\n",
       " 'Xia: Legends of a Drift System': 151,\n",
       " 'Yokohama': 152,\n",
       " 'Agricola: All Creatures Big and Small': 153,\n",
       " 'Samurai': 154,\n",
       " 'Kingdom Death: Monster': 155,\n",
       " 'Die Macher': 156,\n",
       " 'Dungeon Lords': 157,\n",
       " 'Inis': 158,\n",
       " 'Champions of Midgard': 159,\n",
       " 'Small World': 160,\n",
       " 'Battle Line': 161,\n",
       " 'Claustrophobia': 162,\n",
       " 'Blood Bowl: Living Rulebook': 163,\n",
       " 'Letters from Whitechapel': 164,\n",
       " 'Star Wars: Armada': 165,\n",
       " 'Dixit': 166,\n",
       " 'Codenames: Pictures': 167,\n",
       " 'BattleCON: Devastation of Indines': 168,\n",
       " 'Mission: Red Planet (Second Edition)': 169,\n",
       " 'Mice and Mystics': 170,\n",
       " 'Advanced Squad Leader': 171,\n",
       " 'Bruges': 172,\n",
       " 'Ghost Stories': 173,\n",
       " 'Clash of Cultures': 174,\n",
       " 'Endeavor': 175,\n",
       " 'Merchants & Marauders': 176,\n",
       " 'Love Letter': 177,\n",
       " 'The Manhattan Project': 178,\n",
       " 'Hive': 179,\n",
       " 'Deception: Murder in Hong Kong': 180,\n",
       " 'Rococo': 181,\n",
       " 'Takenoko': 182,\n",
       " 'Neuroshima Hex!': 183,\n",
       " 'Notre Dame': 184,\n",
       " 'Acquire': 185,\n",
       " 'Trickerion: Legends of Illusion': 186,\n",
       " 'Indonesia': 187,\n",
       " 'Space Hulk (third edition)': 188,\n",
       " 'Dune': 189,\n",
       " 'Glass Road': 190,\n",
       " 'In the Year of the Dragon': 191,\n",
       " 'Onitama': 192,\n",
       " 'Risk Legacy': 193,\n",
       " 'Tikal': 194,\n",
       " 'King of Tokyo': 195,\n",
       " 'Civilization': 196,\n",
       " 'Star Realms: Colony Wars': 197,\n",
       " 'Telestrations': 198,\n",
       " 'Kanban: Automotive Revolution': 199,\n",
       " 'Sheriff of Nottingham': 200,\n",
       " 'San Juan': 201,\n",
       " 'Saint Petersburg': 202,\n",
       " 'Survive: Escape from Atlantis!': 203,\n",
       " 'Ticket to Ride: Märklin': 204,\n",
       " 'Arkham Horror': 205,\n",
       " 'The Pillars of the Earth': 206,\n",
       " 'A Few Acres of Snow': 207,\n",
       " 'Cthulhu Wars': 208,\n",
       " 'Blood Bowl: Team Manager – The Card Game': 209,\n",
       " 'Macao': 210,\n",
       " 'Burgle Bros.': 211,\n",
       " 'At the Gates of Loyang': 212,\n",
       " 'One Night Ultimate Werewolf': 213,\n",
       " 'Quadropolis': 214,\n",
       " 'BattleLore': 215,\n",
       " 'Kingdomino': 216,\n",
       " 'Blood Bowl (Third Edition)': 217,\n",
       " 'Modern Art': 218,\n",
       " 'Lancaster': 219,\n",
       " '1775: Rebellion': 220,\n",
       " 'Fresco': 221,\n",
       " 'Tiny Epic Galaxies': 222,\n",
       " 'Earth Reborn': 223,\n",
       " 'Mansions of Madness': 224,\n",
       " 'Maria': 225,\n",
       " 'The Manhattan Project: Energy Empire': 226,\n",
       " 'Antiquity': 227,\n",
       " 'Lord of the Rings: The Confrontation': 228,\n",
       " 'Nippon': 229,\n",
       " 'Hero Realms': 230,\n",
       " 'Roads & Boats': 231,\n",
       " 'Forbidden Desert': 232,\n",
       " 'Glen More': 233,\n",
       " 'London': 234,\n",
       " 'Amun-Re': 235,\n",
       " 'Secret Hitler': 236,\n",
       " 'Flash Point: Fire Rescue': 237,\n",
       " 'Pandemic: The Cure': 238,\n",
       " 'Sentinels of the Multiverse': 239,\n",
       " 'Descent: Journeys in the Dark': 240,\n",
       " 'Bruxelles 1893': 241,\n",
       " 'Heroscape Master Set: Rise of the Valkyrie': 242,\n",
       " 'Star Wars: Destiny': 243,\n",
       " 'For Sale': 244,\n",
       " 'Kingsburg': 245,\n",
       " 'Hanabi': 246,\n",
       " 'Pathfinder Adventure Card Game: Rise of the Runelords – Base Set': 247,\n",
       " 'Small World Underground': 248,\n",
       " 'Catan': 249,\n",
       " 'Amerigo': 250,\n",
       " 'Egizia': 251,\n",
       " 'Shadows of Brimstone: City of the Ancients': 252,\n",
       " 'Archipelago': 253,\n",
       " 'A Game of Thrones: The Card Game (Second Edition)': 254,\n",
       " 'Firefly: The Game': 255,\n",
       " '51st State: Master Set': 256,\n",
       " 'Innovation': 257,\n",
       " 'Star Wars: X-Wing Miniatures Game – The Force Awakens Core Set': 258,\n",
       " 'Vinhos': 259,\n",
       " 'Spartacus: A Game of Blood & Treachery': 260,\n",
       " 'Legends of Andor': 261,\n",
       " \"Time's Up! Title Recall!\": 262,\n",
       " 'Commands & Colors: Napoleonics': 263,\n",
       " 'Thunderstone Advance: Towers of Ruin': 264,\n",
       " 'Hammer of the Scots': 265,\n",
       " 'Biblios': 266,\n",
       " 'Airlines Europe': 267,\n",
       " 'Labyrinth: The War on Terror, 2001 – ?': 268,\n",
       " 'Colt Express': 269,\n",
       " 'Libertalia': 270,\n",
       " 'Paperback': 271,\n",
       " 'The Grizzled': 272,\n",
       " 'Taj Mahal': 273,\n",
       " 'San Juan (second edition)': 274,\n",
       " 'Lost Cities': 275,\n",
       " 'Deus': 276,\n",
       " 'Friday': 277,\n",
       " 'Zombicide': 278,\n",
       " 'Evolution: Climate': 279,\n",
       " 'Millennium Blades': 280,\n",
       " 'A Game of Thrones (first edition)': 281,\n",
       " 'Raiders of the North Sea': 282,\n",
       " 'Tales of the Arabian Nights': 283,\n",
       " 'Vikings': 284,\n",
       " 'Elysium': 285,\n",
       " 'Stockpile': 286,\n",
       " 'Euphoria: Build a Better Dystopia': 287,\n",
       " 'Automobile': 288,\n",
       " 'Freedom: The Underground Railroad': 289,\n",
       " 'Madeira': 290,\n",
       " 'Agricola (revised edition)': 291,\n",
       " 'Struggle of Empires': 292,\n",
       " 'Citadels': 293,\n",
       " 'Lorenzo il Magnifico': 294,\n",
       " 'Wallenstein (first edition)': 295,\n",
       " 'Last Will': 296,\n",
       " 'Ginkgopolis': 297,\n",
       " 'Carson City': 298,\n",
       " 'Evolution': 299,\n",
       " 'Vinhos Deluxe Edition': 300,\n",
       " 'Abyss': 301,\n",
       " 'Shadows over Camelot': 302,\n",
       " 'PitchCar': 303,\n",
       " 'Francis Drake': 304,\n",
       " 'Ingenious': 305,\n",
       " 'Nexus Ops': 306,\n",
       " 'The Republic of Rome': 307,\n",
       " 'Century: Spice Road': 308,\n",
       " 'RoboRally': 309,\n",
       " 'Warhammer Quest: The Adventure Card Game': 310,\n",
       " 'AquaSphere': 311,\n",
       " 'Sushi Go!': 312,\n",
       " 'Cry Havoc': 313,\n",
       " 'Gears of War: The Board Game': 314,\n",
       " 'StarCraft: The Board Game': 315,\n",
       " 'Pandemic: Reign of Cthulhu': 316,\n",
       " 'Near and Far': 317,\n",
       " 'Spyfall': 318,\n",
       " 'Snowdonia': 319,\n",
       " 'Defenders of the Realm': 320,\n",
       " 'Smash Up: Awesome Level 9000': 321,\n",
       " 'Dixit: Journey': 322,\n",
       " 'Belfort': 323,\n",
       " 'DVONN': 324,\n",
       " 'Thurn and Taxis': 325,\n",
       " 'TZAAR': 326,\n",
       " 'Up Front': 327,\n",
       " 'Ashes: Rise of the Phoenixborn': 328,\n",
       " 'Summoner Wars': 329,\n",
       " 'Coup': 330,\n",
       " 'Trains': 331,\n",
       " \"Napoleon's Triumph\": 332,\n",
       " 'Lords of Vegas': 333,\n",
       " 'Tyrants of the Underdark': 334,\n",
       " 'Imhotep': 335,\n",
       " 'Conflict of Heroes: Awakening the Bear! – Russia 1941-42': 336,\n",
       " '1989: Dawn of Freedom': 337,\n",
       " 'Colosseum': 338,\n",
       " 'Chicago Express': 339,\n",
       " 'The Duke': 340,\n",
       " 'Arboretum': 341,\n",
       " 'One Night Ultimate Werewolf Daybreak': 342,\n",
       " 'Specter Ops': 343,\n",
       " 'Quantum': 344,\n",
       " 'Chinatown': 345,\n",
       " 'Pax Porfiriana': 346,\n",
       " 'Star Trek: Fleet Captains': 347,\n",
       " 'Bohnanza': 348,\n",
       " 'The Colonists': 349,\n",
       " 'Thebes': 350,\n",
       " 'Tajemnicze Domostwo': 351,\n",
       " \"Time's Up!\": 352,\n",
       " 'Fire in the Lake': 353,\n",
       " 'King of New York': 354,\n",
       " 'Marvel Dice Masters: Avengers vs. X-Men': 355,\n",
       " 'Camel Up': 356,\n",
       " 'Fury of Dracula (second edition)': 357,\n",
       " 'The Battle of Five Armies': 358,\n",
       " 'Baseball Highlights: 2045': 359,\n",
       " 'Advanced Squad Leader: Starter Kit #1': 360,\n",
       " 'The Great Zimbabwe': 361,\n",
       " 'Betrayal at House on the Hill': 362,\n",
       " 'Karuba': 363,\n",
       " 'Carcassonne: Hunters and Gatherers': 364,\n",
       " 'Raptor': 365,\n",
       " 'Luna': 366,\n",
       " 'Zombicide Season 2: Prison Outbreak': 367,\n",
       " 'Combat Commander: Pacific': 368,\n",
       " 'Shadows of Brimstone: Swamps of Death': 369,\n",
       " 'Tobago': 370,\n",
       " 'Conan': 371,\n",
       " 'Escape: The Curse of the Temple': 372,\n",
       " 'Schotten Totten': 373,\n",
       " 'Vegas Showdown': 374,\n",
       " \"Aeon's End\": 375,\n",
       " 'Cuba': 376,\n",
       " 'ZhanGuo': 377,\n",
       " 'Among the Stars': 378,\n",
       " 'Myrmes': 379,\n",
       " \"Washington's War\": 380,\n",
       " 'Alhambra': 381,\n",
       " 'Summoner Wars: Phoenix Elves vs Tundra Orcs': 382,\n",
       " 'Harry Potter: Hogwarts Battle': 383,\n",
       " 'Torres': 384,\n",
       " 'Mr. Jack': 385,\n",
       " 'No Thanks!': 386,\n",
       " 'Summoner Wars: Guild Dwarves vs Cave Goblins': 387,\n",
       " 'Discworld: Ankh-Morpork': 388,\n",
       " 'Eminent Domain': 389,\n",
       " 'Star Wars: The Card Game': 390,\n",
       " 'Middle-Earth Quest': 391,\n",
       " 'Space Hulk': 392,\n",
       " 'Taluva': 393,\n",
       " 'Jamaica': 394,\n",
       " 'Steampunk Rally': 395,\n",
       " 'Chess': 396,\n",
       " 'Age of Industry': 397,\n",
       " 'Mare Nostrum: Empires': 398,\n",
       " 'First Class': 399,\n",
       " 'Broom Service': 400,\n",
       " 'Vasco da Gama': 401,\n",
       " 'Shipyard': 402,\n",
       " 'Love Letter: Batman': 403,\n",
       " 'Ethnos': 404,\n",
       " 'Yspahan': 405,\n",
       " 'Yedo': 406,\n",
       " 'Warhammer: Invasion': 407,\n",
       " 'Mystic Vale': 408,\n",
       " 'Legendary: Villains – A Marvel Deck Building Game': 409,\n",
       " \"Tinners' Trail\": 410,\n",
       " 'Formula D': 411,\n",
       " 'Marvel Dice Masters: Uncanny X-Men': 412,\n",
       " 'Port Royal': 413,\n",
       " 'Tokaido': 414,\n",
       " 'Virgin Queen': 415,\n",
       " 'Shakespeare': 416,\n",
       " 'Dungeons & Dragons: The Legend of Drizzt Board Game': 417,\n",
       " 'Friedrich': 418,\n",
       " 'Medici': 419,\n",
       " 'K2': 420,\n",
       " 'The Downfall of Pompeii': 421,\n",
       " 'Through the Desert': 422,\n",
       " 'Kingdom Builder': 423,\n",
       " 'World Without End': 424,\n",
       " 'Tash-Kalar: Arena of Legends': 425,\n",
       " 'Triumph & Tragedy': 426,\n",
       " 'Brew Crafters': 427,\n",
       " 'Union Pacific': 428,\n",
       " 'Argent: The Consortium': 429,\n",
       " 'Tribune: Primus Inter Pares': 430,\n",
       " 'Conflict of Heroes: Awakening the Bear! (second edition)': 431,\n",
       " 'Smash Up: Science Fiction Double Feature': 432,\n",
       " 'Summoner Wars: Alliances Master Set': 433,\n",
       " 'Onirim (second edition)': 434,\n",
       " 'XCOM: The Board Game': 435,\n",
       " 'Heroscape Master Set: Swarm of the Marro': 436,\n",
       " 'Panamax': 437,\n",
       " 'Space Empires: 4X': 438,\n",
       " 'Squad Leader': 439,\n",
       " 'BANG! The Dice Game': 440,\n",
       " 'Elder Sign': 441,\n",
       " 'Reef Encounter': 442,\n",
       " 'Homesteaders': 443,\n",
       " 'ZÈRTZ': 444,\n",
       " 'Spyrium': 445,\n",
       " 'Potion Explosion': 446,\n",
       " 'Bridge': 447,\n",
       " \"Ca$h 'n Guns (Second Edition)\": 448,\n",
       " 'Coal Baron': 449,\n",
       " 'Genoa': 450,\n",
       " 'Cuba Libre': 451,\n",
       " 'Jambo': 452,\n",
       " 'Runebound (Third Edition)': 453,\n",
       " 'Coloretto': 454,\n",
       " 'Saint Petersburg (second edition)': 455,\n",
       " 'D-Day at Omaha Beach': 456,\n",
       " 'Polis: Fight for the Hegemony': 457,\n",
       " 'Between Two Cities': 458,\n",
       " 'Tragedy Looper': 459,\n",
       " 'Carcassonne: The Castle': 460,\n",
       " 'Web of Power': 461,\n",
       " 'Maharaja: The Game of Palace Building in India': 462,\n",
       " 'Skull': 463,\n",
       " 'Blue Moon City': 464,\n",
       " 'Carcassonne: The City': 465,\n",
       " 'Ascension: Deckbuilding Game': 466,\n",
       " 'Core Worlds': 467,\n",
       " 'Diplomacy': 468,\n",
       " 'Sagrada': 469,\n",
       " 'Ascension: Storm of Souls': 470,\n",
       " 'Thunderstone: Dragonspire': 471,\n",
       " \"Flick 'em Up!\": 472,\n",
       " 'San Marco': 473,\n",
       " 'Lords of Xidit': 474,\n",
       " 'Santiago': 475,\n",
       " 'Legacy: The Testament of Duke de Crecy': 476,\n",
       " 'Wits & Wagers': 477,\n",
       " 'Empires: Age of Discovery': 478,\n",
       " 'Hawaii': 479,\n",
       " 'Thunderstone': 480,\n",
       " 'Super Motherload': 481,\n",
       " 'Louis XIV': 482,\n",
       " 'Dungeons & Dragons: Wrath of Ashardalon Board Game': 483,\n",
       " 'Blokus': 484,\n",
       " \"Star Wars: The Queen's Gambit\": 485,\n",
       " 'Stronghold': 486,\n",
       " 'Last Night on Earth: The Zombie Game': 487,\n",
       " 'Hyperborea': 488,\n",
       " 'CO₂': 489,\n",
       " 'Britannia': 490,\n",
       " 'Thunder Alley': 491,\n",
       " 'Roll Player': 492,\n",
       " 'Cacao': 493,\n",
       " 'Las Vegas': 494,\n",
       " 'Finca': 495,\n",
       " 'Mexica': 496,\n",
       " 'Churchill': 497,\n",
       " 'Ascension: Return of the Fallen': 498,\n",
       " 'The Palaces of Carrara': 499,\n",
       " 'Space Hulk: Death Angel – The Card Game': 500,\n",
       " 'Scoville': 501,\n",
       " 'Red7': 502,\n",
       " 'Hanamikoji': 503,\n",
       " 'La Città': 504,\n",
       " 'The Oracle of Delphi': 505,\n",
       " 'Antike': 506,\n",
       " 'FUSE': 507,\n",
       " 'BattleCON: War of Indines': 508,\n",
       " 'Netrunner': 509,\n",
       " 'Concept': 510,\n",
       " 'Merchant of Venus (second edition)': 511,\n",
       " 'The Castles of Burgundy: The Card Game': 512,\n",
       " 'Battles of Westeros': 513,\n",
       " 'Legendary Encounters: A Predator Deck Building Game': 514,\n",
       " 'Attika': 515,\n",
       " 'Conflict of Heroes: Storms of Steel! – Kursk 1943': 516,\n",
       " 'Smash Up: Pretty Pretty Smash Up': 517,\n",
       " 'Tammany Hall': 518,\n",
       " 'Adrenaline': 519,\n",
       " 'Dream Factory': 520,\n",
       " 'Exit: The Game – The Abandoned Cabin': 521,\n",
       " 'Tide of Iron': 522,\n",
       " 'Wilderness War': 523,\n",
       " 'Wir sind das Volk!': 524,\n",
       " 'Smash Up: Monster Smash': 525,\n",
       " 'Princes of the Renaissance': 526,\n",
       " \"Liar's Dice\": 527,\n",
       " 'Discoveries': 528,\n",
       " 'Vast: The Crystal Caverns': 529,\n",
       " 'Roll Through the Ages: The Bronze Age': 530,\n",
       " 'Morels': 531,\n",
       " 'Cribbage': 532,\n",
       " 'Formula Dé': 533,\n",
       " 'A Study in Emerald': 534,\n",
       " 'Container': 535,\n",
       " 'Ricochet Robots': 536,\n",
       " 'Forbidden Island': 537,\n",
       " 'Vinci': 538,\n",
       " 'HeroQuest': 539,\n",
       " 'Flamme Rouge': 540,\n",
       " 'Wiz-War (eighth edition)': 541,\n",
       " '6 nimmt!': 542,\n",
       " 'History of the World': 543,\n",
       " 'Mr. Jack in New York': 544,\n",
       " 'The Speicherstadt': 545,\n",
       " 'Pictomania': 546,\n",
       " 'Warhammer 40,000: Conquest': 547,\n",
       " 'Lanterns: The Harvest Festival': 548,\n",
       " 'Rex: Final Days of an Empire': 549,\n",
       " 'Kanagawa': 550,\n",
       " 'Tumblin-Dice': 551,\n",
       " 'Zombicide Season 3: Rue Morgue': 552,\n",
       " 'The Others': 553,\n",
       " 'Mr. Jack Pocket': 554,\n",
       " 'Deep Sea Adventure': 555,\n",
       " 'Snow Tails': 556,\n",
       " 'Shadowrun: Crossfire': 557,\n",
       " 'Zooloretto': 558,\n",
       " 'Monikers': 559,\n",
       " '13 Days: The Cuban Missile Crisis': 560,\n",
       " 'Akrotiri': 561,\n",
       " 'Battle Cry': 562,\n",
       " 'The Networks': 563,\n",
       " 'Telestrations: 12 Player Party Pack': 564,\n",
       " 'Ninjato': 565,\n",
       " 'Level 7 [Omega Protocol]': 566,\n",
       " 'Dungeons & Dragons: Castle Ravenloft Board Game': 567,\n",
       " 'Celestia': 568,\n",
       " 'Manila': 569,\n",
       " '1812: The Invasion of Canada': 570,\n",
       " 'Smash Up': 571,\n",
       " 'Terror in Meeple City': 572,\n",
       " 'Space Hulk (fourth edition)': 573,\n",
       " 'Magic Maze': 574,\n",
       " 'China': 575,\n",
       " 'Rhino Hero': 576,\n",
       " 'Mahjong': 577,\n",
       " 'Vanuatu': 578,\n",
       " 'Signorie': 579,\n",
       " 'The Rivals for Catan': 580,\n",
       " 'Metropolys': 581,\n",
       " 'Sherlock Holmes Consulting Detective: Jack the Ripper & West End Adventures': 582,\n",
       " 'Pathfinder Adventure Card Game: Skull & Shackles – Base Set': 583,\n",
       " \"Can't Stop\": 584,\n",
       " 'Domaine': 585,\n",
       " 'Valley of the Kings': 586,\n",
       " 'Manoeuvre': 587,\n",
       " 'Black Fleet': 588,\n",
       " 'Ultimate Werewolf: Ultimate Edition': 589,\n",
       " 'Catacombs': 590,\n",
       " 'Fauna': 591,\n",
       " 'The Big Book of Madness': 592,\n",
       " 'Eight-Minute Empire: Legends': 593,\n",
       " 'Planet Steam': 594,\n",
       " 'Diamant': 595,\n",
       " 'Loony Quest': 596,\n",
       " 'Yggdrasil': 597,\n",
       " 'No Retreat! The Russian Front': 598,\n",
       " 'Caylus Magna Carta': 599,\n",
       " 'Warhammer Quest': 600,\n",
       " \"Loopin' Louie\": 601,\n",
       " 'Blood Bowl (2016 edition)': 602,\n",
       " 'Peloponnes': 603,\n",
       " 'Primordial Soup': 604,\n",
       " 'Keythedral': 605,\n",
       " 'Too Many Bones': 606,\n",
       " 'Qwirkle': 607,\n",
       " \"Witch's Brew\": 608,\n",
       " 'Diamonds': 609,\n",
       " 'Steam Park': 610,\n",
       " 'Not Alone': 611,\n",
       " 'Valeria: Card Kingdoms': 612,\n",
       " 'Automobiles': 613,\n",
       " 'One Deck Dungeon': 614,\n",
       " 'Junk Art': 615,\n",
       " \"Hey, That's My Fish!\": 616,\n",
       " 'A Distant Plain': 617,\n",
       " 'Eat Poop You Cat': 618,\n",
       " 'Arkwright': 619,\n",
       " 'Haggis': 620,\n",
       " 'Power Grid: Factory Manager': 621,\n",
       " 'Merchant of Venus': 622,\n",
       " 'Viceroy': 623,\n",
       " 'Quarriors!': 624,\n",
       " 'Tales & Games: The Hare & the Tortoise': 625,\n",
       " 'Hamburgum': 626,\n",
       " 'A Game of Thrones: The Card Game': 627,\n",
       " 'Arcadia Quest: Inferno': 628,\n",
       " 'Fleet': 629,\n",
       " 'Witness': 630,\n",
       " 'Ambush!': 631,\n",
       " 'Liberté': 632,\n",
       " 'Guildhall': 633,\n",
       " 'Dice Forge': 634,\n",
       " 'Quartermaster General': 635,\n",
       " 'Ikusa': 636,\n",
       " 'Railroad Revolution': 637,\n",
       " \"Winner's Circle\": 638,\n",
       " 'Runebound (Second Edition)': 639,\n",
       " 'Bärenpark': 640,\n",
       " 'Strasbourg': 641,\n",
       " 'Dogs of War': 642,\n",
       " 'Hacienda': 643,\n",
       " 'KLASK': 644,\n",
       " 'Risk: Star Wars Edition': 645,\n",
       " '1846: The Race for the Midwest': 646,\n",
       " 'Islebound': 647,\n",
       " \"World's Fair 1893\": 648,\n",
       " 'Trains: Rising Sun': 649,\n",
       " 'Java': 650,\n",
       " 'Advanced Squad Leader: Starter Kit #2': 651,\n",
       " 'For the People': 652,\n",
       " 'Lord of the Rings': 653,\n",
       " 'Mint Works': 654,\n",
       " 'Hansa': 655,\n",
       " 'Julius Caesar': 656,\n",
       " 'Thunderbolt Apache Leader': 657,\n",
       " 'Qwixx': 658,\n",
       " 'Heroes of Normandie': 659,\n",
       " 'Wizard': 660,\n",
       " \"The Werewolves of Miller's Hollow\": 661,\n",
       " 'Parade': 662,\n",
       " 'Gold West': 663,\n",
       " 'Rallyman': 664,\n",
       " 'La Isla': 665,\n",
       " 'Linko!': 666,\n",
       " 'Leaving Earth': 667,\n",
       " 'Machi Koro': 668,\n",
       " 'Arkadia': 669,\n",
       " 'Andean Abyss': 670,\n",
       " 'Cottage Garden': 671,\n",
       " 'Mission: Red Planet': 672,\n",
       " 'Shadow Hunters': 673,\n",
       " 'Medina': 674,\n",
       " 'Via Nebula': 675,\n",
       " 'Yamataï': 676,\n",
       " 'A Touch of Evil: The Supernatural Game': 677,\n",
       " 'GIPF': 678,\n",
       " 'Animal Upon Animal': 679,\n",
       " 'New York 1901': 680,\n",
       " 'Firenze': 681,\n",
       " 'Empire of the Sun': 682,\n",
       " 'The New Era': 683,\n",
       " 'DC Comics Deck-Building Game': 684,\n",
       " 'Fortune and Glory: The Cliffhanger Game': 685,\n",
       " 'The Pursuit of Happiness': 686,\n",
       " 'Fabled Fruit': 687,\n",
       " 'The Golden Ages': 688,\n",
       " 'Dice Town': 689,\n",
       " 'Yomi': 690,\n",
       " 'Catan Card Game': 691,\n",
       " 'Blueprints': 692,\n",
       " 'Fairy Tale': 693,\n",
       " 'Zendo': 694,\n",
       " 'Fire & Axe: A Viking Saga': 695,\n",
       " 'Carcassonne: South Seas': 696,\n",
       " 'The Bloody Inn': 697,\n",
       " 'Oh My Goods!': 698,\n",
       " 'Dark Moon': 699,\n",
       " 'Tournay': 700,\n",
       " 'Nothing Personal': 701,\n",
       " 'Evo': 702,\n",
       " 'Rialto': 703,\n",
       " 'Ascending Empires': 704,\n",
       " 'Unfair': 705,\n",
       " 'Colossal Arena': 706,\n",
       " 'High Frontier': 707,\n",
       " 'Two Rooms and a Boom': 708,\n",
       " 'Patchistory': 709,\n",
       " 'Advanced Squad Leader: Starter Kit #3': 710,\n",
       " 'Sons of Anarchy: Men of Mayhem': 711,\n",
       " 'Coconuts': 712,\n",
       " 'Dungeon Twister': 713,\n",
       " 'Santiago de Cuba': 714,\n",
       " 'Cleopatra and the Society of Architects': 715,\n",
       " 'De Vulgari Eloquentia': 716,\n",
       " 'Rattus': 717,\n",
       " 'Dungeon Fighter': 718,\n",
       " 'Blokus Duo': 719,\n",
       " 'Mottainai': 720,\n",
       " 'DC Comics Dice Masters: Justice League': 721,\n",
       " 'Wallenstein (second edition)': 722,\n",
       " 'Medieval Academy': 723,\n",
       " 'XenoShyft: Onslaught': 724,\n",
       " 'Rise of Augustus': 725,\n",
       " 'Mystery Rummy: Jack the Ripper': 726,\n",
       " 'Automania': 727,\n",
       " 'Mykerinos': 728,\n",
       " 'Löwenherz': 729,\n",
       " 'Amyitis': 730,\n",
       " 'Titan': 731,\n",
       " 'Wings of War: Famous Aces': 732,\n",
       " 'Fief: France 1429': 733,\n",
       " 'Tsuro': 734,\n",
       " 'Meuterer': 735,\n",
       " 'Doom: The Boardgame': 736,\n",
       " 'Asara': 737,\n",
       " 'Axis & Allies Anniversary Edition': 738,\n",
       " 'Say Anything': 739,\n",
       " 'Spirit Island': 740,\n",
       " 'Elfenland': 741,\n",
       " 'Doomtown: Reloaded': 742,\n",
       " 'Nations: The Dice Game': 743,\n",
       " 'City of Iron': 744,\n",
       " 'Star Trek: Catan': 745,\n",
       " 'Carcassonne: Winter Edition': 746,\n",
       " 'Dungeons & Dragons Dice Masters: Battle for Faerûn': 747,\n",
       " 'Le Havre: The Inland Port': 748,\n",
       " 'Starship Catan': 749,\n",
       " 'Welcome to the Dungeon': 750,\n",
       " 'Mu & more': 751,\n",
       " 'Ascension: Immortal Heroes': 752,\n",
       " 'Merkator': 753,\n",
       " 'Sticheln': 754,\n",
       " 'Tides of Time': 755,\n",
       " 'Wars of the Roses: Lancaster vs. York': 756,\n",
       " 'Pixel Tactics': 757,\n",
       " 'Condottiere': 758,\n",
       " 'Castle Panic': 759,\n",
       " 'Sword of Rome': 760,\n",
       " 'Wyatt Earp': 761,\n",
       " 'In the Shadow of the Emperor': 762,\n",
       " \"Aladdin's Dragons\": 763,\n",
       " 'Kraftwagen': 764,\n",
       " 'Sylvion': 765,\n",
       " 'The Scepter of Zavandor': 766,\n",
       " 'Galaxy Defenders': 767,\n",
       " 'Bausack': 768,\n",
       " 'Aton': 769,\n",
       " 'Falling Sky: The Gallic Revolt Against Caesar': 770,\n",
       " 'Puzzle Strike (Third Edition)': 771,\n",
       " 'Rise of Empires': 772,\n",
       " 'Murano': 773,\n",
       " 'Ubongo': 774,\n",
       " 'Aquaretto': 775,\n",
       " 'Europe Engulfed': 776,\n",
       " 'Gravwell: Escape from the 9th Dimension': 777,\n",
       " 'Ingenious: Travel Edition': 778,\n",
       " 'Roma': 779,\n",
       " \"Smash Up: It's Your Fault!\": 780,\n",
       " 'Kremlin': 781,\n",
       " 'Power Struggle': 782,\n",
       " 'Warrior Knights': 783,\n",
       " '1856': 784,\n",
       " 'Factory Fun': 785,\n",
       " 'Starfarers of Catan': 786,\n",
       " 'Tiny Epic Quest': 787,\n",
       " 'Star Trek: Ascendancy': 788,\n",
       " 'Cartagena': 789,\n",
       " 'Power Grid: The First Sparks': 790,\n",
       " 'Rune Age': 791,\n",
       " \"The Godfather: Corleone's Empire\": 792,\n",
       " 'Dale of Merchants': 793,\n",
       " 'Saboteur': 794,\n",
       " 'Olympos': 795,\n",
       " 'Necromunda': 796,\n",
       " 'The Staufer Dynasty': 797,\n",
       " 'Room 25': 798,\n",
       " 'D-Day Dice': 799,\n",
       " 'Axis & Allies Europe 1940': 800,\n",
       " 'Spot it!': 801,\n",
       " 'Giants': 802,\n",
       " 'Blue Moon': 803,\n",
       " 'BattleTech': 804,\n",
       " 'Catacombs (third edition)': 805,\n",
       " 'The Magic Labyrinth': 806,\n",
       " 'Hostage Negotiator': 807,\n",
       " 'Fields of Green': 808,\n",
       " 'Thunderbirds': 809,\n",
       " 'Age of Renaissance': 810,\n",
       " 'Timeline: Inventions': 811,\n",
       " 'Blokus 3D': 812,\n",
       " 'Quarto': 813,\n",
       " 'Himalaya': 814,\n",
       " 'Honshu': 815,\n",
       " 'Call of Cthulhu: The Card Game': 816,\n",
       " 'High Society': 817,\n",
       " 'CV': 818,\n",
       " 'Forge War': 819,\n",
       " 'Mascarade': 820,\n",
       " 'Carolus Magnus': 821,\n",
       " \"Ca$h 'n Gun$\": 822,\n",
       " 'Warmachine Prime Mk II': 823,\n",
       " 'Star Trek: Attack Wing': 824,\n",
       " 'Ys': 825,\n",
       " 'Krosmaster: Arena': 826,\n",
       " 'The Civil War': 827,\n",
       " 'Dice City': 828,\n",
       " 'The Hunters: German U-Boats at War, 1939-43': 829,\n",
       " 'Royals': 830,\n",
       " 'Poker': 831,\n",
       " 'Coup: Rebellion G54': 832,\n",
       " 'Ad Astra': 833,\n",
       " 'The Prodigals Club': 834,\n",
       " 'Blokus Trigon': 835,\n",
       " 'Star Trek: Frontiers': 836,\n",
       " 'Successors (third edition)': 837,\n",
       " '51st State': 838,\n",
       " 'Medina (second edition)': 839,\n",
       " 'Star Wars: Epic Duels': 840,\n",
       " 'The Little Prince: Make Me a Planet': 841,\n",
       " 'Mega Civilization': 842,\n",
       " 'Battle Cry: 150th Civil War Anniversary Edition': 843,\n",
       " 'World in Flames': 844,\n",
       " 'Ghost Blitz': 845,\n",
       " 'Arctic Scavengers': 846,\n",
       " 'Space Cadets: Dice Duel': 847,\n",
       " 'Havana': 848,\n",
       " 'Ice Cool': 849,\n",
       " 'Balloon Cup': 850,\n",
       " 'TransAmerica': 851,\n",
       " 'Thunderstone Advance: Numenera': 852,\n",
       " 'Breakout: Normandy': 853,\n",
       " 'Pax Renaissance': 854,\n",
       " 'Duel of Ages II': 855,\n",
       " 'The Ancient World': 856,\n",
       " \"I'm the Boss!\": 857,\n",
       " 'A Victory Lost': 858,\n",
       " 'Turn the Tide': 859,\n",
       " 'Magic Realm': 860,\n",
       " 'Thunderstone Advance: Worlds Collide': 861,\n",
       " 'Omen: A Reign of War': 862,\n",
       " 'Onirim': 863,\n",
       " 'Middle-earth': 864,\n",
       " 'A House Divided': 865,\n",
       " 'Warhammer: Diskwars': 866,\n",
       " 'Walnut Grove': 867,\n",
       " 'Timeline: Historical Events': 868,\n",
       " 'Liberty or Death: The American Insurrection': 869,\n",
       " 'Steel Driver': 870,\n",
       " 'Dead Men Tell No Tales': 871,\n",
       " 'Fearsome Floors': 872,\n",
       " 'Kahuna': 873,\n",
       " 'The Game': 874,\n",
       " 'Gulo Gulo': 875,\n",
       " 'Lost Cities: The Board Game': 876,\n",
       " 'Traders of Osaka': 877,\n",
       " 'This War of Mine: The Board Game': 878,\n",
       " 'Helvetia': 879,\n",
       " 'Diamonds Club': 880,\n",
       " 'Outlive': 881,\n",
       " 'Empires in Arms': 882,\n",
       " 'DC Comics Deck-Building Game: Heroes Unite': 883,\n",
       " 'On the Underground': 884,\n",
       " 'Junta': 885,\n",
       " 'Fugitive': 886,\n",
       " 'Leonardo da Vinci': 887,\n",
       " 'Sleuth': 888,\n",
       " 'Pergamon': 889,\n",
       " 'Ground Floor': 890,\n",
       " 'Archaeology: The New Expedition': 891,\n",
       " 'Empire Builder': 892,\n",
       " 'Vampire: The Eternal Struggle': 893,\n",
       " 'Ulm': 894,\n",
       " 'Hab & Gut': 895,\n",
       " 'Ogre': 896,\n",
       " 'Tiny Epic Kingdoms': 897,\n",
       " 'Historia': 898,\n",
       " 'Evo (second edition)': 899,\n",
       " \"Dead Man's Draw\": 900,\n",
       " 'Eight-Minute Empire': 901,\n",
       " 'My Village': 902,\n",
       " 'Dream Home': 903,\n",
       " 'Theseus: The Dark Orbit': 904,\n",
       " 'Kodama: The Tree Spirits': 905,\n",
       " 'Marvel Dice Masters: Age of Ultron': 906,\n",
       " 'Big City': 907,\n",
       " 'Samurai Spirit': 908,\n",
       " 'Prêt-à-Porter': 909,\n",
       " 'König von Siam': 910,\n",
       " 'Plague Inc.: The Board Game': 911,\n",
       " 'Valley of the Kings: Afterlife': 912,\n",
       " 'Timeline: Diversity': 913,\n",
       " 'Codex: Card-Time Strategy – Deluxe Set': 914,\n",
       " 'Oregon': 915,\n",
       " 'Nefertiti': 916,\n",
       " 'Ascension: Rise of Vigil': 917,\n",
       " 'Dungeons & Dragons: Temple of Elemental Evil Board Game': 918,\n",
       " 'Xiangqi': 919,\n",
       " 'Exit: The Game – The Secret Lab': 920,\n",
       " 'Founding Fathers': 921,\n",
       " 'Antike Duellum': 922,\n",
       " 'Revolution!': 923,\n",
       " 'The Great Heartland Hauling Co.': 924,\n",
       " 'Android': 925,\n",
       " 'Vikings Gone Wild': 926,\n",
       " 'The Rose King': 927,\n",
       " 'Mordheim: City of the Damned': 928,\n",
       " 'Rommel in the Desert': 929,\n",
       " 'Dungeon Twister 2: Prison': 930,\n",
       " 'PitchCar Mini': 931,\n",
       " 'Smash Up: The Obligatory Cthulhu Set': 932,\n",
       " 'Exodus: Proxima Centauri': 933,\n",
       " 'Québec': 934,\n",
       " 'Watson & Holmes': 935,\n",
       " 'Villages of Valeria': 936,\n",
       " 'Castaways': 937,\n",
       " '2 de Mayo': 938,\n",
       " \"Time's Up! Deluxe\": 939,\n",
       " 'We the People': 940,\n",
       " \"Stephenson's Rocket\": 941,\n",
       " 'Pueblo': 942,\n",
       " 'Edo': 943,\n",
       " 'Napoleon: The Waterloo Campaign, 1815': 944,\n",
       " \"Nemo's War (second edition)\": 945,\n",
       " '5-Minute Dungeon': 946,\n",
       " 'Super Dungeon Explore': 947,\n",
       " \"Exit: The Game – The Pharaoh's Tomb\": 948,\n",
       " 'A Study in Emerald (second edition)': 949,\n",
       " 'Artifacts, Inc.': 950,\n",
       " 'A Fake Artist Goes to New York': 951,\n",
       " 'Manhattan': 952,\n",
       " 'Quoridor': 953,\n",
       " 'Perikles': 954,\n",
       " 'Race! Formula 90': 955,\n",
       " 'Arena: Roma II': 956,\n",
       " 'Guillotine': 957,\n",
       " 'Masmorra: Dungeons of Arcadia': 958,\n",
       " 'Legend of the Five Rings': 959,\n",
       " 'Show Manager': 960,\n",
       " 'Citadels (2016 edition)': 961,\n",
       " 'BANG!': 962,\n",
       " 'Axis & Allies Pacific 1940': 963,\n",
       " 'Escape Room: The Game': 964,\n",
       " \"Pirate's Cove\": 965,\n",
       " 'Royal Palace': 966,\n",
       " 'Lisboa': 967,\n",
       " 'Escape from the Aliens in Outer Space': 968,\n",
       " 'Porta Nigra': 969,\n",
       " 'Risk 2210 A.D.': 970,\n",
       " 'La Boca': 971,\n",
       " 'Ponzi Scheme': 972,\n",
       " 'Axis & Allies': 973,\n",
       " 'The Red Dragon Inn 2': 974,\n",
       " 'A Castle for All Seasons': 975,\n",
       " 'Sluff Off!': 976,\n",
       " 'Warriors of God': 977,\n",
       " 'Sun Tzu': 978,\n",
       " 'The Russian Campaign': 979,\n",
       " 'Stronghold (2nd edition)': 980,\n",
       " 'Eurorails': 981,\n",
       " 'RAF: The Battle of Britain 1940': 982,\n",
       " 'Heroscape Master Set:  Battle for the Underdark': 983,\n",
       " 'Inca Empire': 984,\n",
       " 'Barony': 985,\n",
       " 'Tak': 986,\n",
       " 'Confusion:  Espionage and Deception in the Cold War': 987,\n",
       " 'Agents of SMERSH': 988,\n",
       " 'Jungle Speed': 989,\n",
       " 'Babel': 990,\n",
       " 'Relic': 991,\n",
       " 'Horus Heresy (2010)': 992,\n",
       " 'Last Night on Earth: Timber Peak': 993,\n",
       " 'Wings of War: Watch Your Back!': 994,\n",
       " 'Timeline: Discoveries': 995,\n",
       " 'The Princes of Machu Picchu': 996,\n",
       " 'Wooden Ships & Iron Men': 997,\n",
       " 'Drum Roll': 998,\n",
       " 'Château Roquefort': 999,\n",
       " ...}"
      ]
     },
     "execution_count": 45,
     "metadata": {},
     "output_type": "execute_result"
    }
   ],
   "source": [
    "games_idx"
   ]
  },
  {
   "cell_type": "code",
   "execution_count": 46,
   "metadata": {},
   "outputs": [
    {
     "name": "stdout",
     "output_type": "stream",
     "text": [
      "Tic-Tac-Toe index: 13954\n"
     ]
    }
   ],
   "source": [
    "# Example showing it works. Tic-Tac-Toe is the last game in the list (rank 14221; index = 14220)\n",
    "print(\"Tic-Tac-Toe index: \" + str(games_idx['Tic-Tac-Toe']))"
   ]
  },
  {
   "cell_type": "code",
   "execution_count": 47,
   "metadata": {},
   "outputs": [
    {
     "data": {
      "text/plain": [
       "13955"
      ]
     },
     "execution_count": 47,
     "metadata": {},
     "output_type": "execute_result"
    }
   ],
   "source": [
    "len(games_idx)"
   ]
  },
  {
   "cell_type": "code",
   "execution_count": 48,
   "metadata": {},
   "outputs": [
    {
     "data": {
      "text/plain": [
       "13955"
      ]
     },
     "execution_count": 48,
     "metadata": {},
     "output_type": "execute_result"
    }
   ],
   "source": [
    "len(games)"
   ]
  },
  {
   "cell_type": "markdown",
   "metadata": {},
   "source": [
    "# Collection Vector\n",
    "\n",
    "1) Generate an empty vector of zeros\n",
    "\n",
    "2) Iterate through collection and populate the collection vector. 0 = not owned, 1 = owned"
   ]
  },
  {
   "cell_type": "code",
   "execution_count": 49,
   "metadata": {
    "collapsed": true
   },
   "outputs": [],
   "source": [
    "# Use numpy to generate the vector\n",
    "import numpy as np"
   ]
  },
  {
   "cell_type": "code",
   "execution_count": 50,
   "metadata": {
    "collapsed": true
   },
   "outputs": [],
   "source": [
    "collection = np.zeros((1,len(games_idx)))"
   ]
  },
  {
   "cell_type": "code",
   "execution_count": null,
   "metadata": {
    "collapsed": true,
    "scrolled": true
   },
   "outputs": [],
   "source": [
    "# Use TomVasel2 as example\n",
    "TomVasel2"
   ]
  },
  {
   "cell_type": "code",
   "execution_count": 52,
   "metadata": {
    "collapsed": true
   },
   "outputs": [],
   "source": [
    "# Only need the game title column\n",
    "TomVaselCollection = TomVasel2['Game']"
   ]
  },
  {
   "cell_type": "code",
   "execution_count": 53,
   "metadata": {
    "collapsed": true
   },
   "outputs": [],
   "source": [
    "# Iterate through the collection. For each game, set the collection vector value to 1\n",
    "#Account for possibility that the game in the collection does not match a game in the Bgg ranked list. If so, skip it.\n",
    "for i in range(0,len(TomVaselCollection)):\n",
    "    current_game = TomVaselCollection.iloc[i]\n",
    "    \n",
    "    if current_game in games_idx:\n",
    "        current_idx = games_idx[current_game]\n",
    "        collection[0,current_idx] = 1\n",
    "    "
   ]
  },
  {
   "cell_type": "code",
   "execution_count": 54,
   "metadata": {},
   "outputs": [
    {
     "data": {
      "text/plain": [
       "array([[ 0.,  0.,  0., ...,  0.,  0.,  0.]])"
      ]
     },
     "execution_count": 54,
     "metadata": {},
     "output_type": "execute_result"
    }
   ],
   "source": [
    "collection"
   ]
  },
  {
   "cell_type": "code",
   "execution_count": 55,
   "metadata": {},
   "outputs": [
    {
     "data": {
      "text/plain": [
       "1511"
      ]
     },
     "execution_count": 55,
     "metadata": {},
     "output_type": "execute_result"
    }
   ],
   "source": [
    "games_idx['10 Days in Africa']"
   ]
  },
  {
   "cell_type": "code",
   "execution_count": 56,
   "metadata": {},
   "outputs": [
    {
     "data": {
      "text/plain": [
       "1.0"
      ]
     },
     "execution_count": 56,
     "metadata": {},
     "output_type": "execute_result"
    }
   ],
   "source": [
    "collection[0,1511]"
   ]
  },
  {
   "cell_type": "markdown",
   "metadata": {},
   "source": [
    "# Games2Vec function"
   ]
  },
  {
   "cell_type": "code",
   "execution_count": 57,
   "metadata": {
    "collapsed": true
   },
   "outputs": [],
   "source": [
    "def games2vec(user_collection, games_dict):\n",
    "    '''Take the user collection (game titles series) and game title dictionary as input.\n",
    "    Output a vector representation of the collection.\n",
    "    All mismatched game titles will be ignored.'''\n",
    "    \n",
    "    # Use numpy to generate the vector\n",
    "    import numpy as np\n",
    "    \n",
    "    # Set up unpopulated vector of 0's\n",
    "    collection = np.zeros((1,len(games_dict)))\n",
    "    \n",
    "    for i in range(0,len(user_collection)):\n",
    "        current_game = user_collection.iloc[i]\n",
    "        \n",
    "        if current_game in games_dict:\n",
    "            current_idx = games_dict[current_game]\n",
    "            collection[0, current_idx] = 1\n",
    "    \n",
    "    return collection"
   ]
  },
  {
   "cell_type": "code",
   "execution_count": 58,
   "metadata": {
    "collapsed": true
   },
   "outputs": [],
   "source": [
    "test = games2vec(TomVasel2['Game'],games_idx)"
   ]
  },
  {
   "cell_type": "code",
   "execution_count": 59,
   "metadata": {},
   "outputs": [
    {
     "data": {
      "text/plain": [
       "True"
      ]
     },
     "execution_count": 59,
     "metadata": {},
     "output_type": "execute_result"
    }
   ],
   "source": [
    "(test == collection).all() #Validate function output same as specific instant output"
   ]
  },
  {
   "cell_type": "markdown",
   "metadata": {},
   "source": [
    "# Games Dictionary function\n",
    "\n",
    "Just to have it so we don't have to hardcode it every time"
   ]
  },
  {
   "cell_type": "code",
   "execution_count": 60,
   "metadata": {
    "collapsed": true
   },
   "outputs": [],
   "source": [
    "def bgg_dict():\n",
    "    import pandas as pd\n",
    "    # Create dictionary of all games. From previous webscraping, we have a csv with all ranked games on BGG. We'll limit our recommendations to games on the list.\n",
    "    games_list = pd.read_csv('bgg id output.csv')\n",
    "\n",
    "    # Remove all NaN rows\n",
    "    games_list.dropna(axis=0,how='any',inplace=True)\n",
    "    games_list.reset_index(drop=True,inplace=True)\n",
    "\n",
    "    # There are repeat titles in the list. Remove them.\n",
    "    rep_games_idx = games_list[games_list['Game'].duplicated()].index.tolist() #Returns the indices of all repeat titles. This list does NOT include the first appearance\n",
    "    games_list.drop(games_list.index[rep_games_idx],inplace=True)\n",
    "    games_list.reset_index(drop=True,inplace=True)\n",
    "\n",
    "    # Get just the titles\n",
    "    games = games_list['Game']\n",
    "\n",
    "    # Create empty dictionary\n",
    "    games_idx = dict()\n",
    "\n",
    "    # The dictionary games_idx will use Game Titles as the key and a number as the value\n",
    "    for i in range(0,len(games)):\n",
    "        game_title = games[i]\n",
    "        games_idx[game_title] = i\n",
    "\n",
    "    return games_idx"
   ]
  },
  {
   "cell_type": "code",
   "execution_count": 61,
   "metadata": {
    "collapsed": true
   },
   "outputs": [],
   "source": [
    "games_dict = bgg_dict()"
   ]
  },
  {
   "cell_type": "markdown",
   "metadata": {},
   "source": [
    "# Create all predictor vectors and predicted vectors\n",
    "\n",
    "Iterate through the collection vector and return all possible vectors. All other games in the collection will predict the existance of the current game.\n",
    "\n",
    "For example, if a collection has [A, B, C, D], then [A,B,C] predicts [D], [B,C,D] predicts [A], etc."
   ]
  },
  {
   "cell_type": "code",
   "execution_count": 62,
   "metadata": {},
   "outputs": [
    {
     "data": {
      "text/plain": [
       "array([[ 0.,  0.,  0., ...,  0.,  0.,  0.]])"
      ]
     },
     "execution_count": 62,
     "metadata": {},
     "output_type": "execute_result"
    }
   ],
   "source": [
    "collection"
   ]
  },
  {
   "cell_type": "code",
   "execution_count": 63,
   "metadata": {
    "collapsed": true
   },
   "outputs": [],
   "source": [
    "# Find all indices in the collection array with value=1\n",
    "in_collection = np.nonzero(collection)[1] #returns index of nonzeros (aka value=1) of collection array"
   ]
  },
  {
   "cell_type": "code",
   "execution_count": 64,
   "metadata": {},
   "outputs": [
    {
     "data": {
      "text/plain": [
       "255"
      ]
     },
     "execution_count": 64,
     "metadata": {},
     "output_type": "execute_result"
    }
   ],
   "source": [
    "len(in_collection)"
   ]
  },
  {
   "cell_type": "code",
   "execution_count": 65,
   "metadata": {
    "scrolled": true
   },
   "outputs": [
    {
     "data": {
      "text/plain": [
       "array([   10,    11,    16,    18,    22,    25,    26,    29,    37,\n",
       "          41,    42,    43,    44,    48,    49,    51,    57,    62,\n",
       "          64,    66,    67,    71,    72,    74,    78,    80,    87,\n",
       "          93,    99,   105,   108,   111,   114,   115,   117,   120,\n",
       "         127,   132,   134,   141,   153,   159,   161,   165,   166,\n",
       "         172,   173,   178,   193,   195,   200,   203,   206,   209,\n",
       "         213,   232,   235,   237,   239,   242,   244,   245,   257,\n",
       "         267,   270,   271,   275,   276,   286,   289,   298,   301,\n",
       "         302,   303,   304,   309,   318,   320,   330,   333,   337,\n",
       "         338,   340,   343,   347,   354,   358,   359,   372,   378,\n",
       "         386,   403,   412,   440,   448,   452,   465,   466,   467,\n",
       "         472,   478,   485,   508,   510,   530,   537,   566,   567,\n",
       "         571,   580,   585,   590,   595,   604,   609,   610,   624,\n",
       "         679,   681,   689,   693,   701,   706,   718,   723,   748,\n",
       "         749,   757,   763,   826,   830,   847,   855,   884,   888,\n",
       "         923,   930,   933,   938,   952,   968,   988,   990,  1020,\n",
       "        1049,  1066,  1075,  1091,  1101,  1131,  1133,  1137,  1184,\n",
       "        1188,  1204,  1209,  1233,  1298,  1371,  1372,  1386,  1396,\n",
       "        1398,  1450,  1471,  1482,  1494,  1511,  1545,  1560,  1570,\n",
       "        1572,  1580,  1589,  1590,  1644,  1650,  1657,  1664,  1666,\n",
       "        1728,  1743,  1753,  1768,  1781,  1786,  1791,  1800,  1827,\n",
       "        1854,  1862,  1881,  1922,  1942,  1943,  2038,  2050,  2113,\n",
       "        2149,  2152,  2164,  2248,  2252,  2271,  2307,  2336,  2370,\n",
       "        2375,  2387,  2414,  2553,  2563,  2583,  2615,  2719,  2731,\n",
       "        2772,  2773,  2806,  2822,  2969,  3175,  3341,  3471,  3502,\n",
       "        3575,  3595,  4188,  4365,  4430,  4450,  4547,  5035,  5128,\n",
       "        5254,  5348,  5404,  5918,  6418,  6704,  6907,  6956,  6979,\n",
       "        7006,  7012,  7195,  7197,  8972,  9585,  9619, 10031, 11011,\n",
       "       11043, 11207, 12371], dtype=int64)"
      ]
     },
     "execution_count": 65,
     "metadata": {},
     "output_type": "execute_result"
    }
   ],
   "source": [
    "in_collection"
   ]
  },
  {
   "cell_type": "code",
   "execution_count": 66,
   "metadata": {
    "collapsed": true
   },
   "outputs": [],
   "source": [
    "# Create predictor vectors and predicted vectors\n",
    "#Iterate through every game in the collection, indices given by in_collection\n",
    "#Set value at the current index to 0 for predictor vector\n",
    "#Set a predicted vector to have 1 at the current index\n",
    "\n",
    "# Create two empty np arrays. #Rows = #Games in collection. #Columns = #Game Titles\n",
    "predictor = np.empty([len(in_collection), len(games_idx)])\n",
    "predicted = np.zeros([len(in_collection), len(games_idx)])\n",
    "\n",
    "for i in range(0,len(in_collection)):\n",
    "    # Index of current game\n",
    "    current_game = in_collection[i]\n",
    "    \n",
    "#     # Create copy of the collection\n",
    "#     curr_predictor = np.copy(collection)\n",
    "#    # Set current boardgame value to 0 in predictor\n",
    "#    curr_predictor[0,current_game] = 0\n",
    "    \n",
    "    # Set values in current predictor row to collection\n",
    "    predictor[i,:] = collection\n",
    "    # Set current boardgame value to 0 in predictor\n",
    "    predictor[i,current_game] = 0\n",
    "    \n",
    "    # Set current boardgame in predicted vector to 1    \n",
    "    predicted[i,current_game] = 1"
   ]
  },
  {
   "cell_type": "code",
   "execution_count": 67,
   "metadata": {
    "scrolled": true
   },
   "outputs": [
    {
     "data": {
      "text/plain": [
       "array([   10,    11,    16,    22,    25,    26,    29,    37,    41,\n",
       "          42,    43,    44,    48,    49,    51,    57,    62,    64,\n",
       "          66,    67,    71,    72,    74,    78,    80,    87,    93,\n",
       "          99,   105,   108,   111,   114,   115,   117,   120,   127,\n",
       "         132,   134,   141,   153,   159,   161,   165,   166,   172,\n",
       "         173,   178,   193,   195,   200,   203,   206,   209,   213,\n",
       "         232,   235,   237,   239,   242,   244,   245,   257,   267,\n",
       "         270,   271,   275,   276,   286,   289,   298,   301,   302,\n",
       "         303,   304,   309,   318,   320,   330,   333,   337,   338,\n",
       "         340,   343,   347,   354,   358,   359,   372,   378,   386,\n",
       "         403,   412,   440,   448,   452,   465,   466,   467,   472,\n",
       "         478,   485,   508,   510,   530,   537,   566,   567,   571,\n",
       "         580,   585,   590,   595,   604,   609,   610,   624,   679,\n",
       "         681,   689,   693,   701,   706,   718,   723,   748,   749,\n",
       "         757,   763,   826,   830,   847,   855,   884,   888,   923,\n",
       "         930,   933,   938,   952,   968,   988,   990,  1020,  1049,\n",
       "        1066,  1075,  1091,  1101,  1131,  1133,  1137,  1184,  1188,\n",
       "        1204,  1209,  1233,  1298,  1371,  1372,  1386,  1396,  1398,\n",
       "        1450,  1471,  1482,  1494,  1511,  1545,  1560,  1570,  1572,\n",
       "        1580,  1589,  1590,  1644,  1650,  1657,  1664,  1666,  1728,\n",
       "        1743,  1753,  1768,  1781,  1786,  1791,  1800,  1827,  1854,\n",
       "        1862,  1881,  1922,  1942,  1943,  2038,  2050,  2113,  2149,\n",
       "        2152,  2164,  2248,  2252,  2271,  2307,  2336,  2370,  2375,\n",
       "        2387,  2414,  2553,  2563,  2583,  2615,  2719,  2731,  2772,\n",
       "        2773,  2806,  2822,  2969,  3175,  3341,  3471,  3502,  3575,\n",
       "        3595,  4188,  4365,  4430,  4450,  4547,  5035,  5128,  5254,\n",
       "        5348,  5404,  5918,  6418,  6704,  6907,  6956,  6979,  7006,\n",
       "        7012,  7195,  7197,  8972,  9585,  9619, 10031, 11011, 11043,\n",
       "       11207, 12371], dtype=int64)"
      ]
     },
     "execution_count": 67,
     "metadata": {},
     "output_type": "execute_result"
    }
   ],
   "source": [
    "np.nonzero(predictor[3,:])[0]"
   ]
  },
  {
   "cell_type": "code",
   "execution_count": 68,
   "metadata": {},
   "outputs": [
    {
     "data": {
      "text/plain": [
       "(array([18], dtype=int64),)"
      ]
     },
     "execution_count": 68,
     "metadata": {},
     "output_type": "execute_result"
    }
   ],
   "source": [
    "np.nonzero(predicted[3,:])"
   ]
  },
  {
   "cell_type": "markdown",
   "metadata": {},
   "source": [
    "# Predictor and Predicted Array functions"
   ]
  },
  {
   "cell_type": "code",
   "execution_count": 69,
   "metadata": {
    "collapsed": true
   },
   "outputs": [],
   "source": [
    "def generate_training(collection, games_dict):\n",
    "    \"\"\"Takes a user's collection as input along with the games dictionary.\n",
    "    Outputs a matrix where each row is the training vector (predictor) for a game\n",
    "    and another matrix where each row is the expected vector (predicted)\"\"\"\n",
    "    \n",
    "    import numpy as np\n",
    "    \n",
    "    # Find all indices in the collection array with value=1\n",
    "    in_collection = np.nonzero(collection)[1] #returns index of nonzeros (aka value=1) of collection array\n",
    "\n",
    "    # Create predictor vectors and predicted vectors\n",
    "    #Iterate through every game in the collection, indices given by in_collection\n",
    "    #Set value at the current index to 0 for predictor vector\n",
    "    #Set a predicted vector to have 1 at the current index\n",
    "\n",
    "    # Create two empty np arrays. #Rows = #Games in collection. #Columns = #Game Titles\n",
    "    predictor = np.empty([len(in_collection), len(games_dict)])\n",
    "    predicted = np.zeros([len(in_collection), len(games_dict)])\n",
    "\n",
    "    for i in range(0,len(in_collection)):\n",
    "        # Index of current game\n",
    "        current_game = in_collection[i]\n",
    "\n",
    "    #     # Create copy of the collection\n",
    "    #     curr_predictor = np.copy(collection)\n",
    "    #    # Set current boardgame value to 0 in predictor\n",
    "    #    curr_predictor[0,current_game] = 0\n",
    "\n",
    "        # Set values in current predictor row to collection\n",
    "        predictor[i,:] = collection\n",
    "        # Set current boardgame value to 0 in predictor\n",
    "        predictor[i,current_game] = 0\n",
    "\n",
    "        # Set current boardgame in predicted vector to 1    \n",
    "        predicted[i,current_game] = 1\n",
    "    \n",
    "    return predictor, predicted"
   ]
  },
  {
   "cell_type": "code",
   "execution_count": 70,
   "metadata": {
    "collapsed": true
   },
   "outputs": [],
   "source": [
    "# Test the function against manual code outputs\n",
    "a, b = generate_training(collection, games_idx)"
   ]
  },
  {
   "cell_type": "code",
   "execution_count": 71,
   "metadata": {
    "scrolled": true
   },
   "outputs": [
    {
     "data": {
      "text/plain": [
       "array([   10,    11,    16,    22,    25,    26,    29,    37,    41,\n",
       "          42,    43,    44,    48,    49,    51,    57,    62,    64,\n",
       "          66,    67,    71,    72,    74,    78,    80,    87,    93,\n",
       "          99,   105,   108,   111,   114,   115,   117,   120,   127,\n",
       "         132,   134,   141,   153,   159,   161,   165,   166,   172,\n",
       "         173,   178,   193,   195,   200,   203,   206,   209,   213,\n",
       "         232,   235,   237,   239,   242,   244,   245,   257,   267,\n",
       "         270,   271,   275,   276,   286,   289,   298,   301,   302,\n",
       "         303,   304,   309,   318,   320,   330,   333,   337,   338,\n",
       "         340,   343,   347,   354,   358,   359,   372,   378,   386,\n",
       "         403,   412,   440,   448,   452,   465,   466,   467,   472,\n",
       "         478,   485,   508,   510,   530,   537,   566,   567,   571,\n",
       "         580,   585,   590,   595,   604,   609,   610,   624,   679,\n",
       "         681,   689,   693,   701,   706,   718,   723,   748,   749,\n",
       "         757,   763,   826,   830,   847,   855,   884,   888,   923,\n",
       "         930,   933,   938,   952,   968,   988,   990,  1020,  1049,\n",
       "        1066,  1075,  1091,  1101,  1131,  1133,  1137,  1184,  1188,\n",
       "        1204,  1209,  1233,  1298,  1371,  1372,  1386,  1396,  1398,\n",
       "        1450,  1471,  1482,  1494,  1511,  1545,  1560,  1570,  1572,\n",
       "        1580,  1589,  1590,  1644,  1650,  1657,  1664,  1666,  1728,\n",
       "        1743,  1753,  1768,  1781,  1786,  1791,  1800,  1827,  1854,\n",
       "        1862,  1881,  1922,  1942,  1943,  2038,  2050,  2113,  2149,\n",
       "        2152,  2164,  2248,  2252,  2271,  2307,  2336,  2370,  2375,\n",
       "        2387,  2414,  2553,  2563,  2583,  2615,  2719,  2731,  2772,\n",
       "        2773,  2806,  2822,  2969,  3175,  3341,  3471,  3502,  3575,\n",
       "        3595,  4188,  4365,  4430,  4450,  4547,  5035,  5128,  5254,\n",
       "        5348,  5404,  5918,  6418,  6704,  6907,  6956,  6979,  7006,\n",
       "        7012,  7195,  7197,  8972,  9585,  9619, 10031, 11011, 11043,\n",
       "       11207, 12371], dtype=int64)"
      ]
     },
     "execution_count": 71,
     "metadata": {},
     "output_type": "execute_result"
    }
   ],
   "source": [
    "np.nonzero(a[3,:])[0]"
   ]
  },
  {
   "cell_type": "code",
   "execution_count": 72,
   "metadata": {},
   "outputs": [
    {
     "data": {
      "text/plain": [
       "(array([18], dtype=int64),)"
      ]
     },
     "execution_count": 72,
     "metadata": {},
     "output_type": "execute_result"
    }
   ],
   "source": [
    "np.nonzero(b[3,:])"
   ]
  },
  {
   "cell_type": "markdown",
   "metadata": {
    "collapsed": true
   },
   "source": [
    "# Get some Collections"
   ]
  },
  {
   "cell_type": "code",
   "execution_count": 34,
   "metadata": {
    "collapsed": true,
    "scrolled": true
   },
   "outputs": [],
   "source": [
    "#UserCollection('')"
   ]
  },
  {
   "cell_type": "markdown",
   "metadata": {
    "collapsed": true
   },
   "source": [
    "# Convert Collections to single dataset\n",
    "\n",
    "At this point, collected 211 users. Listed under playerlist.xlsx\n",
    "\n",
    "1) Take list, iterate through every player\n",
    "\n",
    "A) Clean up player collection with RatingThreshold(collection)\n",
    "\n",
    "B) Convert to vector with games2vec(user_collection, bgg_dict). Use bgg_dict() to generate dictionary.\n",
    "\n",
    "C) Create all the training samples using generate_training(collection, bgg_dict).\n",
    "\n",
    "2) Store full training set as a loadable matrix."
   ]
  },
  {
   "cell_type": "code",
   "execution_count": 18,
   "metadata": {
    "collapsed": true
   },
   "outputs": [],
   "source": [
    "#Need to rewrite Rating Threshold to work with the csv files.\n",
    "#Since the csv files load in N/A values as NaN, we just need to change each\n",
    "#N/A to isnull() checks\n",
    "\n",
    "def RatingThreshold(collection):\n",
    "    \n",
    "    print('Collection Size start: ' + str(collection.shape[0]))\n",
    "    \n",
    "    # First remove any games that have no User Rating and no BGG rating\n",
    "    na_idx = collection[(collection['User rating'].isnull()) & (collection['BGG rating'].isnull())].index.tolist() #Grab indices of N/A User and BGG rating rows\n",
    "    collection.drop(collection.index[na_idx], inplace=True)\n",
    "    \n",
    "    print('Collection Size after removing N/A ratings: ' + str(collection.shape[0]))\n",
    "    \n",
    "    # Remove any games with User rating < 7\n",
    "    #Ratings are stored as strings to account for N/A rating\n",
    "    #Convert column to numeric using pandas to_numeric function\n",
    "    #Set errors to 'coerce' which turns non-numeric strings to NaN values, which will work for numeric comparisons\n",
    "\n",
    "    #Keep if User rating == N/A (for BGG based comparison) and User rating >= 7\n",
    "    collection = collection[(collection['User rating'].isnull()) | (pd.to_numeric(collection['User rating'], errors='coerce') >= 7)]\n",
    "    \n",
    "    print('Collection Size after removing low User ratings: ' + str(collection.shape[0]))\n",
    "    \n",
    "    #Reset index\n",
    "    collection.reset_index(drop=True, inplace=True)\n",
    "    \n",
    "    # Remove any games with BGG rating < 7 (if there is no User Rating)\n",
    "    #Similarly, convert BGG rating column to_numeric\n",
    "    #Find row indices where User rating == N/A and BGG rating < 7\n",
    "    #Drop relevant rows from DataFrame\n",
    "    low_bgg_idx = collection[(collection['User rating'].isnull()) & (pd.to_numeric(collection['BGG rating'], errors='coerce') < 7)].index.tolist()\n",
    "    collection.drop(collection.index[low_bgg_idx],inplace=True)\n",
    "    \n",
    "    collection.reset_index(drop=True, inplace=True)\n",
    "    \n",
    "    print('Collection Size after removing low BGG ratings (if no User rating available): ' + str(collection.shape[0]))\n",
    "    \n",
    "    return collection"
   ]
  },
  {
   "cell_type": "code",
   "execution_count": 19,
   "metadata": {
    "collapsed": true
   },
   "outputs": [],
   "source": [
    "playerlist = pd.read_excel('playerlist.xlsx')"
   ]
  },
  {
   "cell_type": "code",
   "execution_count": null,
   "metadata": {
    "collapsed": true,
    "scrolled": true
   },
   "outputs": [],
   "source": [
    "playerlist['Username'].iloc[-1]"
   ]
  },
  {
   "cell_type": "code",
   "execution_count": 21,
   "metadata": {
    "collapsed": true
   },
   "outputs": [],
   "source": [
    "games = bgg_dict()"
   ]
  },
  {
   "cell_type": "code",
   "execution_count": 22,
   "metadata": {},
   "outputs": [
    {
     "data": {
      "text/plain": [
       "2"
      ]
     },
     "execution_count": 22,
     "metadata": {},
     "output_type": "execute_result"
    }
   ],
   "source": [
    "len(games)"
   ]
  },
  {
   "cell_type": "code",
   "execution_count": null,
   "metadata": {
    "collapsed": true
   },
   "outputs": [],
   "source": [
    "games = bgg_dict()[0]\n",
    "#training_data = np.empty([1,len(games)])\n",
    "#exp_output_data = np.empty([1,len(games)])\n",
    "training_row = 0\n",
    "ct = 1\n",
    "\n",
    "print(training_row)\n",
    "\n",
    "for user in playerlist['Username']:\n",
    "    # Get the user file\n",
    "    print(str(ct) + ': ' + str(user))\n",
    "    file = str(user) + '_raw.csv'\n",
    "    user_collection = pd.read_csv(file, sep='\\t', encoding='ISO-8859-1')\n",
    "    \n",
    "    # Drop the column 'Unnamed: 0' that is used to number the rows\n",
    "    user_collection.drop('Unnamed: 0', inplace=True, axis=1)\n",
    "    \n",
    "    # Apply RatingThreshold\n",
    "    user_collection_cleaned = RatingThreshold(user_collection)\n",
    "    \n",
    "    \n",
    "     # Check if user has more than 1 game after cleaning the collection\n",
    "    if user_collection_cleaned.shape[0] == 1:\n",
    "        print('Less than 1 game added')\n",
    "    else:\n",
    "        # Vectorize the collection\n",
    "        user_vector = games2vec(user_collection_cleaned['Game'], games)\n",
    "\n",
    "        # Generate training set\n",
    "        user_input, user_exp_output = generate_training(user_vector,games)\n",
    "\n",
    "        if ct == 1:\n",
    "            training_data = user_input\n",
    "            exp_output_data = user_exp_output\n",
    "        else:\n",
    "            # Append user's data to the master list\n",
    "            training_data = np.concatenate((training_data, user_input),axis=0)\n",
    "            exp_output_data = np.concatenate((exp_output_data, user_exp_output), axis=0)\n",
    "\n",
    "        training_row = training_row + user_input.shape[0]\n",
    "        print(user_input.shape[0])\n",
    "        print(training_row)\n",
    "        print(training_data.shape[0])\n",
    "\n",
    "    ct = ct + 1\n",
    "    print('\\n')"
   ]
  },
  {
   "cell_type": "code",
   "execution_count": 28,
   "metadata": {},
   "outputs": [
    {
     "name": "stdout",
     "output_type": "stream",
     "text": [
      "(8798, 13955)\n",
      "(8798, 13955)\n",
      "8798\n",
      "13955\n"
     ]
    }
   ],
   "source": [
    "print(exp_output_data.shape)\n",
    "print(training_data.shape)\n",
    "print(training_row)\n",
    "print(len(games))\n",
    "\n",
    "# Expect 8798 training samples from 211 user collections\n",
    "# Bgg dictionary consists of 13955 ranked games"
   ]
  },
  {
   "cell_type": "code",
   "execution_count": 97,
   "metadata": {
    "scrolled": true
   },
   "outputs": [
    {
     "data": {
      "text/plain": [
       "1.0"
      ]
     },
     "execution_count": 97,
     "metadata": {},
     "output_type": "execute_result"
    }
   ],
   "source": [
    "exp_output_data[0][10]\n",
    "\n"
   ]
  },
  {
   "cell_type": "code",
   "execution_count": 31,
   "metadata": {},
   "outputs": [
    {
     "name": "stdout",
     "output_type": "stream",
     "text": [
      "10\n",
      "Caverna: The Cave Farmers\n"
     ]
    }
   ],
   "source": [
    "#First training sample expected output is game #10\n",
    "print(np.where(exp_output_data[0] != 0)[0][0])\n",
    "\n",
    "#This is the equivalent of Caverna: The Cave Farmers\n",
    "games_decode = bgg_dict()[1]\n",
    "print(games_decode[10])"
   ]
  }
 ],
 "metadata": {
  "anaconda-cloud": {},
  "kernelspec": {
   "display_name": "Python [Anaconda3]",
   "language": "python",
   "name": "Python [Anaconda3]"
  },
  "language_info": {
   "codemirror_mode": {
    "name": "ipython",
    "version": 3
   },
   "file_extension": ".py",
   "mimetype": "text/x-python",
   "name": "python",
   "nbconvert_exporter": "python",
   "pygments_lexer": "ipython3",
   "version": "3.5.1"
  }
 },
 "nbformat": 4,
 "nbformat_minor": 2
}
